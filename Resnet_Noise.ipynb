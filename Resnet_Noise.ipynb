{
  "nbformat": 4,
  "nbformat_minor": 0,
  "metadata": {
    "colab": {
      "name": "Resnet_Noise.ipynb",
      "provenance": [],
      "collapsed_sections": []
    },
    "kernelspec": {
      "display_name": "Python 3",
      "language": "python",
      "name": "python3"
    },
    "language_info": {
      "codemirror_mode": {
        "name": "ipython",
        "version": 3
      },
      "file_extension": ".py",
      "mimetype": "text/x-python",
      "name": "python",
      "nbconvert_exporter": "python",
      "pygments_lexer": "ipython3",
      "version": "3.7.6"
    }
  },
  "cells": [
    {
      "cell_type": "code",
      "metadata": {
        "id": "16pXmcb8a57D"
      },
      "source": [
        "import os\n",
        "os.environ['CUDA_VISIBLE_DEVICES'] = '0'\n",
        "import cv2\n",
        "import tensorflow as tf\n",
        "import tensorflow.keras\n",
        "from tensorflow.keras import datasets, layers, models\n",
        "from tensorflow.keras.models import Sequential, load_model, Model\n",
        "from tensorflow.keras.layers import Input, Add, Dense, Activation, ZeroPadding2D, Dropout, Flatten,Conv2D, MaxPooling2D,BatchNormalization,AveragePooling2D\n",
        "from tensorflow.keras.initializers import glorot_uniform\n",
        "from tensorflow.keras.utils import plot_model\n",
        "from IPython.display import SVG\n",
        "# from tensorflow.keras.utils.vis_utils import model_to_dot\n",
        "import tensorflow.keras.backend as K \n",
        "import matplotlib.pyplot as plt\n",
        "import numpy as np"
      ],
      "execution_count": 1,
      "outputs": []
    },
    {
      "cell_type": "code",
      "metadata": {
        "id": "yKJG1xA4a57K",
        "colab": {
          "base_uri": "https://localhost:8080/"
        },
        "outputId": "3ad61ebd-32aa-4d1d-936e-8773caf4b817"
      },
      "source": [
        "# Load Data\n",
        "\n",
        "(X_train, y_train), (X_test,y_test) = datasets.cifar10.load_data()"
      ],
      "execution_count": 2,
      "outputs": [
        {
          "output_type": "stream",
          "text": [
            "Downloading data from https://www.cs.toronto.edu/~kriz/cifar-10-python.tar.gz\n",
            "170500096/170498071 [==============================] - 4s 0us/step\n"
          ],
          "name": "stdout"
        }
      ]
    },
    {
      "cell_type": "code",
      "metadata": {
        "id": "0LqVxLWXa57K"
      },
      "source": [
        "CLASS_NAMES= ['airplane', 'automobile', 'bird', 'cat', 'deer', 'dog', 'frog', 'horse', 'ship', 'truck']"
      ],
      "execution_count": 3,
      "outputs": []
    },
    {
      "cell_type": "code",
      "metadata": {
        "id": "kCsTDzAL1ZOG"
      },
      "source": [
        "X_train = X_train.astype('float32') / 255.\n",
        "X_test = X_test.astype('float32') / 255."
      ],
      "execution_count": 4,
      "outputs": []
    },
    {
      "cell_type": "code",
      "metadata": {
        "id": "K6HZ2eGHa57L"
      },
      "source": [
        "#Train-validation-test split\n",
        "\n",
        "X_val, y_val = X_train[:5000], y_train[:5000]\n",
        "X_train, y_train = X_train[5000:], y_train[5000:]"
      ],
      "execution_count": 5,
      "outputs": []
    },
    {
      "cell_type": "code",
      "metadata": {
        "id": "Ke5hJ1ada57N"
      },
      "source": [
        "#Onehot Encoding the labels.\n",
        "\n",
        "from sklearn.utils.multiclass import unique_labels\n",
        "from tensorflow.keras.utils import to_categorical"
      ],
      "execution_count": 6,
      "outputs": []
    },
    {
      "cell_type": "code",
      "metadata": {
        "id": "9vp-uzxTa57O"
      },
      "source": [
        "#Since we have 10 classes we should expect the shape[1] of y_train,y_val and y_test to change from 1 to 10\n",
        "\n",
        "y_train=to_categorical(y_train)\n",
        "y_val=to_categorical(y_val)\n",
        "y_test=to_categorical(y_test)"
      ],
      "execution_count": 7,
      "outputs": []
    },
    {
      "cell_type": "code",
      "metadata": {
        "id": "wU-cb0OR1ZOI"
      },
      "source": [
        "def add_noise_and_clip_data(data):\n",
        "   noise = np.random.normal(loc=0.0, scale=0.1, size=data.shape)\n",
        "   data = data + noise\n",
        "   data = np.clip(data, 0., 1.)\n",
        "   return data"
      ],
      "execution_count": 8,
      "outputs": []
    },
    {
      "cell_type": "code",
      "metadata": {
        "id": "PPKf5ER51ZOI"
      },
      "source": [
        "X_train_noisy = add_noise_and_clip_data(X_train)\n",
        "# X_test_noisy = add_noise_and_clip_data(X_test)\n",
        "X_val_noisy = add_noise_and_clip_data(X_val)"
      ],
      "execution_count": 9,
      "outputs": []
    },
    {
      "cell_type": "code",
      "metadata": {
        "id": "n5icG0XP1ZOJ",
        "colab": {
          "base_uri": "https://localhost:8080/",
          "height": 216
        },
        "outputId": "7a7ede4e-8fe9-4d42-efaa-4e1d8a5d3ea7"
      },
      "source": [
        "idx = 4\n",
        "plt.subplot(1,2,1)\n",
        "plt.imshow(X_train[idx])\n",
        "plt.title('Original image')\n",
        "plt.subplot(1,2,2)\n",
        "plt.imshow(X_train_noisy[idx])\n",
        "plt.title('Image with noise')\n",
        "plt.show()"
      ],
      "execution_count": 10,
      "outputs": [
        {
          "output_type": "display_data",
          "data": {
            "image/png": "[encoded data removed]",
            "text/plain": [
              "<Figure size 432x288 with 2 Axes>"
            ]
          },
          "metadata": {
            "tags": [],
            "needs_background": "light"
          }
        }
      ]
    },
    {
      "cell_type": "code",
      "metadata": {
        "id": "fafk6pgpa57O"
      },
      "source": [
        "#Image Data Augmentation\n",
        "\n",
        "from tensorflow.keras.preprocessing.image import ImageDataGenerator\n",
        "\n",
        "train_generator = ImageDataGenerator(rotation_range=2, horizontal_flip=True,zoom_range=.1 )\n",
        "\n",
        "val_generator = ImageDataGenerator(rotation_range=2, horizontal_flip=True,zoom_range=.1)\n",
        "\n",
        "test_generator = ImageDataGenerator(rotation_range=2, horizontal_flip= True,zoom_range=.1)"
      ],
      "execution_count": 11,
      "outputs": []
    },
    {
      "cell_type": "code",
      "metadata": {
        "id": "SpDwscdca57O"
      },
      "source": [
        "#Fitting the augmentation defined above to the data\n",
        "\n",
        "train_generator.fit(X_train_noisy)\n",
        "val_generator.fit(X_val_noisy)\n",
        "# test_ds = test_generator.fit(X_test)"
      ],
      "execution_count": 12,
      "outputs": []
    },
    {
      "cell_type": "code",
      "metadata": {
        "id": "3Sy7AzDwa57S"
      },
      "source": [
        "ROWS = 32\n",
        "COLS = 32\n",
        "CHANNELS = 3\n",
        "CLASSES = 10"
      ],
      "execution_count": 13,
      "outputs": []
    },
    {
      "cell_type": "code",
      "metadata": {
        "id": "1LvmAtETa57S"
      },
      "source": [
        "def identity_block(X, f, filters, stage, block):\n",
        "    # defining name basis\n",
        "    conv_name_base = 'res' + str(stage) + block + '_branch'\n",
        "    bn_name_base = 'bn' + str(stage) + block + '_branch'\n",
        "\n",
        "    # Retrieve Filters\n",
        "    F1, F2, F3 = filters\n",
        "\n",
        "    # Save the input value. We'll need this later to add back to the main path. \n",
        "    X_shortcut = X\n",
        "\n",
        "    # First component of main path\n",
        "    X = Conv2D(filters = F1, kernel_size = (1, 1), strides = (1,1), padding = 'valid', name = conv_name_base + '2a', kernel_initializer = glorot_uniform(seed=0))(X)\n",
        "    X = BatchNormalization(axis = 3, name = bn_name_base + '2a')(X)\n",
        "    X = Activation('relu')(X)\n",
        "\n",
        "    # Second component of main path\n",
        "    X = Conv2D(filters = F2, kernel_size = (f, f), strides = (1,1), padding = 'same', name = conv_name_base + '2b', kernel_initializer = glorot_uniform(seed=0))(X)\n",
        "    X = BatchNormalization(axis = 3, name = bn_name_base + '2b')(X)\n",
        "    X = Activation('relu')(X)\n",
        "\n",
        "    # Third component of main path\n",
        "    X = Conv2D(filters = F3, kernel_size = (1, 1), strides = (1,1), padding = 'valid', name = conv_name_base + '2c', kernel_initializer = glorot_uniform(seed=0))(X)\n",
        "    X = BatchNormalization(axis = 3, name = bn_name_base + '2c')(X)\n",
        "\n",
        "    # Final step: Add shortcut value to main path, and pass it through a RELU activation\n",
        "    X = Add()([X, X_shortcut])\n",
        "    X = Activation('relu')(X)\n",
        "\n",
        "    return X"
      ],
      "execution_count": 14,
      "outputs": []
    },
    {
      "cell_type": "code",
      "metadata": {
        "colab": {
          "base_uri": "https://localhost:8080/"
        },
        "id": "OJOMaIX5a57S",
        "outputId": "bc6ccf3a-64f0-4acd-9251-5c27128da644"
      },
      "source": [
        "from tensorflow.python.framework import ops\n",
        "ops.reset_default_graph()\n",
        "\n",
        "# tf.reset_default_graph()\n",
        "\n",
        "with tf.compat.v1.Session() as test:\n",
        "    A_prev = tf.compat.v1.placeholder(\"float\", [3, 4, 4, 6])\n",
        "    X = np.random.randn(3, 4, 4, 6)\n",
        "    A = identity_block(A_prev, f = 2, filters = [2, 4, 6], stage = 1, block = 'a')\n",
        "    test.run(tf.compat.v1.global_variables_initializer())\n",
        "    out = test.run([A], feed_dict={A_prev: X, K.learning_phase(): 0})\n",
        "    print(\"out = \", out[0][1][1][0])"
      ],
      "execution_count": 15,
      "outputs": [
        {
          "output_type": "stream",
          "text": [
            "out =  [1.1355659  0.61149657 0.03412059 0.07776003 0.16700256 0.        ]\n"
          ],
          "name": "stdout"
        }
      ]
    },
    {
      "cell_type": "code",
      "metadata": {
        "id": "vb8fxH-La57T"
      },
      "source": [
        "def convolutional_block(X, f, filters, stage, block, s = 2):\n",
        "    # defining name basis\n",
        "    conv_name_base = 'res' + str(stage) + block + '_branch'\n",
        "    bn_name_base = 'bn' + str(stage) + block + '_branch'\n",
        "    \n",
        "    # Retrieve Filters\n",
        "    F1, F2, F3 = filters\n",
        "    \n",
        "    # Save the input value\n",
        "    X_shortcut = X\n",
        "\n",
        "\n",
        "    ##### MAIN PATH #####\n",
        "    # First component of main path \n",
        "    X = Conv2D(F1, (1, 1), strides = (s,s), name = conv_name_base + '2a', kernel_initializer = glorot_uniform(seed=0))(X)\n",
        "    X = BatchNormalization(axis = 3, name = bn_name_base + '2a')(X)\n",
        "    X = Activation('relu')(X)\n",
        "\n",
        "    # Second component of main path\n",
        "    X = Conv2D(filters=F2, kernel_size=(f, f), strides=(1, 1), padding='same', name=conv_name_base + '2b', kernel_initializer=glorot_uniform(seed=0))(X)\n",
        "    X = BatchNormalization(axis=3, name=bn_name_base + '2b')(X)\n",
        "    X = Activation('relu')(X)\n",
        "\n",
        "    # Third component of main path\n",
        "    X = Conv2D(filters=F3, kernel_size=(1, 1), strides=(1, 1), padding='valid', name=conv_name_base + '2c', kernel_initializer=glorot_uniform(seed=0))(X)\n",
        "    X = BatchNormalization(axis=3, name=bn_name_base + '2c')(X)\n",
        "\n",
        "    \n",
        "    ##### SHORTCUT PATH ####\n",
        "    X_shortcut = Conv2D(F3, (1, 1), strides = (s,s), name = conv_name_base + '1', kernel_initializer = glorot_uniform(seed=0))(X_shortcut)\n",
        "    X_shortcut = BatchNormalization(axis = 3, name = bn_name_base + '1')(X_shortcut)\n",
        "\n",
        "    # Final step: Add shortcut value to main path, and pass it through a RELU activation\n",
        "    X = Add()([X, X_shortcut])\n",
        "    X = Activation('relu')(X)\n",
        "    \n",
        "    return X"
      ],
      "execution_count": 16,
      "outputs": []
    },
    {
      "cell_type": "code",
      "metadata": {
        "colab": {
          "base_uri": "https://localhost:8080/"
        },
        "id": "ReQb8HeVa57T",
        "outputId": "c5d79c83-3c08-4df0-f913-40b745e9f93b"
      },
      "source": [
        "from tensorflow.python.framework import ops\n",
        "ops.reset_default_graph()\n",
        "\n",
        "# tf.reset_default_graph()\n",
        "\n",
        "with tf.compat.v1.Session() as test:\n",
        "    A_prev = tf.compat.v1.placeholder(\"float\", [3, 4, 4, 6])\n",
        "    X = np.random.randn(3, 4, 4, 6)\n",
        "    A = convolutional_block(A_prev, f = 2, filters = [2, 4, 6], stage = 1, block = 'a')\n",
        "    test.run(tf.compat.v1.global_variables_initializer())\n",
        "    out = test.run([A], feed_dict={A_prev: X, K.learning_phase(): 0})\n",
        "    print(\"out = \",out[0][1][1][0])"
      ],
      "execution_count": 17,
      "outputs": [
        {
          "output_type": "stream",
          "text": [
            "out =  [0.        0.        0.        1.3956832 0.        0.       ]\n"
          ],
          "name": "stdout"
        }
      ]
    },
    {
      "cell_type": "code",
      "metadata": {
        "id": "YoMXGWPia57U"
      },
      "source": [
        "def ResNet50(input_shape = (32, 32, 3), classes = 10):   \n",
        "    global model\n",
        "    # Define the input as a tensor with shape input_shape\n",
        "    X_input = Input(input_shape)\n",
        "\n",
        "    # Zero-Padding\n",
        "    X = ZeroPadding2D((3, 3))(X_input)\n",
        "    \n",
        "    # Stage 1\n",
        "    X = Conv2D(64, (7, 7), strides = (2, 2), name = 'conv1', kernel_initializer = glorot_uniform(seed=0))(X)\n",
        "    X = BatchNormalization(axis = 3, name = 'bn_conv1')(X)\n",
        "    X = Activation('relu')(X)\n",
        "    X = MaxPooling2D((3, 3), strides=(2, 2))(X)\n",
        "\n",
        "    # Stage 2\n",
        "    X = convolutional_block(X, f = 3, filters = [64, 64, 256], stage = 2, block='a', s = 1)\n",
        "    X = identity_block(X, 3, [64, 64, 256], stage=2, block='b')\n",
        "    X = identity_block(X, 3, [64, 64, 256], stage=2, block='c')\n",
        "\n",
        "    # Stage 3\n",
        "    X = convolutional_block(X, f = 3, filters = [128, 128, 512], stage = 3, block='a', s = 2)\n",
        "    X = identity_block(X, 3, [128, 128, 512], stage=3, block='b')\n",
        "    X = identity_block(X, 3, [128, 128, 512], stage=3, block='c')\n",
        "    X = identity_block(X, 3, [128, 128, 512], stage=3, block='d')\n",
        "\n",
        "    # Stage 4\n",
        "    X = convolutional_block(X, f = 3, filters = [256, 256, 1024], stage = 4, block='a', s = 2)\n",
        "    X = identity_block(X, 3, [256, 256, 1024], stage=4, block='b')\n",
        "    X = identity_block(X, 3, [256, 256, 1024], stage=4, block='c')\n",
        "    X = identity_block(X, 3, [256, 256, 1024], stage=4, block='d')\n",
        "    X = identity_block(X, 3, [256, 256, 1024], stage=4, block='e')\n",
        "    X = identity_block(X, 3, [256, 256, 1024], stage=4, block='f')\n",
        "\n",
        "    # Stage 5\n",
        "    # X = convolutional_block(X, f = 3, filters = [512, 512, 2048], stage = 5, block='a', s = 2)\n",
        "    # X = identity_block(X, 3, [512, 512, 2048], stage=5, block='b')\n",
        "    # X = identity_block(X, 3, [512, 512, 2048], stage=5, block='c')\n",
        "\n",
        "    # AVGPOOL.\n",
        "    X = AveragePooling2D((2, 2), name='avg_pool')(X)\n",
        "\n",
        "    # output layer\n",
        "    X = Flatten()(X)\n",
        "    X = Dense(classes, activation='softmax', name='fc' + str(classes), kernel_initializer = glorot_uniform(seed=0))(X)\n",
        "    \n",
        "    # Create model\n",
        "    model = Model(inputs = X_input, outputs = X, name='ResNet50')\n",
        "\n",
        "    model.summary()\n",
        "\n",
        "    return model"
      ],
      "execution_count": 18,
      "outputs": []
    },
    {
      "cell_type": "code",
      "metadata": {
        "colab": {
          "base_uri": "https://localhost:8080/"
        },
        "id": "oyv0JxLUa57U",
        "outputId": "f7242165-2aed-4df5-ee35-e5c33bc974f2"
      },
      "source": [
        "model = ResNet50(input_shape = (32, 32, 3), classes = 10)"
      ],
      "execution_count": 19,
      "outputs": [
        {
          "output_type": "stream",
          "text": [
            "Model: \"ResNet50\"\n",
            "__________________________________________________________________________________________________\n",
            "Layer (type)                    Output Shape         Param #     Connected to                     \n",
            "==================================================================================================\n",
            "input_1 (InputLayer)            [(None, 32, 32, 3)]  0                                            \n",
            "__________________________________________________________________________________________________\n",
            "zero_padding2d (ZeroPadding2D)  (None, 38, 38, 3)    0           input_1[0][0]                    \n",
            "__________________________________________________________________________________________________\n",
            "conv1 (Conv2D)                  (None, 16, 16, 64)   9472        zero_padding2d[0][0]             \n",
            "__________________________________________________________________________________________________\n",
            "bn_conv1 (BatchNormalization)   (None, 16, 16, 64)   256         conv1[0][0]                      \n",
            "__________________________________________________________________________________________________\n",
            "activation_3 (Activation)       (None, 16, 16, 64)   0           bn_conv1[0][0]                   \n",
            "__________________________________________________________________________________________________\n",
            "max_pooling2d (MaxPooling2D)    (None, 7, 7, 64)     0           activation_3[0][0]               \n",
            "__________________________________________________________________________________________________\n",
            "res2a_branch2a (Conv2D)         (None, 7, 7, 64)     4160        max_pooling2d[0][0]              \n",
            "__________________________________________________________________________________________________\n",
            "bn2a_branch2a (BatchNormalizati (None, 7, 7, 64)     256         res2a_branch2a[0][0]             \n",
            "__________________________________________________________________________________________________\n",
            "activation_4 (Activation)       (None, 7, 7, 64)     0           bn2a_branch2a[0][0]              \n",
            "__________________________________________________________________________________________________\n",
            "res2a_branch2b (Conv2D)         (None, 7, 7, 64)     36928       activation_4[0][0]               \n",
            "__________________________________________________________________________________________________\n",
            "bn2a_branch2b (BatchNormalizati (None, 7, 7, 64)     256         res2a_branch2b[0][0]             \n",
            "__________________________________________________________________________________________________\n",
            "activation_5 (Activation)       (None, 7, 7, 64)     0           bn2a_branch2b[0][0]              \n",
            "__________________________________________________________________________________________________\n",
            "res2a_branch2c (Conv2D)         (None, 7, 7, 256)    16640       activation_5[0][0]               \n",
            "__________________________________________________________________________________________________\n",
            "res2a_branch1 (Conv2D)          (None, 7, 7, 256)    16640       max_pooling2d[0][0]              \n",
            "__________________________________________________________________________________________________\n",
            "bn2a_branch2c (BatchNormalizati (None, 7, 7, 256)    1024        res2a_branch2c[0][0]             \n",
            "__________________________________________________________________________________________________\n",
            "bn2a_branch1 (BatchNormalizatio (None, 7, 7, 256)    1024        res2a_branch1[0][0]              \n",
            "__________________________________________________________________________________________________\n",
            "add_1 (Add)                     (None, 7, 7, 256)    0           bn2a_branch2c[0][0]              \n",
            "                                                                 bn2a_branch1[0][0]               \n",
            "__________________________________________________________________________________________________\n",
            "activation_6 (Activation)       (None, 7, 7, 256)    0           add_1[0][0]                      \n",
            "__________________________________________________________________________________________________\n",
            "res2b_branch2a (Conv2D)         (None, 7, 7, 64)     16448       activation_6[0][0]               \n",
            "__________________________________________________________________________________________________\n",
            "bn2b_branch2a (BatchNormalizati (None, 7, 7, 64)     256         res2b_branch2a[0][0]             \n",
            "__________________________________________________________________________________________________\n",
            "activation_7 (Activation)       (None, 7, 7, 64)     0           bn2b_branch2a[0][0]              \n",
            "__________________________________________________________________________________________________\n",
            "res2b_branch2b (Conv2D)         (None, 7, 7, 64)     36928       activation_7[0][0]               \n",
            "__________________________________________________________________________________________________\n",
            "bn2b_branch2b (BatchNormalizati (None, 7, 7, 64)     256         res2b_branch2b[0][0]             \n",
            "__________________________________________________________________________________________________\n",
            "activation_8 (Activation)       (None, 7, 7, 64)     0           bn2b_branch2b[0][0]              \n",
            "__________________________________________________________________________________________________\n",
            "res2b_branch2c (Conv2D)         (None, 7, 7, 256)    16640       activation_8[0][0]               \n",
            "__________________________________________________________________________________________________\n",
            "bn2b_branch2c (BatchNormalizati (None, 7, 7, 256)    1024        res2b_branch2c[0][0]             \n",
            "__________________________________________________________________________________________________\n",
            "add_2 (Add)                     (None, 7, 7, 256)    0           bn2b_branch2c[0][0]              \n",
            "                                                                 activation_6[0][0]               \n",
            "__________________________________________________________________________________________________\n",
            "activation_9 (Activation)       (None, 7, 7, 256)    0           add_2[0][0]                      \n",
            "__________________________________________________________________________________________________\n",
            "res2c_branch2a (Conv2D)         (None, 7, 7, 64)     16448       activation_9[0][0]               \n",
            "__________________________________________________________________________________________________\n",
            "bn2c_branch2a (BatchNormalizati (None, 7, 7, 64)     256         res2c_branch2a[0][0]             \n",
            "__________________________________________________________________________________________________\n",
            "activation_10 (Activation)      (None, 7, 7, 64)     0           bn2c_branch2a[0][0]              \n",
            "__________________________________________________________________________________________________\n",
            "res2c_branch2b (Conv2D)         (None, 7, 7, 64)     36928       activation_10[0][0]              \n",
            "__________________________________________________________________________________________________\n",
            "bn2c_branch2b (BatchNormalizati (None, 7, 7, 64)     256         res2c_branch2b[0][0]             \n",
            "__________________________________________________________________________________________________\n",
            "activation_11 (Activation)      (None, 7, 7, 64)     0           bn2c_branch2b[0][0]              \n",
            "__________________________________________________________________________________________________\n",
            "res2c_branch2c (Conv2D)         (None, 7, 7, 256)    16640       activation_11[0][0]              \n",
            "__________________________________________________________________________________________________\n",
            "bn2c_branch2c (BatchNormalizati (None, 7, 7, 256)    1024        res2c_branch2c[0][0]             \n",
            "__________________________________________________________________________________________________\n",
            "add_3 (Add)                     (None, 7, 7, 256)    0           bn2c_branch2c[0][0]              \n",
            "                                                                 activation_9[0][0]               \n",
            "__________________________________________________________________________________________________\n",
            "activation_12 (Activation)      (None, 7, 7, 256)    0           add_3[0][0]                      \n",
            "__________________________________________________________________________________________________\n",
            "res3a_branch2a (Conv2D)         (None, 4, 4, 128)    32896       activation_12[0][0]              \n",
            "__________________________________________________________________________________________________\n",
            "bn3a_branch2a (BatchNormalizati (None, 4, 4, 128)    512         res3a_branch2a[0][0]             \n",
            "__________________________________________________________________________________________________\n",
            "activation_13 (Activation)      (None, 4, 4, 128)    0           bn3a_branch2a[0][0]              \n",
            "__________________________________________________________________________________________________\n",
            "res3a_branch2b (Conv2D)         (None, 4, 4, 128)    147584      activation_13[0][0]              \n",
            "__________________________________________________________________________________________________\n",
            "bn3a_branch2b (BatchNormalizati (None, 4, 4, 128)    512         res3a_branch2b[0][0]             \n",
            "__________________________________________________________________________________________________\n",
            "activation_14 (Activation)      (None, 4, 4, 128)    0           bn3a_branch2b[0][0]              \n",
            "__________________________________________________________________________________________________\n",
            "res3a_branch2c (Conv2D)         (None, 4, 4, 512)    66048       activation_14[0][0]              \n",
            "__________________________________________________________________________________________________\n",
            "res3a_branch1 (Conv2D)          (None, 4, 4, 512)    131584      activation_12[0][0]              \n",
            "__________________________________________________________________________________________________\n",
            "bn3a_branch2c (BatchNormalizati (None, 4, 4, 512)    2048        res3a_branch2c[0][0]             \n",
            "__________________________________________________________________________________________________\n",
            "bn3a_branch1 (BatchNormalizatio (None, 4, 4, 512)    2048        res3a_branch1[0][0]              \n",
            "__________________________________________________________________________________________________\n",
            "add_4 (Add)                     (None, 4, 4, 512)    0           bn3a_branch2c[0][0]              \n",
            "                                                                 bn3a_branch1[0][0]               \n",
            "__________________________________________________________________________________________________\n",
            "activation_15 (Activation)      (None, 4, 4, 512)    0           add_4[0][0]                      \n",
            "__________________________________________________________________________________________________\n",
            "res3b_branch2a (Conv2D)         (None, 4, 4, 128)    65664       activation_15[0][0]              \n",
            "__________________________________________________________________________________________________\n",
            "bn3b_branch2a (BatchNormalizati (None, 4, 4, 128)    512         res3b_branch2a[0][0]             \n",
            "__________________________________________________________________________________________________\n",
            "activation_16 (Activation)      (None, 4, 4, 128)    0           bn3b_branch2a[0][0]              \n",
            "__________________________________________________________________________________________________\n",
            "res3b_branch2b (Conv2D)         (None, 4, 4, 128)    147584      activation_16[0][0]              \n",
            "__________________________________________________________________________________________________\n",
            "bn3b_branch2b (BatchNormalizati (None, 4, 4, 128)    512         res3b_branch2b[0][0]             \n",
            "__________________________________________________________________________________________________\n",
            "activation_17 (Activation)      (None, 4, 4, 128)    0           bn3b_branch2b[0][0]              \n",
            "__________________________________________________________________________________________________\n",
            "res3b_branch2c (Conv2D)         (None, 4, 4, 512)    66048       activation_17[0][0]              \n",
            "__________________________________________________________________________________________________\n",
            "bn3b_branch2c (BatchNormalizati (None, 4, 4, 512)    2048        res3b_branch2c[0][0]             \n",
            "__________________________________________________________________________________________________\n",
            "add_5 (Add)                     (None, 4, 4, 512)    0           bn3b_branch2c[0][0]              \n",
            "                                                                 activation_15[0][0]              \n",
            "__________________________________________________________________________________________________\n",
            "activation_18 (Activation)      (None, 4, 4, 512)    0           add_5[0][0]                      \n",
            "__________________________________________________________________________________________________\n",
            "res3c_branch2a (Conv2D)         (None, 4, 4, 128)    65664       activation_18[0][0]              \n",
            "__________________________________________________________________________________________________\n",
            "bn3c_branch2a (BatchNormalizati (None, 4, 4, 128)    512         res3c_branch2a[0][0]             \n",
            "__________________________________________________________________________________________________\n",
            "activation_19 (Activation)      (None, 4, 4, 128)    0           bn3c_branch2a[0][0]              \n",
            "__________________________________________________________________________________________________\n",
            "res3c_branch2b (Conv2D)         (None, 4, 4, 128)    147584      activation_19[0][0]              \n",
            "__________________________________________________________________________________________________\n",
            "bn3c_branch2b (BatchNormalizati (None, 4, 4, 128)    512         res3c_branch2b[0][0]             \n",
            "__________________________________________________________________________________________________\n",
            "activation_20 (Activation)      (None, 4, 4, 128)    0           bn3c_branch2b[0][0]              \n",
            "__________________________________________________________________________________________________\n",
            "res3c_branch2c (Conv2D)         (None, 4, 4, 512)    66048       activation_20[0][0]              \n",
            "__________________________________________________________________________________________________\n",
            "bn3c_branch2c (BatchNormalizati (None, 4, 4, 512)    2048        res3c_branch2c[0][0]             \n",
            "__________________________________________________________________________________________________\n",
            "add_6 (Add)                     (None, 4, 4, 512)    0           bn3c_branch2c[0][0]              \n",
            "                                                                 activation_18[0][0]              \n",
            "__________________________________________________________________________________________________\n",
            "activation_21 (Activation)      (None, 4, 4, 512)    0           add_6[0][0]                      \n",
            "__________________________________________________________________________________________________\n",
            "res3d_branch2a (Conv2D)         (None, 4, 4, 128)    65664       activation_21[0][0]              \n",
            "__________________________________________________________________________________________________\n",
            "bn3d_branch2a (BatchNormalizati (None, 4, 4, 128)    512         res3d_branch2a[0][0]             \n",
            "__________________________________________________________________________________________________\n",
            "activation_22 (Activation)      (None, 4, 4, 128)    0           bn3d_branch2a[0][0]              \n",
            "__________________________________________________________________________________________________\n",
            "res3d_branch2b (Conv2D)         (None, 4, 4, 128)    147584      activation_22[0][0]              \n",
            "__________________________________________________________________________________________________\n",
            "bn3d_branch2b (BatchNormalizati (None, 4, 4, 128)    512         res3d_branch2b[0][0]             \n",
            "__________________________________________________________________________________________________\n",
            "activation_23 (Activation)      (None, 4, 4, 128)    0           bn3d_branch2b[0][0]              \n",
            "__________________________________________________________________________________________________\n",
            "res3d_branch2c (Conv2D)         (None, 4, 4, 512)    66048       activation_23[0][0]              \n",
            "__________________________________________________________________________________________________\n",
            "bn3d_branch2c (BatchNormalizati (None, 4, 4, 512)    2048        res3d_branch2c[0][0]             \n",
            "__________________________________________________________________________________________________\n",
            "add_7 (Add)                     (None, 4, 4, 512)    0           bn3d_branch2c[0][0]              \n",
            "                                                                 activation_21[0][0]              \n",
            "__________________________________________________________________________________________________\n",
            "activation_24 (Activation)      (None, 4, 4, 512)    0           add_7[0][0]                      \n",
            "__________________________________________________________________________________________________\n",
            "res4a_branch2a (Conv2D)         (None, 2, 2, 256)    131328      activation_24[0][0]              \n",
            "__________________________________________________________________________________________________\n",
            "bn4a_branch2a (BatchNormalizati (None, 2, 2, 256)    1024        res4a_branch2a[0][0]             \n",
            "__________________________________________________________________________________________________\n",
            "activation_25 (Activation)      (None, 2, 2, 256)    0           bn4a_branch2a[0][0]              \n",
            "__________________________________________________________________________________________________\n",
            "res4a_branch2b (Conv2D)         (None, 2, 2, 256)    590080      activation_25[0][0]              \n",
            "__________________________________________________________________________________________________\n",
            "bn4a_branch2b (BatchNormalizati (None, 2, 2, 256)    1024        res4a_branch2b[0][0]             \n",
            "__________________________________________________________________________________________________\n",
            "activation_26 (Activation)      (None, 2, 2, 256)    0           bn4a_branch2b[0][0]              \n",
            "__________________________________________________________________________________________________\n",
            "res4a_branch2c (Conv2D)         (None, 2, 2, 1024)   263168      activation_26[0][0]              \n",
            "__________________________________________________________________________________________________\n",
            "res4a_branch1 (Conv2D)          (None, 2, 2, 1024)   525312      activation_24[0][0]              \n",
            "__________________________________________________________________________________________________\n",
            "bn4a_branch2c (BatchNormalizati (None, 2, 2, 1024)   4096        res4a_branch2c[0][0]             \n",
            "__________________________________________________________________________________________________\n",
            "bn4a_branch1 (BatchNormalizatio (None, 2, 2, 1024)   4096        res4a_branch1[0][0]              \n",
            "__________________________________________________________________________________________________\n",
            "add_8 (Add)                     (None, 2, 2, 1024)   0           bn4a_branch2c[0][0]              \n",
            "                                                                 bn4a_branch1[0][0]               \n",
            "__________________________________________________________________________________________________\n",
            "activation_27 (Activation)      (None, 2, 2, 1024)   0           add_8[0][0]                      \n",
            "__________________________________________________________________________________________________\n",
            "res4b_branch2a (Conv2D)         (None, 2, 2, 256)    262400      activation_27[0][0]              \n",
            "__________________________________________________________________________________________________\n",
            "bn4b_branch2a (BatchNormalizati (None, 2, 2, 256)    1024        res4b_branch2a[0][0]             \n",
            "__________________________________________________________________________________________________\n",
            "activation_28 (Activation)      (None, 2, 2, 256)    0           bn4b_branch2a[0][0]              \n",
            "__________________________________________________________________________________________________\n",
            "res4b_branch2b (Conv2D)         (None, 2, 2, 256)    590080      activation_28[0][0]              \n",
            "__________________________________________________________________________________________________\n",
            "bn4b_branch2b (BatchNormalizati (None, 2, 2, 256)    1024        res4b_branch2b[0][0]             \n",
            "__________________________________________________________________________________________________\n",
            "activation_29 (Activation)      (None, 2, 2, 256)    0           bn4b_branch2b[0][0]              \n",
            "__________________________________________________________________________________________________\n",
            "res4b_branch2c (Conv2D)         (None, 2, 2, 1024)   263168      activation_29[0][0]              \n",
            "__________________________________________________________________________________________________\n",
            "bn4b_branch2c (BatchNormalizati (None, 2, 2, 1024)   4096        res4b_branch2c[0][0]             \n",
            "__________________________________________________________________________________________________\n",
            "add_9 (Add)                     (None, 2, 2, 1024)   0           bn4b_branch2c[0][0]              \n",
            "                                                                 activation_27[0][0]              \n",
            "__________________________________________________________________________________________________\n",
            "activation_30 (Activation)      (None, 2, 2, 1024)   0           add_9[0][0]                      \n",
            "__________________________________________________________________________________________________\n",
            "res4c_branch2a (Conv2D)         (None, 2, 2, 256)    262400      activation_30[0][0]              \n",
            "__________________________________________________________________________________________________\n",
            "bn4c_branch2a (BatchNormalizati (None, 2, 2, 256)    1024        res4c_branch2a[0][0]             \n",
            "__________________________________________________________________________________________________\n",
            "activation_31 (Activation)      (None, 2, 2, 256)    0           bn4c_branch2a[0][0]              \n",
            "__________________________________________________________________________________________________\n",
            "res4c_branch2b (Conv2D)         (None, 2, 2, 256)    590080      activation_31[0][0]              \n",
            "__________________________________________________________________________________________________\n",
            "bn4c_branch2b (BatchNormalizati (None, 2, 2, 256)    1024        res4c_branch2b[0][0]             \n",
            "__________________________________________________________________________________________________\n",
            "activation_32 (Activation)      (None, 2, 2, 256)    0           bn4c_branch2b[0][0]              \n",
            "__________________________________________________________________________________________________\n",
            "res4c_branch2c (Conv2D)         (None, 2, 2, 1024)   263168      activation_32[0][0]              \n",
            "__________________________________________________________________________________________________\n",
            "bn4c_branch2c (BatchNormalizati (None, 2, 2, 1024)   4096        res4c_branch2c[0][0]             \n",
            "__________________________________________________________________________________________________\n",
            "add_10 (Add)                    (None, 2, 2, 1024)   0           bn4c_branch2c[0][0]              \n",
            "                                                                 activation_30[0][0]              \n",
            "__________________________________________________________________________________________________\n",
            "activation_33 (Activation)      (None, 2, 2, 1024)   0           add_10[0][0]                     \n",
            "__________________________________________________________________________________________________\n",
            "res4d_branch2a (Conv2D)         (None, 2, 2, 256)    262400      activation_33[0][0]              \n",
            "__________________________________________________________________________________________________\n",
            "bn4d_branch2a (BatchNormalizati (None, 2, 2, 256)    1024        res4d_branch2a[0][0]             \n",
            "__________________________________________________________________________________________________\n",
            "activation_34 (Activation)      (None, 2, 2, 256)    0           bn4d_branch2a[0][0]              \n",
            "__________________________________________________________________________________________________\n",
            "res4d_branch2b (Conv2D)         (None, 2, 2, 256)    590080      activation_34[0][0]              \n",
            "__________________________________________________________________________________________________\n",
            "bn4d_branch2b (BatchNormalizati (None, 2, 2, 256)    1024        res4d_branch2b[0][0]             \n",
            "__________________________________________________________________________________________________\n",
            "activation_35 (Activation)      (None, 2, 2, 256)    0           bn4d_branch2b[0][0]              \n",
            "__________________________________________________________________________________________________\n",
            "res4d_branch2c (Conv2D)         (None, 2, 2, 1024)   263168      activation_35[0][0]              \n",
            "__________________________________________________________________________________________________\n",
            "bn4d_branch2c (BatchNormalizati (None, 2, 2, 1024)   4096        res4d_branch2c[0][0]             \n",
            "__________________________________________________________________________________________________\n",
            "add_11 (Add)                    (None, 2, 2, 1024)   0           bn4d_branch2c[0][0]              \n",
            "                                                                 activation_33[0][0]              \n",
            "__________________________________________________________________________________________________\n",
            "activation_36 (Activation)      (None, 2, 2, 1024)   0           add_11[0][0]                     \n",
            "__________________________________________________________________________________________________\n",
            "res4e_branch2a (Conv2D)         (None, 2, 2, 256)    262400      activation_36[0][0]              \n",
            "__________________________________________________________________________________________________\n",
            "bn4e_branch2a (BatchNormalizati (None, 2, 2, 256)    1024        res4e_branch2a[0][0]             \n",
            "__________________________________________________________________________________________________\n",
            "activation_37 (Activation)      (None, 2, 2, 256)    0           bn4e_branch2a[0][0]              \n",
            "__________________________________________________________________________________________________\n",
            "res4e_branch2b (Conv2D)         (None, 2, 2, 256)    590080      activation_37[0][0]              \n",
            "__________________________________________________________________________________________________\n",
            "bn4e_branch2b (BatchNormalizati (None, 2, 2, 256)    1024        res4e_branch2b[0][0]             \n",
            "__________________________________________________________________________________________________\n",
            "activation_38 (Activation)      (None, 2, 2, 256)    0           bn4e_branch2b[0][0]              \n",
            "__________________________________________________________________________________________________\n",
            "res4e_branch2c (Conv2D)         (None, 2, 2, 1024)   263168      activation_38[0][0]              \n",
            "__________________________________________________________________________________________________\n",
            "bn4e_branch2c (BatchNormalizati (None, 2, 2, 1024)   4096        res4e_branch2c[0][0]             \n",
            "__________________________________________________________________________________________________\n",
            "add_12 (Add)                    (None, 2, 2, 1024)   0           bn4e_branch2c[0][0]              \n",
            "                                                                 activation_36[0][0]              \n",
            "__________________________________________________________________________________________________\n",
            "activation_39 (Activation)      (None, 2, 2, 1024)   0           add_12[0][0]                     \n",
            "__________________________________________________________________________________________________\n",
            "res4f_branch2a (Conv2D)         (None, 2, 2, 256)    262400      activation_39[0][0]              \n",
            "__________________________________________________________________________________________________\n",
            "bn4f_branch2a (BatchNormalizati (None, 2, 2, 256)    1024        res4f_branch2a[0][0]             \n",
            "__________________________________________________________________________________________________\n",
            "activation_40 (Activation)      (None, 2, 2, 256)    0           bn4f_branch2a[0][0]              \n",
            "__________________________________________________________________________________________________\n",
            "res4f_branch2b (Conv2D)         (None, 2, 2, 256)    590080      activation_40[0][0]              \n",
            "__________________________________________________________________________________________________\n",
            "bn4f_branch2b (BatchNormalizati (None, 2, 2, 256)    1024        res4f_branch2b[0][0]             \n",
            "__________________________________________________________________________________________________\n",
            "activation_41 (Activation)      (None, 2, 2, 256)    0           bn4f_branch2b[0][0]              \n",
            "__________________________________________________________________________________________________\n",
            "res4f_branch2c (Conv2D)         (None, 2, 2, 1024)   263168      activation_41[0][0]              \n",
            "__________________________________________________________________________________________________\n",
            "bn4f_branch2c (BatchNormalizati (None, 2, 2, 1024)   4096        res4f_branch2c[0][0]             \n",
            "__________________________________________________________________________________________________\n",
            "add_13 (Add)                    (None, 2, 2, 1024)   0           bn4f_branch2c[0][0]              \n",
            "                                                                 activation_39[0][0]              \n",
            "__________________________________________________________________________________________________\n",
            "activation_42 (Activation)      (None, 2, 2, 1024)   0           add_13[0][0]                     \n",
            "__________________________________________________________________________________________________\n",
            "avg_pool (AveragePooling2D)     (None, 1, 1, 1024)   0           activation_42[0][0]              \n",
            "__________________________________________________________________________________________________\n",
            "flatten (Flatten)               (None, 1024)         0           avg_pool[0][0]                   \n",
            "__________________________________________________________________________________________________\n",
            "fc10 (Dense)                    (None, 10)           10250       flatten[0][0]                    \n",
            "==================================================================================================\n",
            "Total params: 8,599,434\n",
            "Trainable params: 8,568,842\n",
            "Non-trainable params: 30,592\n",
            "__________________________________________________________________________________________________\n"
          ],
          "name": "stdout"
        }
      ]
    },
    {
      "cell_type": "code",
      "metadata": {
        "id": "J650haCoa57V"
      },
      "source": [
        "model.compile(optimizer='adam', loss='categorical_crossentropy', metrics=['accuracy'])"
      ],
      "execution_count": 20,
      "outputs": []
    },
    {
      "cell_type": "code",
      "metadata": {
        "colab": {
          "base_uri": "https://localhost:8080/"
        },
        "id": "aNXPO4rja57V",
        "outputId": "0ceb5f6b-790e-4844-8166-c13d31e6d6fb"
      },
      "source": [
        "history = model.fit(train_generator.flow(X_train_noisy, y_train, batch_size=32), \n",
        "                    epochs = 100,\n",
        "                    batch_size = 64,\n",
        "                    validation_data = val_generator.flow(X_val_noisy, y_val, batch_size=32))"
      ],
      "execution_count": 21,
      "outputs": [
        {
          "output_type": "stream",
          "text": [
            "Epoch 1/100\n",
            "1407/1407 [==============================] - 56s 36ms/step - loss: 2.4112 - accuracy: 0.3205 - val_loss: 1.6353 - val_accuracy: 0.4056\n",
            "Epoch 2/100\n",
            "1407/1407 [==============================] - 51s 36ms/step - loss: 1.6094 - accuracy: 0.4553 - val_loss: 6.6111 - val_accuracy: 0.3778\n",
            "Epoch 3/100\n",
            "1407/1407 [==============================] - 50s 36ms/step - loss: 1.4320 - accuracy: 0.5060 - val_loss: 1.5087 - val_accuracy: 0.4606\n",
            "Epoch 4/100\n",
            "1407/1407 [==============================] - 50s 35ms/step - loss: 1.3663 - accuracy: 0.5342 - val_loss: 1.3740 - val_accuracy: 0.5152\n",
            "Epoch 5/100\n",
            "1407/1407 [==============================] - 49s 35ms/step - loss: 1.2596 - accuracy: 0.5771 - val_loss: 1.3716 - val_accuracy: 0.5636\n",
            "Epoch 6/100\n",
            "1407/1407 [==============================] - 49s 35ms/step - loss: 1.1877 - accuracy: 0.5922 - val_loss: 1.0921 - val_accuracy: 0.6184\n",
            "Epoch 7/100\n",
            "1407/1407 [==============================] - 49s 35ms/step - loss: 1.0311 - accuracy: 0.6488 - val_loss: 2.6215 - val_accuracy: 0.5240\n",
            "Epoch 8/100\n",
            "1407/1407 [==============================] - 49s 35ms/step - loss: 1.0379 - accuracy: 0.6459 - val_loss: 1.1665 - val_accuracy: 0.6238\n",
            "Epoch 9/100\n",
            "1407/1407 [==============================] - 51s 36ms/step - loss: 0.9227 - accuracy: 0.6835 - val_loss: 1.6925 - val_accuracy: 0.4476\n",
            "Epoch 10/100\n",
            "1407/1407 [==============================] - 49s 35ms/step - loss: 0.9214 - accuracy: 0.6887 - val_loss: 1.0760 - val_accuracy: 0.6546\n",
            "Epoch 11/100\n",
            "1407/1407 [==============================] - 49s 35ms/step - loss: 0.8216 - accuracy: 0.7197 - val_loss: 1.0829 - val_accuracy: 0.6268\n",
            "Epoch 12/100\n",
            "1407/1407 [==============================] - 50s 35ms/step - loss: 0.7320 - accuracy: 0.7462 - val_loss: 1.0602 - val_accuracy: 0.6646\n",
            "Epoch 13/100\n",
            "1407/1407 [==============================] - 49s 35ms/step - loss: 0.7142 - accuracy: 0.7570 - val_loss: 1.2343 - val_accuracy: 0.6058\n",
            "Epoch 14/100\n",
            "1407/1407 [==============================] - 49s 35ms/step - loss: 0.6730 - accuracy: 0.7663 - val_loss: 2.1319 - val_accuracy: 0.3926\n",
            "Epoch 15/100\n",
            "1407/1407 [==============================] - 49s 35ms/step - loss: 0.6846 - accuracy: 0.7648 - val_loss: 0.7859 - val_accuracy: 0.7316\n",
            "Epoch 16/100\n",
            "1407/1407 [==============================] - 49s 35ms/step - loss: 0.5863 - accuracy: 0.7932 - val_loss: 1.2712 - val_accuracy: 0.6326\n",
            "Epoch 17/100\n",
            "1407/1407 [==============================] - 49s 35ms/step - loss: 0.6343 - accuracy: 0.7788 - val_loss: 0.8962 - val_accuracy: 0.7078\n",
            "Epoch 18/100\n",
            "1407/1407 [==============================] - 49s 35ms/step - loss: 0.5055 - accuracy: 0.8225 - val_loss: 0.9120 - val_accuracy: 0.7052\n",
            "Epoch 19/100\n",
            "1407/1407 [==============================] - 49s 35ms/step - loss: 0.4800 - accuracy: 0.8318 - val_loss: 0.7953 - val_accuracy: 0.7352\n",
            "Epoch 20/100\n",
            "1407/1407 [==============================] - 49s 35ms/step - loss: 0.4715 - accuracy: 0.8330 - val_loss: 0.8111 - val_accuracy: 0.7346\n",
            "Epoch 21/100\n",
            "1407/1407 [==============================] - 49s 35ms/step - loss: 0.4120 - accuracy: 0.8552 - val_loss: 0.8060 - val_accuracy: 0.7434\n",
            "Epoch 22/100\n",
            "1407/1407 [==============================] - 49s 35ms/step - loss: 0.3846 - accuracy: 0.8673 - val_loss: 0.9652 - val_accuracy: 0.6990\n",
            "Epoch 23/100\n",
            "1407/1407 [==============================] - 49s 35ms/step - loss: 0.3654 - accuracy: 0.8721 - val_loss: 0.9566 - val_accuracy: 0.7088\n",
            "Epoch 24/100\n",
            "1407/1407 [==============================] - 48s 34ms/step - loss: 0.3363 - accuracy: 0.8820 - val_loss: 0.8607 - val_accuracy: 0.7454\n",
            "Epoch 25/100\n",
            "1407/1407 [==============================] - 49s 35ms/step - loss: 0.3202 - accuracy: 0.8885 - val_loss: 0.9829 - val_accuracy: 0.7214\n",
            "Epoch 26/100\n",
            "1407/1407 [==============================] - 48s 34ms/step - loss: 0.2873 - accuracy: 0.8980 - val_loss: 2.8144 - val_accuracy: 0.4448\n",
            "Epoch 27/100\n",
            "1407/1407 [==============================] - 48s 34ms/step - loss: 0.3110 - accuracy: 0.8911 - val_loss: 0.9161 - val_accuracy: 0.7416\n",
            "Epoch 28/100\n",
            "1407/1407 [==============================] - 48s 34ms/step - loss: 0.2659 - accuracy: 0.9087 - val_loss: 1.1351 - val_accuracy: 0.7134\n",
            "Epoch 29/100\n",
            "1407/1407 [==============================] - 49s 35ms/step - loss: 0.2294 - accuracy: 0.9185 - val_loss: 0.9895 - val_accuracy: 0.7280\n",
            "Epoch 30/100\n",
            "1407/1407 [==============================] - 49s 35ms/step - loss: 0.2158 - accuracy: 0.9251 - val_loss: 0.9630 - val_accuracy: 0.7410\n",
            "Epoch 31/100\n",
            "1407/1407 [==============================] - 49s 35ms/step - loss: 0.2077 - accuracy: 0.9277 - val_loss: 1.0033 - val_accuracy: 0.7360\n",
            "Epoch 32/100\n",
            "1407/1407 [==============================] - 49s 35ms/step - loss: 0.2043 - accuracy: 0.9292 - val_loss: 0.8865 - val_accuracy: 0.7582\n",
            "Epoch 33/100\n",
            "1407/1407 [==============================] - 48s 34ms/step - loss: 0.1961 - accuracy: 0.9307 - val_loss: 0.9910 - val_accuracy: 0.7508\n",
            "Epoch 34/100\n",
            "1407/1407 [==============================] - 48s 34ms/step - loss: 0.1675 - accuracy: 0.9427 - val_loss: 1.0465 - val_accuracy: 0.7330\n",
            "Epoch 35/100\n",
            "1407/1407 [==============================] - 48s 34ms/step - loss: 0.1631 - accuracy: 0.9435 - val_loss: 1.0766 - val_accuracy: 0.7400\n",
            "Epoch 36/100\n",
            "1407/1407 [==============================] - 48s 34ms/step - loss: 0.1694 - accuracy: 0.9419 - val_loss: 1.2393 - val_accuracy: 0.7062\n",
            "Epoch 37/100\n",
            "1407/1407 [==============================] - 48s 34ms/step - loss: 0.1540 - accuracy: 0.9464 - val_loss: 1.1347 - val_accuracy: 0.7280\n",
            "Epoch 38/100\n",
            "1407/1407 [==============================] - 48s 34ms/step - loss: 0.1472 - accuracy: 0.9475 - val_loss: 1.0822 - val_accuracy: 0.7366\n",
            "Epoch 39/100\n",
            "1407/1407 [==============================] - 48s 34ms/step - loss: 0.1319 - accuracy: 0.9553 - val_loss: 1.0836 - val_accuracy: 0.7412\n",
            "Epoch 40/100\n",
            "1407/1407 [==============================] - 48s 34ms/step - loss: 0.1368 - accuracy: 0.9539 - val_loss: 1.0707 - val_accuracy: 0.7458\n",
            "Epoch 41/100\n",
            "1407/1407 [==============================] - 48s 34ms/step - loss: 0.1257 - accuracy: 0.9571 - val_loss: 1.1109 - val_accuracy: 0.7524\n",
            "Epoch 42/100\n",
            "1407/1407 [==============================] - 48s 34ms/step - loss: 0.1401 - accuracy: 0.9517 - val_loss: 1.0540 - val_accuracy: 0.7550\n",
            "Epoch 43/100\n",
            "1407/1407 [==============================] - 49s 35ms/step - loss: 0.1133 - accuracy: 0.9600 - val_loss: 1.1789 - val_accuracy: 0.7354\n",
            "Epoch 44/100\n",
            "1407/1407 [==============================] - 49s 35ms/step - loss: 0.1275 - accuracy: 0.9563 - val_loss: 1.2625 - val_accuracy: 0.7280\n",
            "Epoch 45/100\n",
            "1407/1407 [==============================] - 49s 35ms/step - loss: 0.1348 - accuracy: 0.9534 - val_loss: 1.1192 - val_accuracy: 0.7490\n",
            "Epoch 46/100\n",
            "1407/1407 [==============================] - 49s 35ms/step - loss: 0.0999 - accuracy: 0.9657 - val_loss: 1.2300 - val_accuracy: 0.7360\n",
            "Epoch 47/100\n",
            "1407/1407 [==============================] - 49s 35ms/step - loss: 0.1198 - accuracy: 0.9598 - val_loss: 1.1622 - val_accuracy: 0.7484\n",
            "Epoch 48/100\n",
            "1407/1407 [==============================] - 49s 35ms/step - loss: 0.1091 - accuracy: 0.9608 - val_loss: 1.2534 - val_accuracy: 0.7442\n",
            "Epoch 49/100\n",
            "1407/1407 [==============================] - 49s 35ms/step - loss: 0.1066 - accuracy: 0.9626 - val_loss: 1.2117 - val_accuracy: 0.7404\n",
            "Epoch 50/100\n",
            "1407/1407 [==============================] - 50s 35ms/step - loss: 0.1022 - accuracy: 0.9651 - val_loss: 1.2045 - val_accuracy: 0.7468\n",
            "Epoch 51/100\n",
            "1407/1407 [==============================] - 49s 35ms/step - loss: 0.0927 - accuracy: 0.9680 - val_loss: 1.2374 - val_accuracy: 0.7328\n",
            "Epoch 52/100\n",
            "1407/1407 [==============================] - 49s 35ms/step - loss: 0.1415 - accuracy: 0.9540 - val_loss: 1.1695 - val_accuracy: 0.7562\n",
            "Epoch 53/100\n",
            "1407/1407 [==============================] - 49s 35ms/step - loss: 0.0926 - accuracy: 0.9677 - val_loss: 1.1733 - val_accuracy: 0.7504\n",
            "Epoch 54/100\n",
            "1407/1407 [==============================] - 49s 35ms/step - loss: 0.0924 - accuracy: 0.9695 - val_loss: 1.2463 - val_accuracy: 0.7452\n",
            "Epoch 55/100\n",
            "1407/1407 [==============================] - 49s 35ms/step - loss: 0.0899 - accuracy: 0.9694 - val_loss: 2.1510 - val_accuracy: 0.5938\n",
            "Epoch 56/100\n",
            "1407/1407 [==============================] - 50s 35ms/step - loss: 0.1043 - accuracy: 0.9643 - val_loss: 1.1927 - val_accuracy: 0.7530\n",
            "Epoch 57/100\n",
            "1407/1407 [==============================] - 50s 35ms/step - loss: 0.0888 - accuracy: 0.9695 - val_loss: 1.3731 - val_accuracy: 0.7180\n",
            "Epoch 58/100\n",
            "1407/1407 [==============================] - 50s 35ms/step - loss: 0.0901 - accuracy: 0.9701 - val_loss: 1.2516 - val_accuracy: 0.7524\n",
            "Epoch 59/100\n",
            "1407/1407 [==============================] - 50s 35ms/step - loss: 0.0853 - accuracy: 0.9711 - val_loss: 1.2344 - val_accuracy: 0.7548\n",
            "Epoch 60/100\n",
            "1407/1407 [==============================] - 49s 35ms/step - loss: 0.0836 - accuracy: 0.9720 - val_loss: 1.4426 - val_accuracy: 0.7096\n",
            "Epoch 61/100\n",
            "1407/1407 [==============================] - 49s 35ms/step - loss: 0.0854 - accuracy: 0.9716 - val_loss: 1.2534 - val_accuracy: 0.7524\n",
            "Epoch 62/100\n",
            "1407/1407 [==============================] - 49s 35ms/step - loss: 0.0730 - accuracy: 0.9751 - val_loss: 1.3020 - val_accuracy: 0.7446\n",
            "Epoch 63/100\n",
            "1407/1407 [==============================] - 49s 35ms/step - loss: 0.0831 - accuracy: 0.9706 - val_loss: 1.3712 - val_accuracy: 0.7324\n",
            "Epoch 64/100\n",
            "1407/1407 [==============================] - 49s 35ms/step - loss: 0.0836 - accuracy: 0.9700 - val_loss: 1.2841 - val_accuracy: 0.7556\n",
            "Epoch 65/100\n",
            "1407/1407 [==============================] - 49s 35ms/step - loss: 0.0720 - accuracy: 0.9753 - val_loss: 1.2935 - val_accuracy: 0.7478\n",
            "Epoch 66/100\n",
            "1407/1407 [==============================] - 49s 35ms/step - loss: 0.0734 - accuracy: 0.9751 - val_loss: 1.3823 - val_accuracy: 0.7490\n",
            "Epoch 67/100\n",
            "1407/1407 [==============================] - 49s 35ms/step - loss: 0.0698 - accuracy: 0.9763 - val_loss: 1.3493 - val_accuracy: 0.7434\n",
            "Epoch 68/100\n",
            "1407/1407 [==============================] - 49s 35ms/step - loss: 0.0728 - accuracy: 0.9742 - val_loss: 1.3371 - val_accuracy: 0.7466\n",
            "Epoch 69/100\n",
            "1407/1407 [==============================] - 50s 35ms/step - loss: 0.0648 - accuracy: 0.9789 - val_loss: 1.2958 - val_accuracy: 0.7536\n",
            "Epoch 70/100\n",
            "1407/1407 [==============================] - 49s 35ms/step - loss: 0.0630 - accuracy: 0.9787 - val_loss: 1.4054 - val_accuracy: 0.7440\n",
            "Epoch 71/100\n",
            "1407/1407 [==============================] - 49s 35ms/step - loss: 0.0807 - accuracy: 0.9726 - val_loss: 1.3389 - val_accuracy: 0.7488\n",
            "Epoch 72/100\n",
            "1407/1407 [==============================] - 50s 35ms/step - loss: 0.0720 - accuracy: 0.9755 - val_loss: 1.3048 - val_accuracy: 0.7532\n",
            "Epoch 73/100\n",
            "1407/1407 [==============================] - 49s 35ms/step - loss: 0.0680 - accuracy: 0.9773 - val_loss: 1.3483 - val_accuracy: 0.7488\n",
            "Epoch 74/100\n",
            "1407/1407 [==============================] - 49s 35ms/step - loss: 0.0636 - accuracy: 0.9778 - val_loss: 1.3011 - val_accuracy: 0.7572\n",
            "Epoch 75/100\n",
            "1407/1407 [==============================] - 50s 35ms/step - loss: 0.0625 - accuracy: 0.9787 - val_loss: 1.3120 - val_accuracy: 0.7382\n",
            "Epoch 76/100\n",
            "1407/1407 [==============================] - 49s 35ms/step - loss: 0.0655 - accuracy: 0.9792 - val_loss: 1.3009 - val_accuracy: 0.7658\n",
            "Epoch 77/100\n",
            "1407/1407 [==============================] - 49s 35ms/step - loss: 0.0599 - accuracy: 0.9792 - val_loss: 1.2658 - val_accuracy: 0.7642\n",
            "Epoch 78/100\n",
            "1407/1407 [==============================] - 49s 35ms/step - loss: 0.0659 - accuracy: 0.9778 - val_loss: 1.3519 - val_accuracy: 0.7456\n",
            "Epoch 79/100\n",
            "1407/1407 [==============================] - 49s 35ms/step - loss: 0.0569 - accuracy: 0.9808 - val_loss: 1.2928 - val_accuracy: 0.7612\n",
            "Epoch 80/100\n",
            "1407/1407 [==============================] - 49s 35ms/step - loss: 0.0575 - accuracy: 0.9802 - val_loss: 1.4740 - val_accuracy: 0.7382\n",
            "Epoch 81/100\n",
            "1407/1407 [==============================] - 49s 35ms/step - loss: 0.0570 - accuracy: 0.9800 - val_loss: 1.3810 - val_accuracy: 0.7550\n",
            "Epoch 82/100\n",
            "1407/1407 [==============================] - 50s 35ms/step - loss: 0.0577 - accuracy: 0.9799 - val_loss: 1.3580 - val_accuracy: 0.7460\n",
            "Epoch 83/100\n",
            "1407/1407 [==============================] - 49s 35ms/step - loss: 0.0642 - accuracy: 0.9784 - val_loss: 1.3055 - val_accuracy: 0.7560\n",
            "Epoch 84/100\n",
            "1407/1407 [==============================] - 49s 35ms/step - loss: 0.0556 - accuracy: 0.9811 - val_loss: 1.3841 - val_accuracy: 0.7498\n",
            "Epoch 85/100\n",
            "1407/1407 [==============================] - 49s 35ms/step - loss: 0.0626 - accuracy: 0.9784 - val_loss: 1.4670 - val_accuracy: 0.7426\n",
            "Epoch 86/100\n",
            "1407/1407 [==============================] - 49s 35ms/step - loss: 0.0512 - accuracy: 0.9824 - val_loss: 1.5286 - val_accuracy: 0.7414\n",
            "Epoch 87/100\n",
            "1407/1407 [==============================] - 49s 35ms/step - loss: 0.0522 - accuracy: 0.9826 - val_loss: 1.3250 - val_accuracy: 0.7568\n",
            "Epoch 88/100\n",
            "1407/1407 [==============================] - 49s 35ms/step - loss: 0.0517 - accuracy: 0.9840 - val_loss: 1.3433 - val_accuracy: 0.7524\n",
            "Epoch 89/100\n",
            "1407/1407 [==============================] - 50s 35ms/step - loss: 0.0659 - accuracy: 0.9787 - val_loss: 1.4025 - val_accuracy: 0.7500\n",
            "Epoch 90/100\n",
            "1407/1407 [==============================] - 50s 35ms/step - loss: 0.0488 - accuracy: 0.9826 - val_loss: 1.4252 - val_accuracy: 0.7406\n",
            "Epoch 91/100\n",
            "1407/1407 [==============================] - 49s 35ms/step - loss: 0.0555 - accuracy: 0.9815 - val_loss: 1.4066 - val_accuracy: 0.7602\n",
            "Epoch 92/100\n",
            "1407/1407 [==============================] - 50s 35ms/step - loss: 0.0536 - accuracy: 0.9819 - val_loss: 1.3348 - val_accuracy: 0.7598\n",
            "Epoch 93/100\n",
            "1407/1407 [==============================] - 50s 35ms/step - loss: 0.0490 - accuracy: 0.9834 - val_loss: 1.3951 - val_accuracy: 0.7616\n",
            "Epoch 94/100\n",
            "1407/1407 [==============================] - 49s 35ms/step - loss: 0.0490 - accuracy: 0.9835 - val_loss: 1.3927 - val_accuracy: 0.7660\n",
            "Epoch 95/100\n",
            "1407/1407 [==============================] - 50s 35ms/step - loss: 0.0497 - accuracy: 0.9839 - val_loss: 1.4019 - val_accuracy: 0.7642\n",
            "Epoch 96/100\n",
            "1407/1407 [==============================] - 49s 35ms/step - loss: 0.0474 - accuracy: 0.9835 - val_loss: 1.3539 - val_accuracy: 0.7596\n",
            "Epoch 97/100\n",
            "1407/1407 [==============================] - 49s 35ms/step - loss: 0.0541 - accuracy: 0.9820 - val_loss: 1.3732 - val_accuracy: 0.7602\n",
            "Epoch 98/100\n",
            "1407/1407 [==============================] - 49s 35ms/step - loss: 0.0457 - accuracy: 0.9841 - val_loss: 1.4030 - val_accuracy: 0.7558\n",
            "Epoch 99/100\n",
            "1407/1407 [==============================] - 49s 35ms/step - loss: 0.0480 - accuracy: 0.9840 - val_loss: 1.4165 - val_accuracy: 0.7500\n",
            "Epoch 100/100\n",
            "1407/1407 [==============================] - 50s 35ms/step - loss: 0.0552 - accuracy: 0.9819 - val_loss: 1.4056 - val_accuracy: 0.7546\n"
          ],
          "name": "stdout"
        }
      ]
    },
    {
      "cell_type": "code",
      "metadata": {
        "colab": {
          "base_uri": "https://localhost:8080/"
        },
        "id": "R0bTeqyaa57W",
        "outputId": "89b9ef36-d4fa-4844-bf31-250a02d15195"
      },
      "source": [
        "preds = model.evaluate(X_test, y_test)\n",
        "print (\"Loss = \" + str(preds[0]))\n",
        "print (\"Test Accuracy = \" + str(preds[1]))"
      ],
      "execution_count": null,
      "outputs": [
        {
          "output_type": "stream",
          "text": [
            "313/313 [==============================] - 4s 9ms/step - loss: 1.2670 - accuracy: 0.7896\n",
            "Loss = 1.267035961151123\n",
            "Test Accuracy = 0.7896000146865845\n"
          ],
          "name": "stdout"
        }
      ]
    },
    {
      "cell_type": "code",
      "metadata": {
        "id": "7EJKrOpJa57W"
      },
      "source": [
        "# Pandas and Numpy for data structures and util fucntions\n",
        "import scipy as sp\n",
        "import numpy as np\n",
        "import pandas as pd\n",
        "from numpy.random import rand\n",
        "pd.options.display.max_colwidth = 600\n",
        "\n",
        "# Scikit Imports\n",
        "from sklearn import preprocessing\n",
        "from sklearn.metrics import roc_curve, auc, precision_recall_curve\n",
        "from sklearn.model_selection import train_test_split\n",
        "\n",
        "# import cnn_utils as utils\n",
        "# from model_evaluation_utils import get_metrics\n",
        "\n",
        "# Matplot Imports\n",
        "import matplotlib.pyplot as plt\n",
        "params = {'legend.fontsize': 'x-large',\n",
        "          'figure.figsize': (15, 5),\n",
        "          'axes.labelsize': 'x-large',\n",
        "          'axes.titlesize':'x-large',\n",
        "          'xtick.labelsize':'x-large',\n",
        "          'ytick.labelsize':'x-large'}\n",
        "\n",
        "plt.rcParams.update(params)\n",
        "%matplotlib inline\n",
        "\n",
        "# pandas display data frames as tables\n",
        "from IPython.display import display, HTML\n",
        "\n",
        "import warnings\n",
        "warnings.filterwarnings('ignore')"
      ],
      "execution_count": null,
      "outputs": []
    },
    {
      "cell_type": "code",
      "metadata": {
        "colab": {
          "base_uri": "https://localhost:8080/",
          "height": 378
        },
        "id": "6mck144_a57W",
        "outputId": "2901845f-c2dc-4cd6-e82d-b52da8798e33"
      },
      "source": [
        "f, (ax1, ax2) = plt.subplots(1, 2, figsize=(15, 5))\n",
        "t = f.suptitle('Deep Neural Net Performance', fontsize=12)\n",
        "f.subplots_adjust(top=0.85, wspace=0.3)\n",
        "\n",
        "epochs = list(range(1,100+1))\n",
        "ax1.plot(epochs, history.history['accuracy'], label='Train Accuracy')\n",
        "ax1.plot(epochs, history.history['val_accuracy'], label='Validation Accuracy')\n",
        "ax1.set_xticks(epochs)\n",
        "ax1.set_ylabel('Accuracy Value')\n",
        "ax1.set_xlabel('Epoch')\n",
        "ax1.set_title('Accuracy')\n",
        "l1 = ax1.legend(loc=\"best\")\n",
        "\n",
        "ax2.plot(epochs, history.history['loss'], label='Train Loss')\n",
        "ax2.plot(epochs, history.history['val_loss'], label='Validation Loss')\n",
        "ax2.set_xticks(epochs)\n",
        "ax2.set_ylabel('Loss Value')\n",
        "ax2.set_xlabel('Epoch')\n",
        "ax2.set_title('Loss')\n",
        "l2 = ax2.legend(loc=\"best\")"
      ],
      "execution_count": null,
      "outputs": [
        {
          "output_type": "display_data",
          "data": {
            "image/png": "[encoded data removed]",
            "text/plain": [
              "<Figure size 1080x360 with 2 Axes>"
            ]
          },
          "metadata": {
            "tags": [],
            "needs_background": "light"
          }
        }
      ]
    },
    {
      "cell_type": "code",
      "metadata": {
        "id": "TBszz0IWO22x"
      },
      "source": [
        ""
      ],
      "execution_count": null,
      "outputs": []
    }
  ]
}