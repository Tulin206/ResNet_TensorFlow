{
  "nbformat": 4,
  "nbformat_minor": 0,
  "metadata": {
    "kernelspec": {
      "display_name": "Python 3",
      "language": "python",
      "name": "python3"
    },
    "language_info": {
      "codemirror_mode": {
        "name": "ipython",
        "version": 3
      },
      "file_extension": ".py",
      "mimetype": "text/x-python",
      "name": "python",
      "nbconvert_exporter": "python",
      "pygments_lexer": "ipython3",
      "version": "3.7.6"
    },
    "colab": {
      "name": "Resnet_random_labeling_withoutAugmentation.ipynb",
      "provenance": [],
      "collapsed_sections": []
    }
  },
  "cells": [
    {
      "cell_type": "code",
      "metadata": {
        "id": "16pXmcb8a57D"
      },
      "source": [
        "import os\n",
        "os.environ['CUDA_VISIBLE_DEVICES'] = '0'\n",
        "import cv2\n",
        "import tensorflow as tf\n",
        "import tensorflow.keras\n",
        "from tensorflow.keras import datasets, layers, models\n",
        "from tensorflow.keras.models import Sequential, load_model, Model\n",
        "from tensorflow.keras.layers import Input, Add, Dense, Activation, ZeroPadding2D, Dropout, Flatten,Conv2D, MaxPooling2D,BatchNormalization,AveragePooling2D\n",
        "from tensorflow.keras.initializers import glorot_uniform\n",
        "from tensorflow.keras.utils import plot_model\n",
        "from IPython.display import SVG\n",
        "# from tensorflow.keras.utils.vis_utils import model_to_dot\n",
        "import tensorflow.keras.backend as K \n",
        "import matplotlib.pyplot as plt\n",
        "import numpy as np"
      ],
      "execution_count": 1,
      "outputs": []
    },
    {
      "cell_type": "code",
      "metadata": {
        "id": "yKJG1xA4a57K",
        "colab": {
          "base_uri": "https://localhost:8080/"
        },
        "outputId": "ff4d2a52-e4b5-4a1c-ad5a-bfe86f8997cb"
      },
      "source": [
        "# Load Data\n",
        "\n",
        "(X_train, y_train), (X_test,y_test) = datasets.cifar10.load_data()"
      ],
      "execution_count": 2,
      "outputs": [
        {
          "output_type": "stream",
          "text": [
            "Downloading data from https://www.cs.toronto.edu/~kriz/cifar-10-python.tar.gz\n",
            "170500096/170498071 [==============================] - 4s 0us/step\n"
          ],
          "name": "stdout"
        }
      ]
    },
    {
      "cell_type": "code",
      "metadata": {
        "id": "0LqVxLWXa57K"
      },
      "source": [
        "CLASS_NAMES= ['airplane', 'automobile', 'bird', 'cat', 'deer', 'dog', 'frog', 'horse', 'ship', 'truck']"
      ],
      "execution_count": 3,
      "outputs": []
    },
    {
      "cell_type": "code",
      "metadata": {
        "id": "K6HZ2eGHa57L"
      },
      "source": [
        "#Train-validation-test split\n",
        "\n",
        "X_val, y_val = X_train[:5000], y_train[:5000]\n",
        "X_train, y_train = X_train[5000:], y_train[5000:]"
      ],
      "execution_count": 4,
      "outputs": []
    },
    {
      "cell_type": "code",
      "metadata": {
        "id": "Ke5hJ1ada57N"
      },
      "source": [
        "#Onehot Encoding the labels.\n",
        "\n",
        "from sklearn.utils.multiclass import unique_labels\n",
        "from tensorflow.keras.utils import to_categorical"
      ],
      "execution_count": 5,
      "outputs": []
    },
    {
      "cell_type": "code",
      "metadata": {
        "id": "9vp-uzxTa57O"
      },
      "source": [
        "#Since we have 10 classes we should expect the shape[1] of y_train,y_val and y_test to change from 1 to 10\n",
        "\n",
        "y_train=to_categorical(y_train)\n",
        "y_val=to_categorical(y_val)\n",
        "y_test=to_categorical(y_test)"
      ],
      "execution_count": 6,
      "outputs": []
    },
    {
      "cell_type": "code",
      "metadata": {
        "id": "aKdfkasG8WvH"
      },
      "source": [
        "from sklearn.utils import shuffle\n",
        "\n",
        "x_shuffled, y_shuffled = shuffle(X_train, y_train, random_state=0)\n",
        "x_val_shuffled, y_val_shuffled = shuffle(X_val, y_val, random_state=0)"
      ],
      "execution_count": 7,
      "outputs": []
    },
    {
      "cell_type": "code",
      "metadata": {
        "colab": {
          "base_uri": "https://localhost:8080/",
          "height": 549
        },
        "id": "XTNtiGl48cpR",
        "outputId": "49c9e1c7-e260-4343-b8d0-9be59af20f49"
      },
      "source": [
        "import matplotlib.pyplot as plt\n",
        "\n",
        "print(y_shuffled[0])\n",
        "plt.imshow(x_shuffled[0])\n",
        "plt.show()\n",
        "\n",
        "print(y_train[0])\n",
        "plt.imshow(X_train[0])\n",
        "plt.show()"
      ],
      "execution_count": 8,
      "outputs": [
        {
          "output_type": "stream",
          "text": [
            "[0. 0. 0. 0. 0. 0. 0. 1. 0. 0.]\n"
          ],
          "name": "stdout"
        },
        {
          "output_type": "display_data",
          "data": {
            "image/png": "[encoded data removed]",
            "text/plain": [
              "<Figure size 432x288 with 1 Axes>"
            ]
          },
          "metadata": {
            "tags": [],
            "needs_background": "light"
          }
        },
        {
          "output_type": "stream",
          "text": [
            "[0. 0. 0. 0. 0. 0. 1. 0. 0. 0.]\n"
          ],
          "name": "stdout"
        },
        {
          "output_type": "display_data",
          "data": {
            "image/png": "[encoded data removed]",
            "text/plain": [
              "<Figure size 432x288 with 1 Axes>"
            ]
          },
          "metadata": {
            "tags": [],
            "needs_background": "light"
          }
        }
      ]
    },
    {
      "cell_type": "code",
      "metadata": {
        "id": "Wlxi_Auv8hFe"
      },
      "source": [
        "# Concatenate train original and randomized images\n",
        "X_train = np.concatenate((X_train,X_train))\n",
        "y_train = np.concatenate((y_train,y_shuffled))\n",
        "X_val = np.concatenate((X_val,X_val))\n",
        "y_val = np.concatenate((y_val,y_val_shuffled))"
      ],
      "execution_count": 9,
      "outputs": []
    },
    {
      "cell_type": "code",
      "metadata": {
        "id": "fafk6pgpa57O"
      },
      "source": [
        "#Image Data Augmentation\n",
        "\n",
        "# from tensorflow.keras.preprocessing.image import ImageDataGenerator\n",
        "\n",
        "# train_generator = ImageDataGenerator(rotation_range=2, horizontal_flip=True,zoom_range=.1 )\n",
        "\n",
        "# val_generator = ImageDataGenerator(rotation_range=2, horizontal_flip=True,zoom_range=.1)\n",
        "\n",
        "# test_generator = ImageDataGenerator(rotation_range=2, horizontal_flip= True,zoom_range=.1)"
      ],
      "execution_count": 10,
      "outputs": []
    },
    {
      "cell_type": "code",
      "metadata": {
        "id": "SpDwscdca57O"
      },
      "source": [
        "#Fitting the augmentation defined above to the data\n",
        "\n",
        "# train_generator.fit(X_train)\n",
        "# val_generator.fit(X_val)\n",
        "# test_ds = test_generator.fit(X_test)"
      ],
      "execution_count": 11,
      "outputs": []
    },
    {
      "cell_type": "code",
      "metadata": {
        "id": "3Sy7AzDwa57S"
      },
      "source": [
        "ROWS = 32\n",
        "COLS = 32\n",
        "CHANNELS = 3\n",
        "CLASSES = 10"
      ],
      "execution_count": 12,
      "outputs": []
    },
    {
      "cell_type": "code",
      "metadata": {
        "id": "1LvmAtETa57S"
      },
      "source": [
        "def identity_block(X, f, filters, stage, block):\n",
        "    # defining name basis\n",
        "    conv_name_base = 'res' + str(stage) + block + '_branch'\n",
        "    bn_name_base = 'bn' + str(stage) + block + '_branch'\n",
        "\n",
        "    # Retrieve Filters\n",
        "    F1, F2, F3 = filters\n",
        "\n",
        "    # Save the input value. We'll need this later to add back to the main path. \n",
        "    X_shortcut = X\n",
        "\n",
        "    # First component of main path\n",
        "    X = Conv2D(filters = F1, kernel_size = (1, 1), strides = (1,1), padding = 'valid', name = conv_name_base + '2a', kernel_initializer = glorot_uniform(seed=0))(X)\n",
        "    X = BatchNormalization(axis = 3, name = bn_name_base + '2a')(X)\n",
        "    X = Activation('relu')(X)\n",
        "\n",
        "    # Second component of main path\n",
        "    X = Conv2D(filters = F2, kernel_size = (f, f), strides = (1,1), padding = 'same', name = conv_name_base + '2b', kernel_initializer = glorot_uniform(seed=0))(X)\n",
        "    X = BatchNormalization(axis = 3, name = bn_name_base + '2b')(X)\n",
        "    X = Activation('relu')(X)\n",
        "\n",
        "    # Third component of main path\n",
        "    X = Conv2D(filters = F3, kernel_size = (1, 1), strides = (1,1), padding = 'valid', name = conv_name_base + '2c', kernel_initializer = glorot_uniform(seed=0))(X)\n",
        "    X = BatchNormalization(axis = 3, name = bn_name_base + '2c')(X)\n",
        "\n",
        "    # Final step: Add shortcut value to main path, and pass it through a RELU activation\n",
        "    X = Add()([X, X_shortcut])\n",
        "    X = Activation('relu')(X)\n",
        "\n",
        "    return X"
      ],
      "execution_count": 13,
      "outputs": []
    },
    {
      "cell_type": "code",
      "metadata": {
        "colab": {
          "base_uri": "https://localhost:8080/"
        },
        "id": "OJOMaIX5a57S",
        "outputId": "75e31ab1-5f54-451a-a7a7-70640ff1e864"
      },
      "source": [
        "from tensorflow.python.framework import ops\n",
        "ops.reset_default_graph()\n",
        "\n",
        "# tf.reset_default_graph()\n",
        "\n",
        "with tf.compat.v1.Session() as test:\n",
        "    A_prev = tf.compat.v1.placeholder(\"float\", [3, 4, 4, 6])\n",
        "    X = np.random.randn(3, 4, 4, 6)\n",
        "    A = identity_block(A_prev, f = 2, filters = [2, 4, 6], stage = 1, block = 'a')\n",
        "    test.run(tf.compat.v1.global_variables_initializer())\n",
        "    out = test.run([A], feed_dict={A_prev: X, K.learning_phase(): 0})\n",
        "    print(\"out = \", out[0][1][1][0])"
      ],
      "execution_count": 14,
      "outputs": [
        {
          "output_type": "stream",
          "text": [
            "out =  [0.32565266 2.5894096  1.3662591  0.         0.2779491  1.3332089 ]\n"
          ],
          "name": "stdout"
        }
      ]
    },
    {
      "cell_type": "code",
      "metadata": {
        "id": "vb8fxH-La57T"
      },
      "source": [
        "def convolutional_block(X, f, filters, stage, block, s = 2):\n",
        "    # defining name basis\n",
        "    conv_name_base = 'res' + str(stage) + block + '_branch'\n",
        "    bn_name_base = 'bn' + str(stage) + block + '_branch'\n",
        "    \n",
        "    # Retrieve Filters\n",
        "    F1, F2, F3 = filters\n",
        "    \n",
        "    # Save the input value\n",
        "    X_shortcut = X\n",
        "\n",
        "\n",
        "    ##### MAIN PATH #####\n",
        "    # First component of main path \n",
        "    X = Conv2D(F1, (1, 1), strides = (s,s), name = conv_name_base + '2a', kernel_initializer = glorot_uniform(seed=0))(X)\n",
        "    X = BatchNormalization(axis = 3, name = bn_name_base + '2a')(X)\n",
        "    X = Activation('relu')(X)\n",
        "\n",
        "    # Second component of main path\n",
        "    X = Conv2D(filters=F2, kernel_size=(f, f), strides=(1, 1), padding='same', name=conv_name_base + '2b', kernel_initializer=glorot_uniform(seed=0))(X)\n",
        "    X = BatchNormalization(axis=3, name=bn_name_base + '2b')(X)\n",
        "    X = Activation('relu')(X)\n",
        "\n",
        "    # Third component of main path\n",
        "    X = Conv2D(filters=F3, kernel_size=(1, 1), strides=(1, 1), padding='valid', name=conv_name_base + '2c', kernel_initializer=glorot_uniform(seed=0))(X)\n",
        "    X = BatchNormalization(axis=3, name=bn_name_base + '2c')(X)\n",
        "\n",
        "    \n",
        "    ##### SHORTCUT PATH ####\n",
        "    X_shortcut = Conv2D(F3, (1, 1), strides = (s,s), name = conv_name_base + '1', kernel_initializer = glorot_uniform(seed=0))(X_shortcut)\n",
        "    X_shortcut = BatchNormalization(axis = 3, name = bn_name_base + '1')(X_shortcut)\n",
        "\n",
        "    # Final step: Add shortcut value to main path, and pass it through a RELU activation\n",
        "    X = Add()([X, X_shortcut])\n",
        "    X = Activation('relu')(X)\n",
        "    \n",
        "    return X"
      ],
      "execution_count": 15,
      "outputs": []
    },
    {
      "cell_type": "code",
      "metadata": {
        "id": "ReQb8HeVa57T",
        "colab": {
          "base_uri": "https://localhost:8080/"
        },
        "outputId": "cfa44887-bfad-4ffd-e015-46d5ab6c9766"
      },
      "source": [
        "from tensorflow.python.framework import ops\n",
        "ops.reset_default_graph()\n",
        "\n",
        "# tf.reset_default_graph()\n",
        "\n",
        "with tf.compat.v1.Session() as test:\n",
        "    A_prev = tf.compat.v1.placeholder(\"float\", [3, 4, 4, 6])\n",
        "    X = np.random.randn(3, 4, 4, 6)\n",
        "    A = convolutional_block(A_prev, f = 2, filters = [2, 4, 6], stage = 1, block = 'a')\n",
        "    test.run(tf.compat.v1.global_variables_initializer())\n",
        "    out = test.run([A], feed_dict={A_prev: X, K.learning_phase(): 0})\n",
        "    print(\"out = \",out[0][1][1][0])"
      ],
      "execution_count": 16,
      "outputs": [
        {
          "output_type": "stream",
          "text": [
            "out =  [0.04297113 0.         0.15107253 0.8827275  0.         0.        ]\n"
          ],
          "name": "stdout"
        }
      ]
    },
    {
      "cell_type": "code",
      "metadata": {
        "id": "YoMXGWPia57U"
      },
      "source": [
        "def ResNet50(input_shape = (32, 32, 3), classes = 10):   \n",
        "    global model\n",
        "    # Define the input as a tensor with shape input_shape\n",
        "    X_input = Input(input_shape)\n",
        "\n",
        "    # Zero-Padding\n",
        "    X = ZeroPadding2D((3, 3))(X_input)\n",
        "    \n",
        "    # Stage 1\n",
        "    X = Conv2D(64, (7, 7), strides = (2, 2), name = 'conv1', kernel_initializer = glorot_uniform(seed=0))(X)\n",
        "    X = BatchNormalization(axis = 3, name = 'bn_conv1')(X)\n",
        "    X = Activation('relu')(X)\n",
        "    X = MaxPooling2D((3, 3), strides=(2, 2))(X)\n",
        "\n",
        "    # Stage 2\n",
        "    X = convolutional_block(X, f = 3, filters = [64, 64, 256], stage = 2, block='a', s = 1)\n",
        "    X = identity_block(X, 3, [64, 64, 256], stage=2, block='b')\n",
        "    X = identity_block(X, 3, [64, 64, 256], stage=2, block='c')\n",
        "\n",
        "    # Stage 3\n",
        "    X = convolutional_block(X, f = 3, filters = [128, 128, 512], stage = 3, block='a', s = 2)\n",
        "    X = identity_block(X, 3, [128, 128, 512], stage=3, block='b')\n",
        "    X = identity_block(X, 3, [128, 128, 512], stage=3, block='c')\n",
        "    X = identity_block(X, 3, [128, 128, 512], stage=3, block='d')\n",
        "\n",
        "    # Stage 4\n",
        "    X = convolutional_block(X, f = 3, filters = [256, 256, 1024], stage = 4, block='a', s = 2)\n",
        "    X = identity_block(X, 3, [256, 256, 1024], stage=4, block='b')\n",
        "    X = identity_block(X, 3, [256, 256, 1024], stage=4, block='c')\n",
        "    X = identity_block(X, 3, [256, 256, 1024], stage=4, block='d')\n",
        "    X = identity_block(X, 3, [256, 256, 1024], stage=4, block='e')\n",
        "    X = identity_block(X, 3, [256, 256, 1024], stage=4, block='f')\n",
        "\n",
        "    # Stage 5\n",
        "    # X = convolutional_block(X, f = 3, filters = [512, 512, 2048], stage = 5, block='a', s = 2)\n",
        "    # X = identity_block(X, 3, [512, 512, 2048], stage=5, block='b')\n",
        "    # X = identity_block(X, 3, [512, 512, 2048], stage=5, block='c')\n",
        "\n",
        "    # AVGPOOL.\n",
        "    X = AveragePooling2D((2, 2), name='avg_pool')(X)\n",
        "\n",
        "    # output layer\n",
        "    X = Flatten()(X)\n",
        "    X = Dense(classes, activation='softmax', name='fc' + str(classes), kernel_initializer = glorot_uniform(seed=0))(X)\n",
        "    \n",
        "    # Create model\n",
        "    model = Model(inputs = X_input, outputs = X, name='ResNet50')\n",
        "\n",
        "    model.summary()\n",
        "\n",
        "    return model"
      ],
      "execution_count": 17,
      "outputs": []
    },
    {
      "cell_type": "code",
      "metadata": {
        "colab": {
          "base_uri": "https://localhost:8080/"
        },
        "id": "oyv0JxLUa57U",
        "outputId": "a69e2877-d085-4bcb-be00-5c4c90d455c9"
      },
      "source": [
        "model = ResNet50(input_shape = (32, 32, 3), classes = 10)"
      ],
      "execution_count": 18,
      "outputs": [
        {
          "output_type": "stream",
          "text": [
            "Model: \"ResNet50\"\n",
            "__________________________________________________________________________________________________\n",
            "Layer (type)                    Output Shape         Param #     Connected to                     \n",
            "==================================================================================================\n",
            "input_1 (InputLayer)            [(None, 32, 32, 3)]  0                                            \n",
            "__________________________________________________________________________________________________\n",
            "zero_padding2d (ZeroPadding2D)  (None, 38, 38, 3)    0           input_1[0][0]                    \n",
            "__________________________________________________________________________________________________\n",
            "conv1 (Conv2D)                  (None, 16, 16, 64)   9472        zero_padding2d[0][0]             \n",
            "__________________________________________________________________________________________________\n",
            "bn_conv1 (BatchNormalization)   (None, 16, 16, 64)   256         conv1[0][0]                      \n",
            "__________________________________________________________________________________________________\n",
            "activation_3 (Activation)       (None, 16, 16, 64)   0           bn_conv1[0][0]                   \n",
            "__________________________________________________________________________________________________\n",
            "max_pooling2d (MaxPooling2D)    (None, 7, 7, 64)     0           activation_3[0][0]               \n",
            "__________________________________________________________________________________________________\n",
            "res2a_branch2a (Conv2D)         (None, 7, 7, 64)     4160        max_pooling2d[0][0]              \n",
            "__________________________________________________________________________________________________\n",
            "bn2a_branch2a (BatchNormalizati (None, 7, 7, 64)     256         res2a_branch2a[0][0]             \n",
            "__________________________________________________________________________________________________\n",
            "activation_4 (Activation)       (None, 7, 7, 64)     0           bn2a_branch2a[0][0]              \n",
            "__________________________________________________________________________________________________\n",
            "res2a_branch2b (Conv2D)         (None, 7, 7, 64)     36928       activation_4[0][0]               \n",
            "__________________________________________________________________________________________________\n",
            "bn2a_branch2b (BatchNormalizati (None, 7, 7, 64)     256         res2a_branch2b[0][0]             \n",
            "__________________________________________________________________________________________________\n",
            "activation_5 (Activation)       (None, 7, 7, 64)     0           bn2a_branch2b[0][0]              \n",
            "__________________________________________________________________________________________________\n",
            "res2a_branch2c (Conv2D)         (None, 7, 7, 256)    16640       activation_5[0][0]               \n",
            "__________________________________________________________________________________________________\n",
            "res2a_branch1 (Conv2D)          (None, 7, 7, 256)    16640       max_pooling2d[0][0]              \n",
            "__________________________________________________________________________________________________\n",
            "bn2a_branch2c (BatchNormalizati (None, 7, 7, 256)    1024        res2a_branch2c[0][0]             \n",
            "__________________________________________________________________________________________________\n",
            "bn2a_branch1 (BatchNormalizatio (None, 7, 7, 256)    1024        res2a_branch1[0][0]              \n",
            "__________________________________________________________________________________________________\n",
            "add_1 (Add)                     (None, 7, 7, 256)    0           bn2a_branch2c[0][0]              \n",
            "                                                                 bn2a_branch1[0][0]               \n",
            "__________________________________________________________________________________________________\n",
            "activation_6 (Activation)       (None, 7, 7, 256)    0           add_1[0][0]                      \n",
            "__________________________________________________________________________________________________\n",
            "res2b_branch2a (Conv2D)         (None, 7, 7, 64)     16448       activation_6[0][0]               \n",
            "__________________________________________________________________________________________________\n",
            "bn2b_branch2a (BatchNormalizati (None, 7, 7, 64)     256         res2b_branch2a[0][0]             \n",
            "__________________________________________________________________________________________________\n",
            "activation_7 (Activation)       (None, 7, 7, 64)     0           bn2b_branch2a[0][0]              \n",
            "__________________________________________________________________________________________________\n",
            "res2b_branch2b (Conv2D)         (None, 7, 7, 64)     36928       activation_7[0][0]               \n",
            "__________________________________________________________________________________________________\n",
            "bn2b_branch2b (BatchNormalizati (None, 7, 7, 64)     256         res2b_branch2b[0][0]             \n",
            "__________________________________________________________________________________________________\n",
            "activation_8 (Activation)       (None, 7, 7, 64)     0           bn2b_branch2b[0][0]              \n",
            "__________________________________________________________________________________________________\n",
            "res2b_branch2c (Conv2D)         (None, 7, 7, 256)    16640       activation_8[0][0]               \n",
            "__________________________________________________________________________________________________\n",
            "bn2b_branch2c (BatchNormalizati (None, 7, 7, 256)    1024        res2b_branch2c[0][0]             \n",
            "__________________________________________________________________________________________________\n",
            "add_2 (Add)                     (None, 7, 7, 256)    0           bn2b_branch2c[0][0]              \n",
            "                                                                 activation_6[0][0]               \n",
            "__________________________________________________________________________________________________\n",
            "activation_9 (Activation)       (None, 7, 7, 256)    0           add_2[0][0]                      \n",
            "__________________________________________________________________________________________________\n",
            "res2c_branch2a (Conv2D)         (None, 7, 7, 64)     16448       activation_9[0][0]               \n",
            "__________________________________________________________________________________________________\n",
            "bn2c_branch2a (BatchNormalizati (None, 7, 7, 64)     256         res2c_branch2a[0][0]             \n",
            "__________________________________________________________________________________________________\n",
            "activation_10 (Activation)      (None, 7, 7, 64)     0           bn2c_branch2a[0][0]              \n",
            "__________________________________________________________________________________________________\n",
            "res2c_branch2b (Conv2D)         (None, 7, 7, 64)     36928       activation_10[0][0]              \n",
            "__________________________________________________________________________________________________\n",
            "bn2c_branch2b (BatchNormalizati (None, 7, 7, 64)     256         res2c_branch2b[0][0]             \n",
            "__________________________________________________________________________________________________\n",
            "activation_11 (Activation)      (None, 7, 7, 64)     0           bn2c_branch2b[0][0]              \n",
            "__________________________________________________________________________________________________\n",
            "res2c_branch2c (Conv2D)         (None, 7, 7, 256)    16640       activation_11[0][0]              \n",
            "__________________________________________________________________________________________________\n",
            "bn2c_branch2c (BatchNormalizati (None, 7, 7, 256)    1024        res2c_branch2c[0][0]             \n",
            "__________________________________________________________________________________________________\n",
            "add_3 (Add)                     (None, 7, 7, 256)    0           bn2c_branch2c[0][0]              \n",
            "                                                                 activation_9[0][0]               \n",
            "__________________________________________________________________________________________________\n",
            "activation_12 (Activation)      (None, 7, 7, 256)    0           add_3[0][0]                      \n",
            "__________________________________________________________________________________________________\n",
            "res3a_branch2a (Conv2D)         (None, 4, 4, 128)    32896       activation_12[0][0]              \n",
            "__________________________________________________________________________________________________\n",
            "bn3a_branch2a (BatchNormalizati (None, 4, 4, 128)    512         res3a_branch2a[0][0]             \n",
            "__________________________________________________________________________________________________\n",
            "activation_13 (Activation)      (None, 4, 4, 128)    0           bn3a_branch2a[0][0]              \n",
            "__________________________________________________________________________________________________\n",
            "res3a_branch2b (Conv2D)         (None, 4, 4, 128)    147584      activation_13[0][0]              \n",
            "__________________________________________________________________________________________________\n",
            "bn3a_branch2b (BatchNormalizati (None, 4, 4, 128)    512         res3a_branch2b[0][0]             \n",
            "__________________________________________________________________________________________________\n",
            "activation_14 (Activation)      (None, 4, 4, 128)    0           bn3a_branch2b[0][0]              \n",
            "__________________________________________________________________________________________________\n",
            "res3a_branch2c (Conv2D)         (None, 4, 4, 512)    66048       activation_14[0][0]              \n",
            "__________________________________________________________________________________________________\n",
            "res3a_branch1 (Conv2D)          (None, 4, 4, 512)    131584      activation_12[0][0]              \n",
            "__________________________________________________________________________________________________\n",
            "bn3a_branch2c (BatchNormalizati (None, 4, 4, 512)    2048        res3a_branch2c[0][0]             \n",
            "__________________________________________________________________________________________________\n",
            "bn3a_branch1 (BatchNormalizatio (None, 4, 4, 512)    2048        res3a_branch1[0][0]              \n",
            "__________________________________________________________________________________________________\n",
            "add_4 (Add)                     (None, 4, 4, 512)    0           bn3a_branch2c[0][0]              \n",
            "                                                                 bn3a_branch1[0][0]               \n",
            "__________________________________________________________________________________________________\n",
            "activation_15 (Activation)      (None, 4, 4, 512)    0           add_4[0][0]                      \n",
            "__________________________________________________________________________________________________\n",
            "res3b_branch2a (Conv2D)         (None, 4, 4, 128)    65664       activation_15[0][0]              \n",
            "__________________________________________________________________________________________________\n",
            "bn3b_branch2a (BatchNormalizati (None, 4, 4, 128)    512         res3b_branch2a[0][0]             \n",
            "__________________________________________________________________________________________________\n",
            "activation_16 (Activation)      (None, 4, 4, 128)    0           bn3b_branch2a[0][0]              \n",
            "__________________________________________________________________________________________________\n",
            "res3b_branch2b (Conv2D)         (None, 4, 4, 128)    147584      activation_16[0][0]              \n",
            "__________________________________________________________________________________________________\n",
            "bn3b_branch2b (BatchNormalizati (None, 4, 4, 128)    512         res3b_branch2b[0][0]             \n",
            "__________________________________________________________________________________________________\n",
            "activation_17 (Activation)      (None, 4, 4, 128)    0           bn3b_branch2b[0][0]              \n",
            "__________________________________________________________________________________________________\n",
            "res3b_branch2c (Conv2D)         (None, 4, 4, 512)    66048       activation_17[0][0]              \n",
            "__________________________________________________________________________________________________\n",
            "bn3b_branch2c (BatchNormalizati (None, 4, 4, 512)    2048        res3b_branch2c[0][0]             \n",
            "__________________________________________________________________________________________________\n",
            "add_5 (Add)                     (None, 4, 4, 512)    0           bn3b_branch2c[0][0]              \n",
            "                                                                 activation_15[0][0]              \n",
            "__________________________________________________________________________________________________\n",
            "activation_18 (Activation)      (None, 4, 4, 512)    0           add_5[0][0]                      \n",
            "__________________________________________________________________________________________________\n",
            "res3c_branch2a (Conv2D)         (None, 4, 4, 128)    65664       activation_18[0][0]              \n",
            "__________________________________________________________________________________________________\n",
            "bn3c_branch2a (BatchNormalizati (None, 4, 4, 128)    512         res3c_branch2a[0][0]             \n",
            "__________________________________________________________________________________________________\n",
            "activation_19 (Activation)      (None, 4, 4, 128)    0           bn3c_branch2a[0][0]              \n",
            "__________________________________________________________________________________________________\n",
            "res3c_branch2b (Conv2D)         (None, 4, 4, 128)    147584      activation_19[0][0]              \n",
            "__________________________________________________________________________________________________\n",
            "bn3c_branch2b (BatchNormalizati (None, 4, 4, 128)    512         res3c_branch2b[0][0]             \n",
            "__________________________________________________________________________________________________\n",
            "activation_20 (Activation)      (None, 4, 4, 128)    0           bn3c_branch2b[0][0]              \n",
            "__________________________________________________________________________________________________\n",
            "res3c_branch2c (Conv2D)         (None, 4, 4, 512)    66048       activation_20[0][0]              \n",
            "__________________________________________________________________________________________________\n",
            "bn3c_branch2c (BatchNormalizati (None, 4, 4, 512)    2048        res3c_branch2c[0][0]             \n",
            "__________________________________________________________________________________________________\n",
            "add_6 (Add)                     (None, 4, 4, 512)    0           bn3c_branch2c[0][0]              \n",
            "                                                                 activation_18[0][0]              \n",
            "__________________________________________________________________________________________________\n",
            "activation_21 (Activation)      (None, 4, 4, 512)    0           add_6[0][0]                      \n",
            "__________________________________________________________________________________________________\n",
            "res3d_branch2a (Conv2D)         (None, 4, 4, 128)    65664       activation_21[0][0]              \n",
            "__________________________________________________________________________________________________\n",
            "bn3d_branch2a (BatchNormalizati (None, 4, 4, 128)    512         res3d_branch2a[0][0]             \n",
            "__________________________________________________________________________________________________\n",
            "activation_22 (Activation)      (None, 4, 4, 128)    0           bn3d_branch2a[0][0]              \n",
            "__________________________________________________________________________________________________\n",
            "res3d_branch2b (Conv2D)         (None, 4, 4, 128)    147584      activation_22[0][0]              \n",
            "__________________________________________________________________________________________________\n",
            "bn3d_branch2b (BatchNormalizati (None, 4, 4, 128)    512         res3d_branch2b[0][0]             \n",
            "__________________________________________________________________________________________________\n",
            "activation_23 (Activation)      (None, 4, 4, 128)    0           bn3d_branch2b[0][0]              \n",
            "__________________________________________________________________________________________________\n",
            "res3d_branch2c (Conv2D)         (None, 4, 4, 512)    66048       activation_23[0][0]              \n",
            "__________________________________________________________________________________________________\n",
            "bn3d_branch2c (BatchNormalizati (None, 4, 4, 512)    2048        res3d_branch2c[0][0]             \n",
            "__________________________________________________________________________________________________\n",
            "add_7 (Add)                     (None, 4, 4, 512)    0           bn3d_branch2c[0][0]              \n",
            "                                                                 activation_21[0][0]              \n",
            "__________________________________________________________________________________________________\n",
            "activation_24 (Activation)      (None, 4, 4, 512)    0           add_7[0][0]                      \n",
            "__________________________________________________________________________________________________\n",
            "res4a_branch2a (Conv2D)         (None, 2, 2, 256)    131328      activation_24[0][0]              \n",
            "__________________________________________________________________________________________________\n",
            "bn4a_branch2a (BatchNormalizati (None, 2, 2, 256)    1024        res4a_branch2a[0][0]             \n",
            "__________________________________________________________________________________________________\n",
            "activation_25 (Activation)      (None, 2, 2, 256)    0           bn4a_branch2a[0][0]              \n",
            "__________________________________________________________________________________________________\n",
            "res4a_branch2b (Conv2D)         (None, 2, 2, 256)    590080      activation_25[0][0]              \n",
            "__________________________________________________________________________________________________\n",
            "bn4a_branch2b (BatchNormalizati (None, 2, 2, 256)    1024        res4a_branch2b[0][0]             \n",
            "__________________________________________________________________________________________________\n",
            "activation_26 (Activation)      (None, 2, 2, 256)    0           bn4a_branch2b[0][0]              \n",
            "__________________________________________________________________________________________________\n",
            "res4a_branch2c (Conv2D)         (None, 2, 2, 1024)   263168      activation_26[0][0]              \n",
            "__________________________________________________________________________________________________\n",
            "res4a_branch1 (Conv2D)          (None, 2, 2, 1024)   525312      activation_24[0][0]              \n",
            "__________________________________________________________________________________________________\n",
            "bn4a_branch2c (BatchNormalizati (None, 2, 2, 1024)   4096        res4a_branch2c[0][0]             \n",
            "__________________________________________________________________________________________________\n",
            "bn4a_branch1 (BatchNormalizatio (None, 2, 2, 1024)   4096        res4a_branch1[0][0]              \n",
            "__________________________________________________________________________________________________\n",
            "add_8 (Add)                     (None, 2, 2, 1024)   0           bn4a_branch2c[0][0]              \n",
            "                                                                 bn4a_branch1[0][0]               \n",
            "__________________________________________________________________________________________________\n",
            "activation_27 (Activation)      (None, 2, 2, 1024)   0           add_8[0][0]                      \n",
            "__________________________________________________________________________________________________\n",
            "res4b_branch2a (Conv2D)         (None, 2, 2, 256)    262400      activation_27[0][0]              \n",
            "__________________________________________________________________________________________________\n",
            "bn4b_branch2a (BatchNormalizati (None, 2, 2, 256)    1024        res4b_branch2a[0][0]             \n",
            "__________________________________________________________________________________________________\n",
            "activation_28 (Activation)      (None, 2, 2, 256)    0           bn4b_branch2a[0][0]              \n",
            "__________________________________________________________________________________________________\n",
            "res4b_branch2b (Conv2D)         (None, 2, 2, 256)    590080      activation_28[0][0]              \n",
            "__________________________________________________________________________________________________\n",
            "bn4b_branch2b (BatchNormalizati (None, 2, 2, 256)    1024        res4b_branch2b[0][0]             \n",
            "__________________________________________________________________________________________________\n",
            "activation_29 (Activation)      (None, 2, 2, 256)    0           bn4b_branch2b[0][0]              \n",
            "__________________________________________________________________________________________________\n",
            "res4b_branch2c (Conv2D)         (None, 2, 2, 1024)   263168      activation_29[0][0]              \n",
            "__________________________________________________________________________________________________\n",
            "bn4b_branch2c (BatchNormalizati (None, 2, 2, 1024)   4096        res4b_branch2c[0][0]             \n",
            "__________________________________________________________________________________________________\n",
            "add_9 (Add)                     (None, 2, 2, 1024)   0           bn4b_branch2c[0][0]              \n",
            "                                                                 activation_27[0][0]              \n",
            "__________________________________________________________________________________________________\n",
            "activation_30 (Activation)      (None, 2, 2, 1024)   0           add_9[0][0]                      \n",
            "__________________________________________________________________________________________________\n",
            "res4c_branch2a (Conv2D)         (None, 2, 2, 256)    262400      activation_30[0][0]              \n",
            "__________________________________________________________________________________________________\n",
            "bn4c_branch2a (BatchNormalizati (None, 2, 2, 256)    1024        res4c_branch2a[0][0]             \n",
            "__________________________________________________________________________________________________\n",
            "activation_31 (Activation)      (None, 2, 2, 256)    0           bn4c_branch2a[0][0]              \n",
            "__________________________________________________________________________________________________\n",
            "res4c_branch2b (Conv2D)         (None, 2, 2, 256)    590080      activation_31[0][0]              \n",
            "__________________________________________________________________________________________________\n",
            "bn4c_branch2b (BatchNormalizati (None, 2, 2, 256)    1024        res4c_branch2b[0][0]             \n",
            "__________________________________________________________________________________________________\n",
            "activation_32 (Activation)      (None, 2, 2, 256)    0           bn4c_branch2b[0][0]              \n",
            "__________________________________________________________________________________________________\n",
            "res4c_branch2c (Conv2D)         (None, 2, 2, 1024)   263168      activation_32[0][0]              \n",
            "__________________________________________________________________________________________________\n",
            "bn4c_branch2c (BatchNormalizati (None, 2, 2, 1024)   4096        res4c_branch2c[0][0]             \n",
            "__________________________________________________________________________________________________\n",
            "add_10 (Add)                    (None, 2, 2, 1024)   0           bn4c_branch2c[0][0]              \n",
            "                                                                 activation_30[0][0]              \n",
            "__________________________________________________________________________________________________\n",
            "activation_33 (Activation)      (None, 2, 2, 1024)   0           add_10[0][0]                     \n",
            "__________________________________________________________________________________________________\n",
            "res4d_branch2a (Conv2D)         (None, 2, 2, 256)    262400      activation_33[0][0]              \n",
            "__________________________________________________________________________________________________\n",
            "bn4d_branch2a (BatchNormalizati (None, 2, 2, 256)    1024        res4d_branch2a[0][0]             \n",
            "__________________________________________________________________________________________________\n",
            "activation_34 (Activation)      (None, 2, 2, 256)    0           bn4d_branch2a[0][0]              \n",
            "__________________________________________________________________________________________________\n",
            "res4d_branch2b (Conv2D)         (None, 2, 2, 256)    590080      activation_34[0][0]              \n",
            "__________________________________________________________________________________________________\n",
            "bn4d_branch2b (BatchNormalizati (None, 2, 2, 256)    1024        res4d_branch2b[0][0]             \n",
            "__________________________________________________________________________________________________\n",
            "activation_35 (Activation)      (None, 2, 2, 256)    0           bn4d_branch2b[0][0]              \n",
            "__________________________________________________________________________________________________\n",
            "res4d_branch2c (Conv2D)         (None, 2, 2, 1024)   263168      activation_35[0][0]              \n",
            "__________________________________________________________________________________________________\n",
            "bn4d_branch2c (BatchNormalizati (None, 2, 2, 1024)   4096        res4d_branch2c[0][0]             \n",
            "__________________________________________________________________________________________________\n",
            "add_11 (Add)                    (None, 2, 2, 1024)   0           bn4d_branch2c[0][0]              \n",
            "                                                                 activation_33[0][0]              \n",
            "__________________________________________________________________________________________________\n",
            "activation_36 (Activation)      (None, 2, 2, 1024)   0           add_11[0][0]                     \n",
            "__________________________________________________________________________________________________\n",
            "res4e_branch2a (Conv2D)         (None, 2, 2, 256)    262400      activation_36[0][0]              \n",
            "__________________________________________________________________________________________________\n",
            "bn4e_branch2a (BatchNormalizati (None, 2, 2, 256)    1024        res4e_branch2a[0][0]             \n",
            "__________________________________________________________________________________________________\n",
            "activation_37 (Activation)      (None, 2, 2, 256)    0           bn4e_branch2a[0][0]              \n",
            "__________________________________________________________________________________________________\n",
            "res4e_branch2b (Conv2D)         (None, 2, 2, 256)    590080      activation_37[0][0]              \n",
            "__________________________________________________________________________________________________\n",
            "bn4e_branch2b (BatchNormalizati (None, 2, 2, 256)    1024        res4e_branch2b[0][0]             \n",
            "__________________________________________________________________________________________________\n",
            "activation_38 (Activation)      (None, 2, 2, 256)    0           bn4e_branch2b[0][0]              \n",
            "__________________________________________________________________________________________________\n",
            "res4e_branch2c (Conv2D)         (None, 2, 2, 1024)   263168      activation_38[0][0]              \n",
            "__________________________________________________________________________________________________\n",
            "bn4e_branch2c (BatchNormalizati (None, 2, 2, 1024)   4096        res4e_branch2c[0][0]             \n",
            "__________________________________________________________________________________________________\n",
            "add_12 (Add)                    (None, 2, 2, 1024)   0           bn4e_branch2c[0][0]              \n",
            "                                                                 activation_36[0][0]              \n",
            "__________________________________________________________________________________________________\n",
            "activation_39 (Activation)      (None, 2, 2, 1024)   0           add_12[0][0]                     \n",
            "__________________________________________________________________________________________________\n",
            "res4f_branch2a (Conv2D)         (None, 2, 2, 256)    262400      activation_39[0][0]              \n",
            "__________________________________________________________________________________________________\n",
            "bn4f_branch2a (BatchNormalizati (None, 2, 2, 256)    1024        res4f_branch2a[0][0]             \n",
            "__________________________________________________________________________________________________\n",
            "activation_40 (Activation)      (None, 2, 2, 256)    0           bn4f_branch2a[0][0]              \n",
            "__________________________________________________________________________________________________\n",
            "res4f_branch2b (Conv2D)         (None, 2, 2, 256)    590080      activation_40[0][0]              \n",
            "__________________________________________________________________________________________________\n",
            "bn4f_branch2b (BatchNormalizati (None, 2, 2, 256)    1024        res4f_branch2b[0][0]             \n",
            "__________________________________________________________________________________________________\n",
            "activation_41 (Activation)      (None, 2, 2, 256)    0           bn4f_branch2b[0][0]              \n",
            "__________________________________________________________________________________________________\n",
            "res4f_branch2c (Conv2D)         (None, 2, 2, 1024)   263168      activation_41[0][0]              \n",
            "__________________________________________________________________________________________________\n",
            "bn4f_branch2c (BatchNormalizati (None, 2, 2, 1024)   4096        res4f_branch2c[0][0]             \n",
            "__________________________________________________________________________________________________\n",
            "add_13 (Add)                    (None, 2, 2, 1024)   0           bn4f_branch2c[0][0]              \n",
            "                                                                 activation_39[0][0]              \n",
            "__________________________________________________________________________________________________\n",
            "activation_42 (Activation)      (None, 2, 2, 1024)   0           add_13[0][0]                     \n",
            "__________________________________________________________________________________________________\n",
            "avg_pool (AveragePooling2D)     (None, 1, 1, 1024)   0           activation_42[0][0]              \n",
            "__________________________________________________________________________________________________\n",
            "flatten (Flatten)               (None, 1024)         0           avg_pool[0][0]                   \n",
            "__________________________________________________________________________________________________\n",
            "fc10 (Dense)                    (None, 10)           10250       flatten[0][0]                    \n",
            "==================================================================================================\n",
            "Total params: 8,599,434\n",
            "Trainable params: 8,568,842\n",
            "Non-trainable params: 30,592\n",
            "__________________________________________________________________________________________________\n"
          ],
          "name": "stdout"
        }
      ]
    },
    {
      "cell_type": "code",
      "metadata": {
        "id": "J650haCoa57V"
      },
      "source": [
        "model.compile(optimizer='adam', loss='categorical_crossentropy', metrics=['accuracy'])"
      ],
      "execution_count": 19,
      "outputs": []
    },
    {
      "cell_type": "code",
      "metadata": {
        "id": "7PW7D-k47sHt",
        "colab": {
          "base_uri": "https://localhost:8080/"
        },
        "outputId": "17add15d-31d6-4051-f42b-3062f7761d2e"
      },
      "source": [
        "history = model.fit(X_train, y_train, validation_data = (X_val, y_val), \n",
        "                    epochs = 100,\n",
        "                    batch_size = 64)"
      ],
      "execution_count": 20,
      "outputs": [
        {
          "output_type": "stream",
          "text": [
            "Epoch 1/100\n",
            "1407/1407 [==============================] - 61s 40ms/step - loss: 2.7328 - accuracy: 0.1672 - val_loss: 4.3303 - val_accuracy: 0.1927\n",
            "Epoch 2/100\n",
            "1407/1407 [==============================] - 55s 39ms/step - loss: 2.2672 - accuracy: 0.2219 - val_loss: 2.4786 - val_accuracy: 0.1159\n",
            "Epoch 3/100\n",
            "1407/1407 [==============================] - 54s 39ms/step - loss: 2.2980 - accuracy: 0.2193 - val_loss: 190.6530 - val_accuracy: 0.1154\n",
            "Epoch 4/100\n",
            "1407/1407 [==============================] - 54s 39ms/step - loss: 2.2858 - accuracy: 0.2330 - val_loss: 2.1888 - val_accuracy: 0.2665\n",
            "Epoch 5/100\n",
            "1407/1407 [==============================] - 54s 38ms/step - loss: 2.2143 - accuracy: 0.2740 - val_loss: 2.1529 - val_accuracy: 0.2782\n",
            "Epoch 6/100\n",
            "1407/1407 [==============================] - 54s 39ms/step - loss: 2.2048 - accuracy: 0.2721 - val_loss: 3.4234 - val_accuracy: 0.2611\n",
            "Epoch 7/100\n",
            "1407/1407 [==============================] - 54s 39ms/step - loss: 2.1854 - accuracy: 0.2884 - val_loss: 2.5594 - val_accuracy: 0.3026\n",
            "Epoch 8/100\n",
            "1407/1407 [==============================] - 54s 39ms/step - loss: 2.1396 - accuracy: 0.3049 - val_loss: 2.1864 - val_accuracy: 0.2841\n",
            "Epoch 9/100\n",
            "1407/1407 [==============================] - 54s 39ms/step - loss: 2.1281 - accuracy: 0.3137 - val_loss: 2.0733 - val_accuracy: 0.3070\n",
            "Epoch 10/100\n",
            "1407/1407 [==============================] - 54s 39ms/step - loss: 2.0426 - accuracy: 0.3311 - val_loss: 4.7529 - val_accuracy: 0.2965\n",
            "Epoch 11/100\n",
            "1407/1407 [==============================] - 54s 39ms/step - loss: 2.0193 - accuracy: 0.3432 - val_loss: 2.2695 - val_accuracy: 0.3197\n",
            "Epoch 12/100\n",
            "1407/1407 [==============================] - 54s 39ms/step - loss: 1.9733 - accuracy: 0.3679 - val_loss: 2.1729 - val_accuracy: 0.3452\n",
            "Epoch 13/100\n",
            "1407/1407 [==============================] - 54s 39ms/step - loss: 1.9439 - accuracy: 0.3838 - val_loss: 2.0649 - val_accuracy: 0.3469\n",
            "Epoch 14/100\n",
            "1407/1407 [==============================] - 54s 39ms/step - loss: 1.9195 - accuracy: 0.3970 - val_loss: 2.0556 - val_accuracy: 0.3633\n",
            "Epoch 15/100\n",
            "1407/1407 [==============================] - 54s 39ms/step - loss: 1.9030 - accuracy: 0.4046 - val_loss: 2.0375 - val_accuracy: 0.3453\n",
            "Epoch 16/100\n",
            "1407/1407 [==============================] - 54s 39ms/step - loss: 1.8739 - accuracy: 0.4178 - val_loss: 2.5105 - val_accuracy: 0.3608\n",
            "Epoch 17/100\n",
            "1407/1407 [==============================] - 54s 39ms/step - loss: 1.8429 - accuracy: 0.4330 - val_loss: 2.4929 - val_accuracy: 0.3623\n",
            "Epoch 18/100\n",
            "1407/1407 [==============================] - 54s 39ms/step - loss: 1.8356 - accuracy: 0.4357 - val_loss: 2.2171 - val_accuracy: 0.3729\n",
            "Epoch 19/100\n",
            "1407/1407 [==============================] - 54s 39ms/step - loss: 1.8066 - accuracy: 0.4439 - val_loss: 2.4624 - val_accuracy: 0.3644\n",
            "Epoch 20/100\n",
            "1407/1407 [==============================] - 54s 39ms/step - loss: 1.7630 - accuracy: 0.4607 - val_loss: 2.7136 - val_accuracy: 0.3612\n",
            "Epoch 21/100\n",
            "1407/1407 [==============================] - 54s 38ms/step - loss: 1.7317 - accuracy: 0.4655 - val_loss: 2.0804 - val_accuracy: 0.3719\n",
            "Epoch 22/100\n",
            "1407/1407 [==============================] - 54s 39ms/step - loss: 1.7006 - accuracy: 0.4744 - val_loss: 2.0559 - val_accuracy: 0.3787\n",
            "Epoch 23/100\n",
            "1407/1407 [==============================] - 54s 39ms/step - loss: 1.6602 - accuracy: 0.4791 - val_loss: 2.6466 - val_accuracy: 0.3580\n",
            "Epoch 24/100\n",
            "1407/1407 [==============================] - 54s 39ms/step - loss: 1.6448 - accuracy: 0.4782 - val_loss: 2.3973 - val_accuracy: 0.3725\n",
            "Epoch 25/100\n",
            "1407/1407 [==============================] - 54s 39ms/step - loss: 1.5654 - accuracy: 0.4901 - val_loss: 2.2440 - val_accuracy: 0.3675\n",
            "Epoch 26/100\n",
            "1407/1407 [==============================] - 54s 39ms/step - loss: 1.5142 - accuracy: 0.4941 - val_loss: 2.2266 - val_accuracy: 0.3629\n",
            "Epoch 27/100\n",
            "1407/1407 [==============================] - 54s 39ms/step - loss: 1.4662 - accuracy: 0.4951 - val_loss: 2.5748 - val_accuracy: 0.3426\n",
            "Epoch 28/100\n",
            "1407/1407 [==============================] - 54s 38ms/step - loss: 1.4114 - accuracy: 0.4945 - val_loss: 2.5820 - val_accuracy: 0.3380\n",
            "Epoch 29/100\n",
            "1407/1407 [==============================] - 55s 39ms/step - loss: 1.3859 - accuracy: 0.4926 - val_loss: 2.8402 - val_accuracy: 0.3501\n",
            "Epoch 30/100\n",
            "1407/1407 [==============================] - 54s 38ms/step - loss: 1.3562 - accuracy: 0.4890 - val_loss: 2.7202 - val_accuracy: 0.3462\n",
            "Epoch 31/100\n",
            "1407/1407 [==============================] - 54s 38ms/step - loss: 1.2506 - accuracy: 0.4967 - val_loss: 2.8514 - val_accuracy: 0.3564\n",
            "Epoch 32/100\n",
            "1407/1407 [==============================] - 54s 38ms/step - loss: 1.2027 - accuracy: 0.4980 - val_loss: 2.9525 - val_accuracy: 0.3534\n",
            "Epoch 33/100\n",
            "1407/1407 [==============================] - 54s 38ms/step - loss: 1.1678 - accuracy: 0.4959 - val_loss: 3.7568 - val_accuracy: 0.3195\n",
            "Epoch 34/100\n",
            "1407/1407 [==============================] - 54s 38ms/step - loss: 1.1307 - accuracy: 0.4952 - val_loss: 3.8597 - val_accuracy: 0.3436\n",
            "Epoch 35/100\n",
            "1407/1407 [==============================] - 54s 38ms/step - loss: 1.1132 - accuracy: 0.5032 - val_loss: 3.2447 - val_accuracy: 0.3436\n",
            "Epoch 36/100\n",
            "1407/1407 [==============================] - 54s 38ms/step - loss: 1.0358 - accuracy: 0.4969 - val_loss: 4.0405 - val_accuracy: 0.3411\n",
            "Epoch 37/100\n",
            "1407/1407 [==============================] - 54s 38ms/step - loss: 0.9896 - accuracy: 0.5072 - val_loss: 4.0360 - val_accuracy: 0.3449\n",
            "Epoch 38/100\n",
            "1407/1407 [==============================] - 54s 38ms/step - loss: 0.9627 - accuracy: 0.5070 - val_loss: 5.4687 - val_accuracy: 0.3280\n",
            "Epoch 39/100\n",
            "1407/1407 [==============================] - 54s 38ms/step - loss: 0.9719 - accuracy: 0.5079 - val_loss: 5.0209 - val_accuracy: 0.3334\n",
            "Epoch 40/100\n",
            "1407/1407 [==============================] - 54s 38ms/step - loss: 0.9755 - accuracy: 0.5066 - val_loss: 3.7355 - val_accuracy: 0.3399\n",
            "Epoch 41/100\n",
            "1407/1407 [==============================] - 54s 38ms/step - loss: 0.9231 - accuracy: 0.5051 - val_loss: 4.6662 - val_accuracy: 0.3506\n",
            "Epoch 42/100\n",
            "1407/1407 [==============================] - 54s 38ms/step - loss: 0.8640 - accuracy: 0.5161 - val_loss: 4.8673 - val_accuracy: 0.3268\n",
            "Epoch 43/100\n",
            "1407/1407 [==============================] - 54s 38ms/step - loss: 0.9128 - accuracy: 0.5119 - val_loss: 6.0755 - val_accuracy: 0.3328\n",
            "Epoch 44/100\n",
            "1407/1407 [==============================] - 52s 37ms/step - loss: 0.9012 - accuracy: 0.5122 - val_loss: 5.5841 - val_accuracy: 0.3310\n",
            "Epoch 45/100\n",
            "1407/1407 [==============================] - 51s 36ms/step - loss: 0.8654 - accuracy: 0.5184 - val_loss: 5.5961 - val_accuracy: 0.3228\n",
            "Epoch 46/100\n",
            "1407/1407 [==============================] - 51s 36ms/step - loss: 0.8473 - accuracy: 0.5156 - val_loss: 6.3375 - val_accuracy: 0.3340\n",
            "Epoch 47/100\n",
            "1407/1407 [==============================] - 51s 36ms/step - loss: 0.8530 - accuracy: 0.5156 - val_loss: 5.0065 - val_accuracy: 0.3286\n",
            "Epoch 48/100\n",
            "1407/1407 [==============================] - 52s 37ms/step - loss: 0.8524 - accuracy: 0.5144 - val_loss: 8.3871 - val_accuracy: 0.3081\n",
            "Epoch 49/100\n",
            "1407/1407 [==============================] - 52s 37ms/step - loss: 0.8318 - accuracy: 0.5184 - val_loss: 7.6578 - val_accuracy: 0.3258\n",
            "Epoch 50/100\n",
            "1407/1407 [==============================] - 54s 38ms/step - loss: 0.8306 - accuracy: 0.5202 - val_loss: 10.1484 - val_accuracy: 0.3318\n",
            "Epoch 51/100\n",
            "1407/1407 [==============================] - 54s 38ms/step - loss: 0.8501 - accuracy: 0.5159 - val_loss: 5.1223 - val_accuracy: 0.2704\n",
            "Epoch 52/100\n",
            "1407/1407 [==============================] - 54s 38ms/step - loss: 0.8725 - accuracy: 0.5133 - val_loss: 9.3742 - val_accuracy: 0.3143\n",
            "Epoch 53/100\n",
            "1407/1407 [==============================] - 54s 38ms/step - loss: 0.8399 - accuracy: 0.5199 - val_loss: 5.7486 - val_accuracy: 0.3345\n",
            "Epoch 54/100\n",
            "1407/1407 [==============================] - 54s 38ms/step - loss: 0.8574 - accuracy: 0.5195 - val_loss: 12.2127 - val_accuracy: 0.3323\n",
            "Epoch 55/100\n",
            "1407/1407 [==============================] - 54s 38ms/step - loss: 0.8139 - accuracy: 0.5222 - val_loss: 9.0429 - val_accuracy: 0.3247\n",
            "Epoch 56/100\n",
            "1407/1407 [==============================] - 54s 38ms/step - loss: 0.8008 - accuracy: 0.5225 - val_loss: 7.3708 - val_accuracy: 0.3294\n",
            "Epoch 57/100\n",
            "1407/1407 [==============================] - 54s 38ms/step - loss: 0.7990 - accuracy: 0.5199 - val_loss: 4.9904 - val_accuracy: 0.3361\n",
            "Epoch 58/100\n",
            "1407/1407 [==============================] - 54s 38ms/step - loss: 0.8249 - accuracy: 0.5188 - val_loss: 4.5913 - val_accuracy: 0.3363\n",
            "Epoch 59/100\n",
            "1407/1407 [==============================] - 54s 38ms/step - loss: 0.8038 - accuracy: 0.5268 - val_loss: 5.6985 - val_accuracy: 0.3245\n",
            "Epoch 60/100\n",
            "1407/1407 [==============================] - 54s 38ms/step - loss: 0.7996 - accuracy: 0.5252 - val_loss: 11.5064 - val_accuracy: 0.3192\n",
            "Epoch 61/100\n",
            "1407/1407 [==============================] - 54s 38ms/step - loss: 0.7737 - accuracy: 0.5244 - val_loss: 8.3577 - val_accuracy: 0.3176\n",
            "Epoch 62/100\n",
            "1407/1407 [==============================] - 54s 38ms/step - loss: 0.8095 - accuracy: 0.5230 - val_loss: 10.9578 - val_accuracy: 0.3358\n",
            "Epoch 63/100\n",
            "1407/1407 [==============================] - 54s 38ms/step - loss: 0.8150 - accuracy: 0.5251 - val_loss: 5.4959 - val_accuracy: 0.3251\n",
            "Epoch 64/100\n",
            "1407/1407 [==============================] - 54s 38ms/step - loss: 0.7794 - accuracy: 0.5259 - val_loss: 6.1403 - val_accuracy: 0.3123\n",
            "Epoch 65/100\n",
            "1407/1407 [==============================] - 54s 38ms/step - loss: 0.7735 - accuracy: 0.5234 - val_loss: 7.2013 - val_accuracy: 0.3222\n",
            "Epoch 66/100\n",
            "1407/1407 [==============================] - 54s 38ms/step - loss: 0.7739 - accuracy: 0.5263 - val_loss: 7.6186 - val_accuracy: 0.3357\n",
            "Epoch 67/100\n",
            "1407/1407 [==============================] - 54s 38ms/step - loss: 0.7798 - accuracy: 0.5276 - val_loss: 6.3758 - val_accuracy: 0.3281\n",
            "Epoch 68/100\n",
            "1407/1407 [==============================] - 54s 38ms/step - loss: 0.7817 - accuracy: 0.5230 - val_loss: 7.4451 - val_accuracy: 0.3377\n",
            "Epoch 69/100\n",
            "1407/1407 [==============================] - 54s 38ms/step - loss: 0.7680 - accuracy: 0.5224 - val_loss: 6.5835 - val_accuracy: 0.3243\n",
            "Epoch 70/100\n",
            "1407/1407 [==============================] - 54s 38ms/step - loss: 0.7944 - accuracy: 0.5256 - val_loss: 7.6525 - val_accuracy: 0.3260\n",
            "Epoch 71/100\n",
            "1407/1407 [==============================] - 54s 38ms/step - loss: 0.7556 - accuracy: 0.5253 - val_loss: 6.0218 - val_accuracy: 0.3031\n",
            "Epoch 72/100\n",
            "1407/1407 [==============================] - 54s 38ms/step - loss: 0.8023 - accuracy: 0.5215 - val_loss: 5.6464 - val_accuracy: 0.3131\n",
            "Epoch 73/100\n",
            "1407/1407 [==============================] - 54s 38ms/step - loss: 0.7791 - accuracy: 0.5270 - val_loss: 7.8919 - val_accuracy: 0.3189\n",
            "Epoch 74/100\n",
            "1407/1407 [==============================] - 54s 38ms/step - loss: 0.7467 - accuracy: 0.5233 - val_loss: 12.9965 - val_accuracy: 0.3192\n",
            "Epoch 75/100\n",
            "1407/1407 [==============================] - 54s 38ms/step - loss: 0.7684 - accuracy: 0.5265 - val_loss: 10.8142 - val_accuracy: 0.3158\n",
            "Epoch 76/100\n",
            "1407/1407 [==============================] - 54s 38ms/step - loss: 0.9086 - accuracy: 0.5140 - val_loss: 9.0524 - val_accuracy: 0.3146\n",
            "Epoch 77/100\n",
            "1407/1407 [==============================] - 54s 38ms/step - loss: 0.7612 - accuracy: 0.5248 - val_loss: 11.7281 - val_accuracy: 0.3293\n",
            "Epoch 78/100\n",
            "1407/1407 [==============================] - 54s 38ms/step - loss: 0.7335 - accuracy: 0.5286 - val_loss: 42.6733 - val_accuracy: 0.2987\n",
            "Epoch 79/100\n",
            "1407/1407 [==============================] - 54s 38ms/step - loss: 0.7758 - accuracy: 0.5266 - val_loss: 15.6159 - val_accuracy: 0.3295\n",
            "Epoch 80/100\n",
            "1407/1407 [==============================] - 54s 38ms/step - loss: 0.7430 - accuracy: 0.5312 - val_loss: 13.7138 - val_accuracy: 0.3377\n",
            "Epoch 81/100\n",
            "1407/1407 [==============================] - 54s 39ms/step - loss: 0.7343 - accuracy: 0.5321 - val_loss: 14.7902 - val_accuracy: 0.3164\n",
            "Epoch 82/100\n",
            "1407/1407 [==============================] - 54s 38ms/step - loss: 0.7449 - accuracy: 0.5296 - val_loss: 12.0308 - val_accuracy: 0.3251\n",
            "Epoch 83/100\n",
            "1407/1407 [==============================] - 54s 39ms/step - loss: 0.7225 - accuracy: 0.5279 - val_loss: 14.9543 - val_accuracy: 0.3428\n",
            "Epoch 84/100\n",
            "1407/1407 [==============================] - 55s 39ms/step - loss: 0.7212 - accuracy: 0.5309 - val_loss: 27.4887 - val_accuracy: 0.3253\n",
            "Epoch 85/100\n",
            "1407/1407 [==============================] - 54s 38ms/step - loss: 0.7423 - accuracy: 0.5313 - val_loss: 12.2156 - val_accuracy: 0.3199\n",
            "Epoch 86/100\n",
            "1407/1407 [==============================] - 54s 38ms/step - loss: 0.7555 - accuracy: 0.5288 - val_loss: 11.1918 - val_accuracy: 0.3195\n",
            "Epoch 87/100\n",
            "1407/1407 [==============================] - 54s 38ms/step - loss: 0.7958 - accuracy: 0.5241 - val_loss: 9.3886 - val_accuracy: 0.3203\n",
            "Epoch 88/100\n",
            "1407/1407 [==============================] - 54s 39ms/step - loss: 0.7154 - accuracy: 0.5305 - val_loss: 9.8649 - val_accuracy: 0.3258\n",
            "Epoch 89/100\n",
            "1407/1407 [==============================] - 54s 38ms/step - loss: 0.7350 - accuracy: 0.5311 - val_loss: 24.3191 - val_accuracy: 0.3079\n",
            "Epoch 90/100\n",
            "1407/1407 [==============================] - 54s 39ms/step - loss: 0.7333 - accuracy: 0.5296 - val_loss: 20.4978 - val_accuracy: 0.3059\n",
            "Epoch 91/100\n",
            "1407/1407 [==============================] - 54s 39ms/step - loss: 0.7286 - accuracy: 0.5293 - val_loss: 11.8883 - val_accuracy: 0.3094\n",
            "Epoch 92/100\n",
            "1407/1407 [==============================] - 54s 39ms/step - loss: 0.7477 - accuracy: 0.5321 - val_loss: 17.8445 - val_accuracy: 0.3138\n",
            "Epoch 93/100\n",
            "1407/1407 [==============================] - 54s 38ms/step - loss: 0.7407 - accuracy: 0.5269 - val_loss: 19.2004 - val_accuracy: 0.3187\n",
            "Epoch 94/100\n",
            "1407/1407 [==============================] - 54s 39ms/step - loss: 0.7239 - accuracy: 0.5247 - val_loss: 13.5004 - val_accuracy: 0.3148\n",
            "Epoch 95/100\n",
            "1407/1407 [==============================] - 54s 38ms/step - loss: 0.7369 - accuracy: 0.5309 - val_loss: 26.5764 - val_accuracy: 0.3160\n",
            "Epoch 96/100\n",
            "1407/1407 [==============================] - 54s 39ms/step - loss: 0.7095 - accuracy: 0.5296 - val_loss: 17.3180 - val_accuracy: 0.3226\n",
            "Epoch 97/100\n",
            "1407/1407 [==============================] - 54s 39ms/step - loss: 0.7324 - accuracy: 0.5307 - val_loss: 10.6283 - val_accuracy: 0.3206\n",
            "Epoch 98/100\n",
            "1407/1407 [==============================] - 54s 38ms/step - loss: 0.7174 - accuracy: 0.5261 - val_loss: 9.4242 - val_accuracy: 0.3201\n",
            "Epoch 99/100\n",
            "1407/1407 [==============================] - 54s 39ms/step - loss: 0.7187 - accuracy: 0.5341 - val_loss: 17.6962 - val_accuracy: 0.3278\n",
            "Epoch 100/100\n",
            "1407/1407 [==============================] - 54s 39ms/step - loss: 0.7087 - accuracy: 0.5329 - val_loss: 20.9517 - val_accuracy: 0.3212\n"
          ],
          "name": "stdout"
        }
      ]
    },
    {
      "cell_type": "code",
      "metadata": {
        "id": "aNXPO4rja57V"
      },
      "source": [
        "# history = model.fit(train_generator.flow(X_train, y_train, batch_size=32), \n",
        "#                     epochs = 100,\n",
        "#                     batch_size = 64,\n",
        "#                     validation_data = val_generator.flow(X_val, y_val, batch_size=32))"
      ],
      "execution_count": 21,
      "outputs": []
    },
    {
      "cell_type": "code",
      "metadata": {
        "colab": {
          "base_uri": "https://localhost:8080/"
        },
        "id": "R0bTeqyaa57W",
        "outputId": "883c7568-2329-42ce-ce59-0d22f2a47f94"
      },
      "source": [
        "preds = model.evaluate(X_test, y_test)\n",
        "print (\"Loss = \" + str(preds[0]))\n",
        "print (\"Test Accuracy = \" + str(preds[1]))"
      ],
      "execution_count": 22,
      "outputs": [
        {
          "output_type": "stream",
          "text": [
            "313/313 [==============================] - 3s 9ms/step - loss: 12.7784 - accuracy: 0.5432\n",
            "Loss = 12.778361320495605\n",
            "Test Accuracy = 0.5432000160217285\n"
          ],
          "name": "stdout"
        }
      ]
    },
    {
      "cell_type": "code",
      "metadata": {
        "id": "7EJKrOpJa57W"
      },
      "source": [
        "# Pandas and Numpy for data structures and util fucntions\n",
        "import scipy as sp\n",
        "import numpy as np\n",
        "import pandas as pd\n",
        "from numpy.random import rand\n",
        "pd.options.display.max_colwidth = 600\n",
        "\n",
        "# Scikit Imports\n",
        "from sklearn import preprocessing\n",
        "from sklearn.metrics import roc_curve, auc, precision_recall_curve\n",
        "from sklearn.model_selection import train_test_split\n",
        "\n",
        "# import cnn_utils as utils\n",
        "# from model_evaluation_utils import get_metrics\n",
        "\n",
        "# Matplot Imports\n",
        "import matplotlib.pyplot as plt\n",
        "params = {'legend.fontsize': 'x-large',\n",
        "          'figure.figsize': (15, 5),\n",
        "          'axes.labelsize': 'x-large',\n",
        "          'axes.titlesize':'x-large',\n",
        "          'xtick.labelsize':'x-large',\n",
        "          'ytick.labelsize':'x-large'}\n",
        "\n",
        "plt.rcParams.update(params)\n",
        "%matplotlib inline\n",
        "\n",
        "# pandas display data frames as tables\n",
        "from IPython.display import display, HTML\n",
        "\n",
        "import warnings\n",
        "warnings.filterwarnings('ignore')"
      ],
      "execution_count": 23,
      "outputs": []
    },
    {
      "cell_type": "code",
      "metadata": {
        "id": "6mck144_a57W",
        "colab": {
          "base_uri": "https://localhost:8080/",
          "height": 378
        },
        "outputId": "fb9491f5-018c-42fa-c12e-ef70e2ea0160"
      },
      "source": [
        "f, (ax1, ax2) = plt.subplots(1, 2, figsize=(15, 5))\n",
        "t = f.suptitle('Deep Neural Net Performance', fontsize=12)\n",
        "f.subplots_adjust(top=0.85, wspace=0.3)\n",
        "\n",
        "epochs = list(range(1,100+1))\n",
        "ax1.plot(epochs, history.history['accuracy'], label='Train Accuracy')\n",
        "ax1.plot(epochs, history.history['val_accuracy'], label='Validation Accuracy')\n",
        "ax1.set_xticks(epochs)\n",
        "ax1.set_ylabel('Accuracy Value')\n",
        "ax1.set_xlabel('Epoch')\n",
        "ax1.set_title('Accuracy')\n",
        "l1 = ax1.legend(loc=\"best\")\n",
        "\n",
        "ax2.plot(epochs, history.history['loss'], label='Train Loss')\n",
        "ax2.plot(epochs, history.history['val_loss'], label='Validation Loss')\n",
        "ax2.set_xticks(epochs)\n",
        "ax2.set_ylabel('Loss Value')\n",
        "ax2.set_xlabel('Epoch')\n",
        "ax2.set_title('Loss')\n",
        "l2 = ax2.legend(loc=\"best\")"
      ],
      "execution_count": 24,
      "outputs": [
        {
          "output_type": "display_data",
          "data": {
            "image/png": "[encoded data removed]",
            "text/plain": [
              "<Figure size 1080x360 with 2 Axes>"
            ]
          },
          "metadata": {
            "tags": [],
            "needs_background": "light"
          }
        }
      ]
    },
    {
      "cell_type": "code",
      "metadata": {
        "id": "TBszz0IWO22x"
      },
      "source": [
        ""
      ],
      "execution_count": null,
      "outputs": []
    }
  ]
}