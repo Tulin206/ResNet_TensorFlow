{
  "nbformat": 4,
  "nbformat_minor": 0,
  "metadata": {
    "kernelspec": {
      "display_name": "Python 3",
      "language": "python",
      "name": "python3"
    },
    "language_info": {
      "codemirror_mode": {
        "name": "ipython",
        "version": 3
      },
      "file_extension": ".py",
      "mimetype": "text/x-python",
      "name": "python",
      "nbconvert_exporter": "python",
      "pygments_lexer": "ipython3",
      "version": "3.7.6"
    },
    "colab": {
      "name": "Resnet_random_labeling_WithoutTrueLabel_WithoutAugmentation.ipynb",
      "provenance": [],
      "collapsed_sections": []
    },
    "accelerator": "GPU"
  },
  "cells": [
    {
      "cell_type": "code",
      "metadata": {
        "id": "16pXmcb8a57D"
      },
      "source": [
        "import os\n",
        "os.environ['CUDA_VISIBLE_DEVICES'] = '0'\n",
        "import cv2\n",
        "import tensorflow as tf\n",
        "import tensorflow.keras\n",
        "from tensorflow.keras import datasets, layers, models\n",
        "from tensorflow.keras.models import Sequential, load_model, Model\n",
        "from tensorflow.keras.layers import Input, Add, Dense, Activation, ZeroPadding2D, Dropout, Flatten,Conv2D, MaxPooling2D,BatchNormalization,AveragePooling2D\n",
        "from tensorflow.keras.initializers import glorot_uniform\n",
        "from tensorflow.keras.utils import plot_model\n",
        "from IPython.display import SVG\n",
        "# from tensorflow.keras.utils.vis_utils import model_to_dot\n",
        "import tensorflow.keras.backend as K \n",
        "import matplotlib.pyplot as plt\n",
        "import numpy as np"
      ],
      "execution_count": 1,
      "outputs": []
    },
    {
      "cell_type": "code",
      "metadata": {
        "colab": {
          "base_uri": "https://localhost:8080/"
        },
        "id": "yKJG1xA4a57K",
        "outputId": "f5c59593-1cc7-4d70-86cf-6b7f6969d041"
      },
      "source": [
        "# Load Data\n",
        "\n",
        "(X_train, y_train), (X_test,y_test) = datasets.cifar10.load_data()"
      ],
      "execution_count": 2,
      "outputs": [
        {
          "output_type": "stream",
          "text": [
            "Downloading data from https://www.cs.toronto.edu/~kriz/cifar-10-python.tar.gz\n",
            "170500096/170498071 [==============================] - 4s 0us/step\n"
          ],
          "name": "stdout"
        }
      ]
    },
    {
      "cell_type": "code",
      "metadata": {
        "id": "0LqVxLWXa57K"
      },
      "source": [
        "CLASS_NAMES= ['airplane', 'automobile', 'bird', 'cat', 'deer', 'dog', 'frog', 'horse', 'ship', 'truck']"
      ],
      "execution_count": 3,
      "outputs": []
    },
    {
      "cell_type": "code",
      "metadata": {
        "id": "K6HZ2eGHa57L"
      },
      "source": [
        "#Train-validation-test split\n",
        "\n",
        "X_val, y_val = X_train[:5000], y_train[:5000]\n",
        "X_train, y_train = X_train[5000:], y_train[5000:]"
      ],
      "execution_count": 4,
      "outputs": []
    },
    {
      "cell_type": "code",
      "metadata": {
        "id": "Ke5hJ1ada57N"
      },
      "source": [
        "#Onehot Encoding the labels.\n",
        "\n",
        "from sklearn.utils.multiclass import unique_labels\n",
        "from tensorflow.keras.utils import to_categorical"
      ],
      "execution_count": 5,
      "outputs": []
    },
    {
      "cell_type": "code",
      "metadata": {
        "id": "9vp-uzxTa57O"
      },
      "source": [
        "#Since we have 10 classes we should expect the shape[1] of y_train,y_val and y_test to change from 1 to 10\n",
        "\n",
        "y_train=to_categorical(y_train)\n",
        "y_val=to_categorical(y_val)\n",
        "y_test=to_categorical(y_test)"
      ],
      "execution_count": 6,
      "outputs": []
    },
    {
      "cell_type": "code",
      "metadata": {
        "id": "aKdfkasG8WvH"
      },
      "source": [
        "from sklearn.utils import shuffle\n",
        "\n",
        "x_shuffled, y_shuffled = shuffle(X_train, y_train, random_state=0)\n",
        "x_val_shuffled, y_val_shuffled = shuffle(X_val, y_val, random_state=0)"
      ],
      "execution_count": 7,
      "outputs": []
    },
    {
      "cell_type": "code",
      "metadata": {
        "colab": {
          "base_uri": "https://localhost:8080/",
          "height": 549
        },
        "id": "XTNtiGl48cpR",
        "outputId": "d0d1ca0b-7156-4c76-b228-771545ef4103"
      },
      "source": [
        "import matplotlib.pyplot as plt\n",
        "\n",
        "print(y_shuffled[0])\n",
        "plt.imshow(x_shuffled[0])\n",
        "plt.show()\n",
        "\n",
        "print(y_train[0])\n",
        "plt.imshow(X_train[0])\n",
        "plt.show()"
      ],
      "execution_count": 8,
      "outputs": [
        {
          "output_type": "stream",
          "text": [
            "[0. 0. 0. 0. 0. 0. 0. 1. 0. 0.]\n"
          ],
          "name": "stdout"
        },
        {
          "output_type": "display_data",
          "data": {
            "image/png": "[encoded data removed]",
            "text/plain": [
              "<Figure size 432x288 with 1 Axes>"
            ]
          },
          "metadata": {
            "tags": [],
            "needs_background": "light"
          }
        },
        {
          "output_type": "stream",
          "text": [
            "[0. 0. 0. 0. 0. 0. 1. 0. 0. 0.]\n"
          ],
          "name": "stdout"
        },
        {
          "output_type": "display_data",
          "data": {
            "image/png": "[encoded data removed]",
            "text/plain": [
              "<Figure size 432x288 with 1 Axes>"
            ]
          },
          "metadata": {
            "tags": [],
            "needs_background": "light"
          }
        }
      ]
    },
    {
      "cell_type": "code",
      "metadata": {
        "id": "Wlxi_Auv8hFe"
      },
      "source": [
        "# Concatenate train original and randomized images\n",
        "X_train = np.concatenate((X_train,X_train))\n",
        "y_train = np.concatenate((y_shuffled,y_shuffled))\n",
        "X_val = np.concatenate((X_val,X_val))\n",
        "y_val = np.concatenate((y_val_shuffled,y_val_shuffled))"
      ],
      "execution_count": 9,
      "outputs": []
    },
    {
      "cell_type": "code",
      "metadata": {
        "id": "fafk6pgpa57O"
      },
      "source": [
        "#Image Data Augmentation\n",
        "\n",
        "# from tensorflow.keras.preprocessing.image import ImageDataGenerator\n",
        "\n",
        "# train_generator = ImageDataGenerator(rotation_range=2, horizontal_flip=True,zoom_range=.1 )\n",
        "\n",
        "# val_generator = ImageDataGenerator(rotation_range=2, horizontal_flip=True,zoom_range=.1)\n",
        "\n",
        "# test_generator = ImageDataGenerator(rotation_range=2, horizontal_flip= True,zoom_range=.1)"
      ],
      "execution_count": 10,
      "outputs": []
    },
    {
      "cell_type": "code",
      "metadata": {
        "id": "SpDwscdca57O"
      },
      "source": [
        "#Fitting the augmentation defined above to the data\n",
        "\n",
        "# train_generator.fit(X_train)\n",
        "# val_generator.fit(X_val)\n",
        "# test_ds = test_generator.fit(X_test)"
      ],
      "execution_count": 11,
      "outputs": []
    },
    {
      "cell_type": "code",
      "metadata": {
        "id": "3Sy7AzDwa57S"
      },
      "source": [
        "ROWS = 32\n",
        "COLS = 32\n",
        "CHANNELS = 3\n",
        "CLASSES = 10"
      ],
      "execution_count": 12,
      "outputs": []
    },
    {
      "cell_type": "code",
      "metadata": {
        "id": "1LvmAtETa57S"
      },
      "source": [
        "def identity_block(X, f, filters, stage, block):\n",
        "    # defining name basis\n",
        "    conv_name_base = 'res' + str(stage) + block + '_branch'\n",
        "    bn_name_base = 'bn' + str(stage) + block + '_branch'\n",
        "\n",
        "    # Retrieve Filters\n",
        "    F1, F2, F3 = filters\n",
        "\n",
        "    # Save the input value. We'll need this later to add back to the main path. \n",
        "    X_shortcut = X\n",
        "\n",
        "    # First component of main path\n",
        "    X = Conv2D(filters = F1, kernel_size = (1, 1), strides = (1,1), padding = 'valid', name = conv_name_base + '2a', kernel_initializer = glorot_uniform(seed=0))(X)\n",
        "    X = BatchNormalization(axis = 3, name = bn_name_base + '2a')(X)\n",
        "    X = Activation('relu')(X)\n",
        "\n",
        "    # Second component of main path\n",
        "    X = Conv2D(filters = F2, kernel_size = (f, f), strides = (1,1), padding = 'same', name = conv_name_base + '2b', kernel_initializer = glorot_uniform(seed=0))(X)\n",
        "    X = BatchNormalization(axis = 3, name = bn_name_base + '2b')(X)\n",
        "    X = Activation('relu')(X)\n",
        "\n",
        "    # Third component of main path\n",
        "    X = Conv2D(filters = F3, kernel_size = (1, 1), strides = (1,1), padding = 'valid', name = conv_name_base + '2c', kernel_initializer = glorot_uniform(seed=0))(X)\n",
        "    X = BatchNormalization(axis = 3, name = bn_name_base + '2c')(X)\n",
        "\n",
        "    # Final step: Add shortcut value to main path, and pass it through a RELU activation\n",
        "    X = Add()([X, X_shortcut])\n",
        "    X = Activation('relu')(X)\n",
        "\n",
        "    return X"
      ],
      "execution_count": 13,
      "outputs": []
    },
    {
      "cell_type": "code",
      "metadata": {
        "colab": {
          "base_uri": "https://localhost:8080/"
        },
        "id": "OJOMaIX5a57S",
        "outputId": "f07aaa79-6714-4eb6-cf17-e22aabf3ec47"
      },
      "source": [
        "from tensorflow.python.framework import ops\n",
        "ops.reset_default_graph()\n",
        "\n",
        "# tf.reset_default_graph()\n",
        "\n",
        "with tf.compat.v1.Session() as test:\n",
        "    A_prev = tf.compat.v1.placeholder(\"float\", [3, 4, 4, 6])\n",
        "    X = np.random.randn(3, 4, 4, 6)\n",
        "    A = identity_block(A_prev, f = 2, filters = [2, 4, 6], stage = 1, block = 'a')\n",
        "    test.run(tf.compat.v1.global_variables_initializer())\n",
        "    out = test.run([A], feed_dict={A_prev: X, K.learning_phase(): 0})\n",
        "    print(\"out = \", out[0][1][1][0])"
      ],
      "execution_count": 14,
      "outputs": [
        {
          "output_type": "stream",
          "text": [
            "out =  [0.82825977 0.29138467 0.12545896 0.         0.         0.        ]\n"
          ],
          "name": "stdout"
        }
      ]
    },
    {
      "cell_type": "code",
      "metadata": {
        "id": "vb8fxH-La57T"
      },
      "source": [
        "def convolutional_block(X, f, filters, stage, block, s = 2):\n",
        "    # defining name basis\n",
        "    conv_name_base = 'res' + str(stage) + block + '_branch'\n",
        "    bn_name_base = 'bn' + str(stage) + block + '_branch'\n",
        "    \n",
        "    # Retrieve Filters\n",
        "    F1, F2, F3 = filters\n",
        "    \n",
        "    # Save the input value\n",
        "    X_shortcut = X\n",
        "\n",
        "\n",
        "    ##### MAIN PATH #####\n",
        "    # First component of main path \n",
        "    X = Conv2D(F1, (1, 1), strides = (s,s), name = conv_name_base + '2a', kernel_initializer = glorot_uniform(seed=0))(X)\n",
        "    X = BatchNormalization(axis = 3, name = bn_name_base + '2a')(X)\n",
        "    X = Activation('relu')(X)\n",
        "\n",
        "    # Second component of main path\n",
        "    X = Conv2D(filters=F2, kernel_size=(f, f), strides=(1, 1), padding='same', name=conv_name_base + '2b', kernel_initializer=glorot_uniform(seed=0))(X)\n",
        "    X = BatchNormalization(axis=3, name=bn_name_base + '2b')(X)\n",
        "    X = Activation('relu')(X)\n",
        "\n",
        "    # Third component of main path\n",
        "    X = Conv2D(filters=F3, kernel_size=(1, 1), strides=(1, 1), padding='valid', name=conv_name_base + '2c', kernel_initializer=glorot_uniform(seed=0))(X)\n",
        "    X = BatchNormalization(axis=3, name=bn_name_base + '2c')(X)\n",
        "\n",
        "    \n",
        "    ##### SHORTCUT PATH ####\n",
        "    X_shortcut = Conv2D(F3, (1, 1), strides = (s,s), name = conv_name_base + '1', kernel_initializer = glorot_uniform(seed=0))(X_shortcut)\n",
        "    X_shortcut = BatchNormalization(axis = 3, name = bn_name_base + '1')(X_shortcut)\n",
        "\n",
        "    # Final step: Add shortcut value to main path, and pass it through a RELU activation\n",
        "    X = Add()([X, X_shortcut])\n",
        "    X = Activation('relu')(X)\n",
        "    \n",
        "    return X"
      ],
      "execution_count": 15,
      "outputs": []
    },
    {
      "cell_type": "code",
      "metadata": {
        "id": "ReQb8HeVa57T",
        "colab": {
          "base_uri": "https://localhost:8080/"
        },
        "outputId": "1b17dc89-7542-4850-d572-258d66b37893"
      },
      "source": [
        "from tensorflow.python.framework import ops\n",
        "ops.reset_default_graph()\n",
        "\n",
        "# tf.reset_default_graph()\n",
        "\n",
        "with tf.compat.v1.Session() as test:\n",
        "    A_prev = tf.compat.v1.placeholder(\"float\", [3, 4, 4, 6])\n",
        "    X = np.random.randn(3, 4, 4, 6)\n",
        "    A = convolutional_block(A_prev, f = 2, filters = [2, 4, 6], stage = 1, block = 'a')\n",
        "    test.run(tf.compat.v1.global_variables_initializer())\n",
        "    out = test.run([A], feed_dict={A_prev: X, K.learning_phase(): 0})\n",
        "    print(\"out = \",out[0][1][1][0])"
      ],
      "execution_count": 16,
      "outputs": [
        {
          "output_type": "stream",
          "text": [
            "out =  [0.00322282 0.         0.         0.31427106 0.2616693  0.        ]\n"
          ],
          "name": "stdout"
        }
      ]
    },
    {
      "cell_type": "code",
      "metadata": {
        "id": "YoMXGWPia57U"
      },
      "source": [
        "def ResNet50(input_shape = (32, 32, 3), classes = 10):   \n",
        "    global model\n",
        "    # Define the input as a tensor with shape input_shape\n",
        "    X_input = Input(input_shape)\n",
        "\n",
        "    # Zero-Padding\n",
        "    X = ZeroPadding2D((3, 3))(X_input)\n",
        "    \n",
        "    # Stage 1\n",
        "    X = Conv2D(64, (7, 7), strides = (2, 2), name = 'conv1', kernel_initializer = glorot_uniform(seed=0))(X)\n",
        "    X = BatchNormalization(axis = 3, name = 'bn_conv1')(X)\n",
        "    X = Activation('relu')(X)\n",
        "    X = MaxPooling2D((3, 3), strides=(2, 2))(X)\n",
        "\n",
        "    # Stage 2\n",
        "    X = convolutional_block(X, f = 3, filters = [64, 64, 256], stage = 2, block='a', s = 1)\n",
        "    X = identity_block(X, 3, [64, 64, 256], stage=2, block='b')\n",
        "    X = identity_block(X, 3, [64, 64, 256], stage=2, block='c')\n",
        "\n",
        "    # Stage 3\n",
        "    X = convolutional_block(X, f = 3, filters = [128, 128, 512], stage = 3, block='a', s = 2)\n",
        "    X = identity_block(X, 3, [128, 128, 512], stage=3, block='b')\n",
        "    X = identity_block(X, 3, [128, 128, 512], stage=3, block='c')\n",
        "    X = identity_block(X, 3, [128, 128, 512], stage=3, block='d')\n",
        "\n",
        "    # Stage 4\n",
        "    X = convolutional_block(X, f = 3, filters = [256, 256, 1024], stage = 4, block='a', s = 2)\n",
        "    X = identity_block(X, 3, [256, 256, 1024], stage=4, block='b')\n",
        "    X = identity_block(X, 3, [256, 256, 1024], stage=4, block='c')\n",
        "    X = identity_block(X, 3, [256, 256, 1024], stage=4, block='d')\n",
        "    X = identity_block(X, 3, [256, 256, 1024], stage=4, block='e')\n",
        "    X = identity_block(X, 3, [256, 256, 1024], stage=4, block='f')\n",
        "\n",
        "    # Stage 5\n",
        "    # X = convolutional_block(X, f = 3, filters = [512, 512, 2048], stage = 5, block='a', s = 2)\n",
        "    # X = identity_block(X, 3, [512, 512, 2048], stage=5, block='b')\n",
        "    # X = identity_block(X, 3, [512, 512, 2048], stage=5, block='c')\n",
        "\n",
        "    # AVGPOOL.\n",
        "    X = AveragePooling2D((2, 2), name='avg_pool')(X)\n",
        "\n",
        "    # output layer\n",
        "    X = Flatten()(X)\n",
        "    X = Dense(classes, activation='softmax', name='fc' + str(classes), kernel_initializer = glorot_uniform(seed=0))(X)\n",
        "    \n",
        "    # Create model\n",
        "    model = Model(inputs = X_input, outputs = X, name='ResNet50')\n",
        "\n",
        "    model.summary()\n",
        "\n",
        "    return model"
      ],
      "execution_count": 17,
      "outputs": []
    },
    {
      "cell_type": "code",
      "metadata": {
        "colab": {
          "base_uri": "https://localhost:8080/"
        },
        "id": "oyv0JxLUa57U",
        "outputId": "4a248628-150d-4fb8-c3e9-cb0149beddd0"
      },
      "source": [
        "model = ResNet50(input_shape = (32, 32, 3), classes = 10)"
      ],
      "execution_count": 18,
      "outputs": [
        {
          "output_type": "stream",
          "text": [
            "Model: \"ResNet50\"\n",
            "__________________________________________________________________________________________________\n",
            "Layer (type)                    Output Shape         Param #     Connected to                     \n",
            "==================================================================================================\n",
            "input_1 (InputLayer)            [(None, 32, 32, 3)]  0                                            \n",
            "__________________________________________________________________________________________________\n",
            "zero_padding2d (ZeroPadding2D)  (None, 38, 38, 3)    0           input_1[0][0]                    \n",
            "__________________________________________________________________________________________________\n",
            "conv1 (Conv2D)                  (None, 16, 16, 64)   9472        zero_padding2d[0][0]             \n",
            "__________________________________________________________________________________________________\n",
            "bn_conv1 (BatchNormalization)   (None, 16, 16, 64)   256         conv1[0][0]                      \n",
            "__________________________________________________________________________________________________\n",
            "activation_3 (Activation)       (None, 16, 16, 64)   0           bn_conv1[0][0]                   \n",
            "__________________________________________________________________________________________________\n",
            "max_pooling2d (MaxPooling2D)    (None, 7, 7, 64)     0           activation_3[0][0]               \n",
            "__________________________________________________________________________________________________\n",
            "res2a_branch2a (Conv2D)         (None, 7, 7, 64)     4160        max_pooling2d[0][0]              \n",
            "__________________________________________________________________________________________________\n",
            "bn2a_branch2a (BatchNormalizati (None, 7, 7, 64)     256         res2a_branch2a[0][0]             \n",
            "__________________________________________________________________________________________________\n",
            "activation_4 (Activation)       (None, 7, 7, 64)     0           bn2a_branch2a[0][0]              \n",
            "__________________________________________________________________________________________________\n",
            "res2a_branch2b (Conv2D)         (None, 7, 7, 64)     36928       activation_4[0][0]               \n",
            "__________________________________________________________________________________________________\n",
            "bn2a_branch2b (BatchNormalizati (None, 7, 7, 64)     256         res2a_branch2b[0][0]             \n",
            "__________________________________________________________________________________________________\n",
            "activation_5 (Activation)       (None, 7, 7, 64)     0           bn2a_branch2b[0][0]              \n",
            "__________________________________________________________________________________________________\n",
            "res2a_branch2c (Conv2D)         (None, 7, 7, 256)    16640       activation_5[0][0]               \n",
            "__________________________________________________________________________________________________\n",
            "res2a_branch1 (Conv2D)          (None, 7, 7, 256)    16640       max_pooling2d[0][0]              \n",
            "__________________________________________________________________________________________________\n",
            "bn2a_branch2c (BatchNormalizati (None, 7, 7, 256)    1024        res2a_branch2c[0][0]             \n",
            "__________________________________________________________________________________________________\n",
            "bn2a_branch1 (BatchNormalizatio (None, 7, 7, 256)    1024        res2a_branch1[0][0]              \n",
            "__________________________________________________________________________________________________\n",
            "add_1 (Add)                     (None, 7, 7, 256)    0           bn2a_branch2c[0][0]              \n",
            "                                                                 bn2a_branch1[0][0]               \n",
            "__________________________________________________________________________________________________\n",
            "activation_6 (Activation)       (None, 7, 7, 256)    0           add_1[0][0]                      \n",
            "__________________________________________________________________________________________________\n",
            "res2b_branch2a (Conv2D)         (None, 7, 7, 64)     16448       activation_6[0][0]               \n",
            "__________________________________________________________________________________________________\n",
            "bn2b_branch2a (BatchNormalizati (None, 7, 7, 64)     256         res2b_branch2a[0][0]             \n",
            "__________________________________________________________________________________________________\n",
            "activation_7 (Activation)       (None, 7, 7, 64)     0           bn2b_branch2a[0][0]              \n",
            "__________________________________________________________________________________________________\n",
            "res2b_branch2b (Conv2D)         (None, 7, 7, 64)     36928       activation_7[0][0]               \n",
            "__________________________________________________________________________________________________\n",
            "bn2b_branch2b (BatchNormalizati (None, 7, 7, 64)     256         res2b_branch2b[0][0]             \n",
            "__________________________________________________________________________________________________\n",
            "activation_8 (Activation)       (None, 7, 7, 64)     0           bn2b_branch2b[0][0]              \n",
            "__________________________________________________________________________________________________\n",
            "res2b_branch2c (Conv2D)         (None, 7, 7, 256)    16640       activation_8[0][0]               \n",
            "__________________________________________________________________________________________________\n",
            "bn2b_branch2c (BatchNormalizati (None, 7, 7, 256)    1024        res2b_branch2c[0][0]             \n",
            "__________________________________________________________________________________________________\n",
            "add_2 (Add)                     (None, 7, 7, 256)    0           bn2b_branch2c[0][0]              \n",
            "                                                                 activation_6[0][0]               \n",
            "__________________________________________________________________________________________________\n",
            "activation_9 (Activation)       (None, 7, 7, 256)    0           add_2[0][0]                      \n",
            "__________________________________________________________________________________________________\n",
            "res2c_branch2a (Conv2D)         (None, 7, 7, 64)     16448       activation_9[0][0]               \n",
            "__________________________________________________________________________________________________\n",
            "bn2c_branch2a (BatchNormalizati (None, 7, 7, 64)     256         res2c_branch2a[0][0]             \n",
            "__________________________________________________________________________________________________\n",
            "activation_10 (Activation)      (None, 7, 7, 64)     0           bn2c_branch2a[0][0]              \n",
            "__________________________________________________________________________________________________\n",
            "res2c_branch2b (Conv2D)         (None, 7, 7, 64)     36928       activation_10[0][0]              \n",
            "__________________________________________________________________________________________________\n",
            "bn2c_branch2b (BatchNormalizati (None, 7, 7, 64)     256         res2c_branch2b[0][0]             \n",
            "__________________________________________________________________________________________________\n",
            "activation_11 (Activation)      (None, 7, 7, 64)     0           bn2c_branch2b[0][0]              \n",
            "__________________________________________________________________________________________________\n",
            "res2c_branch2c (Conv2D)         (None, 7, 7, 256)    16640       activation_11[0][0]              \n",
            "__________________________________________________________________________________________________\n",
            "bn2c_branch2c (BatchNormalizati (None, 7, 7, 256)    1024        res2c_branch2c[0][0]             \n",
            "__________________________________________________________________________________________________\n",
            "add_3 (Add)                     (None, 7, 7, 256)    0           bn2c_branch2c[0][0]              \n",
            "                                                                 activation_9[0][0]               \n",
            "__________________________________________________________________________________________________\n",
            "activation_12 (Activation)      (None, 7, 7, 256)    0           add_3[0][0]                      \n",
            "__________________________________________________________________________________________________\n",
            "res3a_branch2a (Conv2D)         (None, 4, 4, 128)    32896       activation_12[0][0]              \n",
            "__________________________________________________________________________________________________\n",
            "bn3a_branch2a (BatchNormalizati (None, 4, 4, 128)    512         res3a_branch2a[0][0]             \n",
            "__________________________________________________________________________________________________\n",
            "activation_13 (Activation)      (None, 4, 4, 128)    0           bn3a_branch2a[0][0]              \n",
            "__________________________________________________________________________________________________\n",
            "res3a_branch2b (Conv2D)         (None, 4, 4, 128)    147584      activation_13[0][0]              \n",
            "__________________________________________________________________________________________________\n",
            "bn3a_branch2b (BatchNormalizati (None, 4, 4, 128)    512         res3a_branch2b[0][0]             \n",
            "__________________________________________________________________________________________________\n",
            "activation_14 (Activation)      (None, 4, 4, 128)    0           bn3a_branch2b[0][0]              \n",
            "__________________________________________________________________________________________________\n",
            "res3a_branch2c (Conv2D)         (None, 4, 4, 512)    66048       activation_14[0][0]              \n",
            "__________________________________________________________________________________________________\n",
            "res3a_branch1 (Conv2D)          (None, 4, 4, 512)    131584      activation_12[0][0]              \n",
            "__________________________________________________________________________________________________\n",
            "bn3a_branch2c (BatchNormalizati (None, 4, 4, 512)    2048        res3a_branch2c[0][0]             \n",
            "__________________________________________________________________________________________________\n",
            "bn3a_branch1 (BatchNormalizatio (None, 4, 4, 512)    2048        res3a_branch1[0][0]              \n",
            "__________________________________________________________________________________________________\n",
            "add_4 (Add)                     (None, 4, 4, 512)    0           bn3a_branch2c[0][0]              \n",
            "                                                                 bn3a_branch1[0][0]               \n",
            "__________________________________________________________________________________________________\n",
            "activation_15 (Activation)      (None, 4, 4, 512)    0           add_4[0][0]                      \n",
            "__________________________________________________________________________________________________\n",
            "res3b_branch2a (Conv2D)         (None, 4, 4, 128)    65664       activation_15[0][0]              \n",
            "__________________________________________________________________________________________________\n",
            "bn3b_branch2a (BatchNormalizati (None, 4, 4, 128)    512         res3b_branch2a[0][0]             \n",
            "__________________________________________________________________________________________________\n",
            "activation_16 (Activation)      (None, 4, 4, 128)    0           bn3b_branch2a[0][0]              \n",
            "__________________________________________________________________________________________________\n",
            "res3b_branch2b (Conv2D)         (None, 4, 4, 128)    147584      activation_16[0][0]              \n",
            "__________________________________________________________________________________________________\n",
            "bn3b_branch2b (BatchNormalizati (None, 4, 4, 128)    512         res3b_branch2b[0][0]             \n",
            "__________________________________________________________________________________________________\n",
            "activation_17 (Activation)      (None, 4, 4, 128)    0           bn3b_branch2b[0][0]              \n",
            "__________________________________________________________________________________________________\n",
            "res3b_branch2c (Conv2D)         (None, 4, 4, 512)    66048       activation_17[0][0]              \n",
            "__________________________________________________________________________________________________\n",
            "bn3b_branch2c (BatchNormalizati (None, 4, 4, 512)    2048        res3b_branch2c[0][0]             \n",
            "__________________________________________________________________________________________________\n",
            "add_5 (Add)                     (None, 4, 4, 512)    0           bn3b_branch2c[0][0]              \n",
            "                                                                 activation_15[0][0]              \n",
            "__________________________________________________________________________________________________\n",
            "activation_18 (Activation)      (None, 4, 4, 512)    0           add_5[0][0]                      \n",
            "__________________________________________________________________________________________________\n",
            "res3c_branch2a (Conv2D)         (None, 4, 4, 128)    65664       activation_18[0][0]              \n",
            "__________________________________________________________________________________________________\n",
            "bn3c_branch2a (BatchNormalizati (None, 4, 4, 128)    512         res3c_branch2a[0][0]             \n",
            "__________________________________________________________________________________________________\n",
            "activation_19 (Activation)      (None, 4, 4, 128)    0           bn3c_branch2a[0][0]              \n",
            "__________________________________________________________________________________________________\n",
            "res3c_branch2b (Conv2D)         (None, 4, 4, 128)    147584      activation_19[0][0]              \n",
            "__________________________________________________________________________________________________\n",
            "bn3c_branch2b (BatchNormalizati (None, 4, 4, 128)    512         res3c_branch2b[0][0]             \n",
            "__________________________________________________________________________________________________\n",
            "activation_20 (Activation)      (None, 4, 4, 128)    0           bn3c_branch2b[0][0]              \n",
            "__________________________________________________________________________________________________\n",
            "res3c_branch2c (Conv2D)         (None, 4, 4, 512)    66048       activation_20[0][0]              \n",
            "__________________________________________________________________________________________________\n",
            "bn3c_branch2c (BatchNormalizati (None, 4, 4, 512)    2048        res3c_branch2c[0][0]             \n",
            "__________________________________________________________________________________________________\n",
            "add_6 (Add)                     (None, 4, 4, 512)    0           bn3c_branch2c[0][0]              \n",
            "                                                                 activation_18[0][0]              \n",
            "__________________________________________________________________________________________________\n",
            "activation_21 (Activation)      (None, 4, 4, 512)    0           add_6[0][0]                      \n",
            "__________________________________________________________________________________________________\n",
            "res3d_branch2a (Conv2D)         (None, 4, 4, 128)    65664       activation_21[0][0]              \n",
            "__________________________________________________________________________________________________\n",
            "bn3d_branch2a (BatchNormalizati (None, 4, 4, 128)    512         res3d_branch2a[0][0]             \n",
            "__________________________________________________________________________________________________\n",
            "activation_22 (Activation)      (None, 4, 4, 128)    0           bn3d_branch2a[0][0]              \n",
            "__________________________________________________________________________________________________\n",
            "res3d_branch2b (Conv2D)         (None, 4, 4, 128)    147584      activation_22[0][0]              \n",
            "__________________________________________________________________________________________________\n",
            "bn3d_branch2b (BatchNormalizati (None, 4, 4, 128)    512         res3d_branch2b[0][0]             \n",
            "__________________________________________________________________________________________________\n",
            "activation_23 (Activation)      (None, 4, 4, 128)    0           bn3d_branch2b[0][0]              \n",
            "__________________________________________________________________________________________________\n",
            "res3d_branch2c (Conv2D)         (None, 4, 4, 512)    66048       activation_23[0][0]              \n",
            "__________________________________________________________________________________________________\n",
            "bn3d_branch2c (BatchNormalizati (None, 4, 4, 512)    2048        res3d_branch2c[0][0]             \n",
            "__________________________________________________________________________________________________\n",
            "add_7 (Add)                     (None, 4, 4, 512)    0           bn3d_branch2c[0][0]              \n",
            "                                                                 activation_21[0][0]              \n",
            "__________________________________________________________________________________________________\n",
            "activation_24 (Activation)      (None, 4, 4, 512)    0           add_7[0][0]                      \n",
            "__________________________________________________________________________________________________\n",
            "res4a_branch2a (Conv2D)         (None, 2, 2, 256)    131328      activation_24[0][0]              \n",
            "__________________________________________________________________________________________________\n",
            "bn4a_branch2a (BatchNormalizati (None, 2, 2, 256)    1024        res4a_branch2a[0][0]             \n",
            "__________________________________________________________________________________________________\n",
            "activation_25 (Activation)      (None, 2, 2, 256)    0           bn4a_branch2a[0][0]              \n",
            "__________________________________________________________________________________________________\n",
            "res4a_branch2b (Conv2D)         (None, 2, 2, 256)    590080      activation_25[0][0]              \n",
            "__________________________________________________________________________________________________\n",
            "bn4a_branch2b (BatchNormalizati (None, 2, 2, 256)    1024        res4a_branch2b[0][0]             \n",
            "__________________________________________________________________________________________________\n",
            "activation_26 (Activation)      (None, 2, 2, 256)    0           bn4a_branch2b[0][0]              \n",
            "__________________________________________________________________________________________________\n",
            "res4a_branch2c (Conv2D)         (None, 2, 2, 1024)   263168      activation_26[0][0]              \n",
            "__________________________________________________________________________________________________\n",
            "res4a_branch1 (Conv2D)          (None, 2, 2, 1024)   525312      activation_24[0][0]              \n",
            "__________________________________________________________________________________________________\n",
            "bn4a_branch2c (BatchNormalizati (None, 2, 2, 1024)   4096        res4a_branch2c[0][0]             \n",
            "__________________________________________________________________________________________________\n",
            "bn4a_branch1 (BatchNormalizatio (None, 2, 2, 1024)   4096        res4a_branch1[0][0]              \n",
            "__________________________________________________________________________________________________\n",
            "add_8 (Add)                     (None, 2, 2, 1024)   0           bn4a_branch2c[0][0]              \n",
            "                                                                 bn4a_branch1[0][0]               \n",
            "__________________________________________________________________________________________________\n",
            "activation_27 (Activation)      (None, 2, 2, 1024)   0           add_8[0][0]                      \n",
            "__________________________________________________________________________________________________\n",
            "res4b_branch2a (Conv2D)         (None, 2, 2, 256)    262400      activation_27[0][0]              \n",
            "__________________________________________________________________________________________________\n",
            "bn4b_branch2a (BatchNormalizati (None, 2, 2, 256)    1024        res4b_branch2a[0][0]             \n",
            "__________________________________________________________________________________________________\n",
            "activation_28 (Activation)      (None, 2, 2, 256)    0           bn4b_branch2a[0][0]              \n",
            "__________________________________________________________________________________________________\n",
            "res4b_branch2b (Conv2D)         (None, 2, 2, 256)    590080      activation_28[0][0]              \n",
            "__________________________________________________________________________________________________\n",
            "bn4b_branch2b (BatchNormalizati (None, 2, 2, 256)    1024        res4b_branch2b[0][0]             \n",
            "__________________________________________________________________________________________________\n",
            "activation_29 (Activation)      (None, 2, 2, 256)    0           bn4b_branch2b[0][0]              \n",
            "__________________________________________________________________________________________________\n",
            "res4b_branch2c (Conv2D)         (None, 2, 2, 1024)   263168      activation_29[0][0]              \n",
            "__________________________________________________________________________________________________\n",
            "bn4b_branch2c (BatchNormalizati (None, 2, 2, 1024)   4096        res4b_branch2c[0][0]             \n",
            "__________________________________________________________________________________________________\n",
            "add_9 (Add)                     (None, 2, 2, 1024)   0           bn4b_branch2c[0][0]              \n",
            "                                                                 activation_27[0][0]              \n",
            "__________________________________________________________________________________________________\n",
            "activation_30 (Activation)      (None, 2, 2, 1024)   0           add_9[0][0]                      \n",
            "__________________________________________________________________________________________________\n",
            "res4c_branch2a (Conv2D)         (None, 2, 2, 256)    262400      activation_30[0][0]              \n",
            "__________________________________________________________________________________________________\n",
            "bn4c_branch2a (BatchNormalizati (None, 2, 2, 256)    1024        res4c_branch2a[0][0]             \n",
            "__________________________________________________________________________________________________\n",
            "activation_31 (Activation)      (None, 2, 2, 256)    0           bn4c_branch2a[0][0]              \n",
            "__________________________________________________________________________________________________\n",
            "res4c_branch2b (Conv2D)         (None, 2, 2, 256)    590080      activation_31[0][0]              \n",
            "__________________________________________________________________________________________________\n",
            "bn4c_branch2b (BatchNormalizati (None, 2, 2, 256)    1024        res4c_branch2b[0][0]             \n",
            "__________________________________________________________________________________________________\n",
            "activation_32 (Activation)      (None, 2, 2, 256)    0           bn4c_branch2b[0][0]              \n",
            "__________________________________________________________________________________________________\n",
            "res4c_branch2c (Conv2D)         (None, 2, 2, 1024)   263168      activation_32[0][0]              \n",
            "__________________________________________________________________________________________________\n",
            "bn4c_branch2c (BatchNormalizati (None, 2, 2, 1024)   4096        res4c_branch2c[0][0]             \n",
            "__________________________________________________________________________________________________\n",
            "add_10 (Add)                    (None, 2, 2, 1024)   0           bn4c_branch2c[0][0]              \n",
            "                                                                 activation_30[0][0]              \n",
            "__________________________________________________________________________________________________\n",
            "activation_33 (Activation)      (None, 2, 2, 1024)   0           add_10[0][0]                     \n",
            "__________________________________________________________________________________________________\n",
            "res4d_branch2a (Conv2D)         (None, 2, 2, 256)    262400      activation_33[0][0]              \n",
            "__________________________________________________________________________________________________\n",
            "bn4d_branch2a (BatchNormalizati (None, 2, 2, 256)    1024        res4d_branch2a[0][0]             \n",
            "__________________________________________________________________________________________________\n",
            "activation_34 (Activation)      (None, 2, 2, 256)    0           bn4d_branch2a[0][0]              \n",
            "__________________________________________________________________________________________________\n",
            "res4d_branch2b (Conv2D)         (None, 2, 2, 256)    590080      activation_34[0][0]              \n",
            "__________________________________________________________________________________________________\n",
            "bn4d_branch2b (BatchNormalizati (None, 2, 2, 256)    1024        res4d_branch2b[0][0]             \n",
            "__________________________________________________________________________________________________\n",
            "activation_35 (Activation)      (None, 2, 2, 256)    0           bn4d_branch2b[0][0]              \n",
            "__________________________________________________________________________________________________\n",
            "res4d_branch2c (Conv2D)         (None, 2, 2, 1024)   263168      activation_35[0][0]              \n",
            "__________________________________________________________________________________________________\n",
            "bn4d_branch2c (BatchNormalizati (None, 2, 2, 1024)   4096        res4d_branch2c[0][0]             \n",
            "__________________________________________________________________________________________________\n",
            "add_11 (Add)                    (None, 2, 2, 1024)   0           bn4d_branch2c[0][0]              \n",
            "                                                                 activation_33[0][0]              \n",
            "__________________________________________________________________________________________________\n",
            "activation_36 (Activation)      (None, 2, 2, 1024)   0           add_11[0][0]                     \n",
            "__________________________________________________________________________________________________\n",
            "res4e_branch2a (Conv2D)         (None, 2, 2, 256)    262400      activation_36[0][0]              \n",
            "__________________________________________________________________________________________________\n",
            "bn4e_branch2a (BatchNormalizati (None, 2, 2, 256)    1024        res4e_branch2a[0][0]             \n",
            "__________________________________________________________________________________________________\n",
            "activation_37 (Activation)      (None, 2, 2, 256)    0           bn4e_branch2a[0][0]              \n",
            "__________________________________________________________________________________________________\n",
            "res4e_branch2b (Conv2D)         (None, 2, 2, 256)    590080      activation_37[0][0]              \n",
            "__________________________________________________________________________________________________\n",
            "bn4e_branch2b (BatchNormalizati (None, 2, 2, 256)    1024        res4e_branch2b[0][0]             \n",
            "__________________________________________________________________________________________________\n",
            "activation_38 (Activation)      (None, 2, 2, 256)    0           bn4e_branch2b[0][0]              \n",
            "__________________________________________________________________________________________________\n",
            "res4e_branch2c (Conv2D)         (None, 2, 2, 1024)   263168      activation_38[0][0]              \n",
            "__________________________________________________________________________________________________\n",
            "bn4e_branch2c (BatchNormalizati (None, 2, 2, 1024)   4096        res4e_branch2c[0][0]             \n",
            "__________________________________________________________________________________________________\n",
            "add_12 (Add)                    (None, 2, 2, 1024)   0           bn4e_branch2c[0][0]              \n",
            "                                                                 activation_36[0][0]              \n",
            "__________________________________________________________________________________________________\n",
            "activation_39 (Activation)      (None, 2, 2, 1024)   0           add_12[0][0]                     \n",
            "__________________________________________________________________________________________________\n",
            "res4f_branch2a (Conv2D)         (None, 2, 2, 256)    262400      activation_39[0][0]              \n",
            "__________________________________________________________________________________________________\n",
            "bn4f_branch2a (BatchNormalizati (None, 2, 2, 256)    1024        res4f_branch2a[0][0]             \n",
            "__________________________________________________________________________________________________\n",
            "activation_40 (Activation)      (None, 2, 2, 256)    0           bn4f_branch2a[0][0]              \n",
            "__________________________________________________________________________________________________\n",
            "res4f_branch2b (Conv2D)         (None, 2, 2, 256)    590080      activation_40[0][0]              \n",
            "__________________________________________________________________________________________________\n",
            "bn4f_branch2b (BatchNormalizati (None, 2, 2, 256)    1024        res4f_branch2b[0][0]             \n",
            "__________________________________________________________________________________________________\n",
            "activation_41 (Activation)      (None, 2, 2, 256)    0           bn4f_branch2b[0][0]              \n",
            "__________________________________________________________________________________________________\n",
            "res4f_branch2c (Conv2D)         (None, 2, 2, 1024)   263168      activation_41[0][0]              \n",
            "__________________________________________________________________________________________________\n",
            "bn4f_branch2c (BatchNormalizati (None, 2, 2, 1024)   4096        res4f_branch2c[0][0]             \n",
            "__________________________________________________________________________________________________\n",
            "add_13 (Add)                    (None, 2, 2, 1024)   0           bn4f_branch2c[0][0]              \n",
            "                                                                 activation_39[0][0]              \n",
            "__________________________________________________________________________________________________\n",
            "activation_42 (Activation)      (None, 2, 2, 1024)   0           add_13[0][0]                     \n",
            "__________________________________________________________________________________________________\n",
            "avg_pool (AveragePooling2D)     (None, 1, 1, 1024)   0           activation_42[0][0]              \n",
            "__________________________________________________________________________________________________\n",
            "flatten (Flatten)               (None, 1024)         0           avg_pool[0][0]                   \n",
            "__________________________________________________________________________________________________\n",
            "fc10 (Dense)                    (None, 10)           10250       flatten[0][0]                    \n",
            "==================================================================================================\n",
            "Total params: 8,599,434\n",
            "Trainable params: 8,568,842\n",
            "Non-trainable params: 30,592\n",
            "__________________________________________________________________________________________________\n"
          ],
          "name": "stdout"
        }
      ]
    },
    {
      "cell_type": "code",
      "metadata": {
        "id": "J650haCoa57V"
      },
      "source": [
        "model.compile(optimizer='adam', loss='categorical_crossentropy', metrics=['accuracy'])"
      ],
      "execution_count": 19,
      "outputs": []
    },
    {
      "cell_type": "code",
      "metadata": {
        "id": "7PW7D-k47sHt",
        "colab": {
          "base_uri": "https://localhost:8080/"
        },
        "outputId": "1e0e0204-4451-4593-974f-b1ee84868ebe"
      },
      "source": [
        "history = model.fit(X_train, y_train, validation_data = (X_val, y_val),\n",
        "                    epochs = 100,\n",
        "                    batch_size = 64)"
      ],
      "execution_count": 20,
      "outputs": [
        {
          "output_type": "stream",
          "text": [
            "Epoch 1/100\n",
            "1407/1407 [==============================] - 59s 38ms/step - loss: 2.6504 - accuracy: 0.1037 - val_loss: 2.4254 - val_accuracy: 0.0918\n",
            "Epoch 2/100\n",
            "1407/1407 [==============================] - 53s 37ms/step - loss: 2.4399 - accuracy: 0.1088 - val_loss: 2.8066 - val_accuracy: 0.1010\n",
            "Epoch 3/100\n",
            "1407/1407 [==============================] - 52s 37ms/step - loss: 2.4214 - accuracy: 0.1062 - val_loss: 2.4092 - val_accuracy: 0.0910\n",
            "Epoch 4/100\n",
            "1407/1407 [==============================] - 52s 37ms/step - loss: 2.3908 - accuracy: 0.1138 - val_loss: 2.4629 - val_accuracy: 0.0974\n",
            "Epoch 5/100\n",
            "1407/1407 [==============================] - 52s 37ms/step - loss: 2.3503 - accuracy: 0.1251 - val_loss: 2.4545 - val_accuracy: 0.0968\n",
            "Epoch 6/100\n",
            "1407/1407 [==============================] - 52s 37ms/step - loss: 2.3195 - accuracy: 0.1464 - val_loss: 2.5063 - val_accuracy: 0.0948\n",
            "Epoch 7/100\n",
            "1407/1407 [==============================] - 52s 37ms/step - loss: 2.2194 - accuracy: 0.1953 - val_loss: 2.5624 - val_accuracy: 0.1008\n",
            "Epoch 8/100\n",
            "1407/1407 [==============================] - 52s 37ms/step - loss: 2.0220 - accuracy: 0.2888 - val_loss: 2.7861 - val_accuracy: 0.1048\n",
            "Epoch 9/100\n",
            "1407/1407 [==============================] - 53s 37ms/step - loss: 1.6809 - accuracy: 0.4243 - val_loss: 3.0288 - val_accuracy: 0.1074\n",
            "Epoch 10/100\n",
            "1407/1407 [==============================] - 53s 37ms/step - loss: 1.2488 - accuracy: 0.5806 - val_loss: 3.6473 - val_accuracy: 0.0976\n",
            "Epoch 11/100\n",
            "1407/1407 [==============================] - 52s 37ms/step - loss: 0.8728 - accuracy: 0.7079 - val_loss: 4.4438 - val_accuracy: 0.1060\n",
            "Epoch 12/100\n",
            "1407/1407 [==============================] - 52s 37ms/step - loss: 0.6055 - accuracy: 0.7971 - val_loss: 4.9511 - val_accuracy: 0.0982\n",
            "Epoch 13/100\n",
            "1407/1407 [==============================] - 53s 37ms/step - loss: 0.4514 - accuracy: 0.8472 - val_loss: 5.3645 - val_accuracy: 0.0986\n",
            "Epoch 14/100\n",
            "1407/1407 [==============================] - 52s 37ms/step - loss: 0.3586 - accuracy: 0.8803 - val_loss: 5.7901 - val_accuracy: 0.1040\n",
            "Epoch 15/100\n",
            "1407/1407 [==============================] - 52s 37ms/step - loss: 0.3101 - accuracy: 0.8960 - val_loss: 5.8305 - val_accuracy: 0.1000\n",
            "Epoch 16/100\n",
            "1407/1407 [==============================] - 52s 37ms/step - loss: 0.2548 - accuracy: 0.9138 - val_loss: 6.3053 - val_accuracy: 0.1028\n",
            "Epoch 17/100\n",
            "1407/1407 [==============================] - 52s 37ms/step - loss: 0.2389 - accuracy: 0.9211 - val_loss: 6.4487 - val_accuracy: 0.1036\n",
            "Epoch 18/100\n",
            "1407/1407 [==============================] - 52s 37ms/step - loss: 0.2298 - accuracy: 0.9233 - val_loss: 6.5657 - val_accuracy: 0.1042\n",
            "Epoch 19/100\n",
            "1407/1407 [==============================] - 52s 37ms/step - loss: 0.1915 - accuracy: 0.9361 - val_loss: 6.6983 - val_accuracy: 0.1036\n",
            "Epoch 20/100\n",
            "1407/1407 [==============================] - 52s 37ms/step - loss: 0.1897 - accuracy: 0.9367 - val_loss: 6.8559 - val_accuracy: 0.0970\n",
            "Epoch 21/100\n",
            "1407/1407 [==============================] - 52s 37ms/step - loss: 0.1717 - accuracy: 0.9422 - val_loss: 6.7134 - val_accuracy: 0.1010\n",
            "Epoch 22/100\n",
            "1407/1407 [==============================] - 51s 36ms/step - loss: 0.1600 - accuracy: 0.9458 - val_loss: 7.0332 - val_accuracy: 0.0974\n",
            "Epoch 23/100\n",
            "1407/1407 [==============================] - 51s 37ms/step - loss: 0.1548 - accuracy: 0.9488 - val_loss: 7.1632 - val_accuracy: 0.0986\n",
            "Epoch 24/100\n",
            "1407/1407 [==============================] - 51s 36ms/step - loss: 0.1462 - accuracy: 0.9516 - val_loss: 7.3235 - val_accuracy: 0.0950\n",
            "Epoch 25/100\n",
            "1407/1407 [==============================] - 52s 37ms/step - loss: 0.1423 - accuracy: 0.9531 - val_loss: 7.2277 - val_accuracy: 0.0964\n",
            "Epoch 26/100\n",
            "1407/1407 [==============================] - 51s 36ms/step - loss: 0.1328 - accuracy: 0.9548 - val_loss: 7.3741 - val_accuracy: 0.0946\n",
            "Epoch 27/100\n",
            "1407/1407 [==============================] - 51s 37ms/step - loss: 0.1242 - accuracy: 0.9593 - val_loss: 7.1924 - val_accuracy: 0.1054\n",
            "Epoch 28/100\n",
            "1407/1407 [==============================] - 51s 36ms/step - loss: 0.1237 - accuracy: 0.9589 - val_loss: 7.6365 - val_accuracy: 0.1084\n",
            "Epoch 29/100\n",
            "1407/1407 [==============================] - 51s 36ms/step - loss: 0.1114 - accuracy: 0.9632 - val_loss: 7.5289 - val_accuracy: 0.0994\n",
            "Epoch 30/100\n",
            "1407/1407 [==============================] - 51s 36ms/step - loss: 0.1325 - accuracy: 0.9557 - val_loss: 7.3915 - val_accuracy: 0.1044\n",
            "Epoch 31/100\n",
            "1407/1407 [==============================] - 51s 37ms/step - loss: 0.0988 - accuracy: 0.9671 - val_loss: 7.5161 - val_accuracy: 0.0974\n",
            "Epoch 32/100\n",
            "1407/1407 [==============================] - 51s 36ms/step - loss: 0.0963 - accuracy: 0.9678 - val_loss: 7.6696 - val_accuracy: 0.1014\n",
            "Epoch 33/100\n",
            "1407/1407 [==============================] - 51s 36ms/step - loss: 0.1119 - accuracy: 0.9631 - val_loss: 8.0004 - val_accuracy: 0.1064\n",
            "Epoch 34/100\n",
            "1407/1407 [==============================] - 51s 36ms/step - loss: 0.0967 - accuracy: 0.9677 - val_loss: 7.6201 - val_accuracy: 0.1004\n",
            "Epoch 35/100\n",
            "1407/1407 [==============================] - 51s 36ms/step - loss: 0.0956 - accuracy: 0.9690 - val_loss: 7.8423 - val_accuracy: 0.1032\n",
            "Epoch 36/100\n",
            "1407/1407 [==============================] - 52s 37ms/step - loss: 0.0841 - accuracy: 0.9721 - val_loss: 7.7564 - val_accuracy: 0.1026\n",
            "Epoch 37/100\n",
            "1407/1407 [==============================] - 52s 37ms/step - loss: 0.0876 - accuracy: 0.9703 - val_loss: 7.7493 - val_accuracy: 0.0972\n",
            "Epoch 38/100\n",
            "1407/1407 [==============================] - 53s 38ms/step - loss: 0.0807 - accuracy: 0.9742 - val_loss: 7.8776 - val_accuracy: 0.0942\n",
            "Epoch 39/100\n",
            "1407/1407 [==============================] - 51s 37ms/step - loss: 0.0784 - accuracy: 0.9745 - val_loss: 8.0041 - val_accuracy: 0.0968\n",
            "Epoch 40/100\n",
            "1407/1407 [==============================] - 51s 37ms/step - loss: 0.0822 - accuracy: 0.9723 - val_loss: 8.1679 - val_accuracy: 0.0992\n",
            "Epoch 41/100\n",
            "1407/1407 [==============================] - 52s 37ms/step - loss: 0.0817 - accuracy: 0.9730 - val_loss: 8.3120 - val_accuracy: 0.1008\n",
            "Epoch 42/100\n",
            "1407/1407 [==============================] - 51s 36ms/step - loss: 0.0640 - accuracy: 0.9780 - val_loss: 7.9144 - val_accuracy: 0.1034\n",
            "Epoch 43/100\n",
            "1407/1407 [==============================] - 52s 37ms/step - loss: 0.0935 - accuracy: 0.9703 - val_loss: 8.1668 - val_accuracy: 0.1016\n",
            "Epoch 44/100\n",
            "1407/1407 [==============================] - 51s 37ms/step - loss: 0.0661 - accuracy: 0.9767 - val_loss: 8.2164 - val_accuracy: 0.0968\n",
            "Epoch 45/100\n",
            "1407/1407 [==============================] - 52s 37ms/step - loss: 0.0671 - accuracy: 0.9788 - val_loss: 8.2562 - val_accuracy: 0.0978\n",
            "Epoch 46/100\n",
            "1407/1407 [==============================] - 52s 37ms/step - loss: 0.0699 - accuracy: 0.9771 - val_loss: 8.2264 - val_accuracy: 0.0966\n",
            "Epoch 47/100\n",
            "1407/1407 [==============================] - 52s 37ms/step - loss: 0.0789 - accuracy: 0.9737 - val_loss: 8.3486 - val_accuracy: 0.0988\n",
            "Epoch 48/100\n",
            "1407/1407 [==============================] - 53s 37ms/step - loss: 0.0705 - accuracy: 0.9770 - val_loss: 8.3708 - val_accuracy: 0.1002\n",
            "Epoch 49/100\n",
            "1407/1407 [==============================] - 53s 38ms/step - loss: 0.0665 - accuracy: 0.9779 - val_loss: 8.6973 - val_accuracy: 0.1008\n",
            "Epoch 50/100\n",
            "1407/1407 [==============================] - 53s 37ms/step - loss: 0.0673 - accuracy: 0.9771 - val_loss: 8.5234 - val_accuracy: 0.0928\n",
            "Epoch 51/100\n",
            "1407/1407 [==============================] - 53s 37ms/step - loss: 0.0537 - accuracy: 0.9824 - val_loss: 8.7016 - val_accuracy: 0.0998\n",
            "Epoch 52/100\n",
            "1407/1407 [==============================] - 53s 37ms/step - loss: 0.0735 - accuracy: 0.9755 - val_loss: 8.4206 - val_accuracy: 0.0962\n",
            "Epoch 53/100\n",
            "1407/1407 [==============================] - 52s 37ms/step - loss: 0.0740 - accuracy: 0.9752 - val_loss: 8.8244 - val_accuracy: 0.0938\n",
            "Epoch 54/100\n",
            "1407/1407 [==============================] - 53s 37ms/step - loss: 0.0585 - accuracy: 0.9812 - val_loss: 8.4967 - val_accuracy: 0.1030\n",
            "Epoch 55/100\n",
            "1407/1407 [==============================] - 52s 37ms/step - loss: 0.0498 - accuracy: 0.9838 - val_loss: 8.7864 - val_accuracy: 0.0982\n",
            "Epoch 56/100\n",
            "1407/1407 [==============================] - 51s 36ms/step - loss: 0.0562 - accuracy: 0.9809 - val_loss: 8.6072 - val_accuracy: 0.1004\n",
            "Epoch 57/100\n",
            "1407/1407 [==============================] - 51s 37ms/step - loss: 0.1003 - accuracy: 0.9679 - val_loss: 8.9008 - val_accuracy: 0.0994\n",
            "Epoch 58/100\n",
            "1407/1407 [==============================] - 51s 37ms/step - loss: 0.0567 - accuracy: 0.9819 - val_loss: 8.9287 - val_accuracy: 0.0996\n",
            "Epoch 59/100\n",
            "1407/1407 [==============================] - 51s 37ms/step - loss: 0.0532 - accuracy: 0.9826 - val_loss: 8.7973 - val_accuracy: 0.1018\n",
            "Epoch 60/100\n",
            "1407/1407 [==============================] - 51s 36ms/step - loss: 0.0495 - accuracy: 0.9846 - val_loss: 8.8569 - val_accuracy: 0.0952\n",
            "Epoch 61/100\n",
            "1407/1407 [==============================] - 51s 37ms/step - loss: 0.0472 - accuracy: 0.9844 - val_loss: 8.8949 - val_accuracy: 0.0992\n",
            "Epoch 62/100\n",
            "1407/1407 [==============================] - 52s 37ms/step - loss: 0.0518 - accuracy: 0.9832 - val_loss: 8.6674 - val_accuracy: 0.0980\n",
            "Epoch 63/100\n",
            "1407/1407 [==============================] - 51s 37ms/step - loss: 0.0459 - accuracy: 0.9855 - val_loss: 9.0463 - val_accuracy: 0.0976\n",
            "Epoch 64/100\n",
            "1407/1407 [==============================] - 51s 37ms/step - loss: 0.0515 - accuracy: 0.9829 - val_loss: 9.1501 - val_accuracy: 0.0972\n",
            "Epoch 65/100\n",
            "1407/1407 [==============================] - 52s 37ms/step - loss: 0.0482 - accuracy: 0.9845 - val_loss: 9.0248 - val_accuracy: 0.0956\n",
            "Epoch 66/100\n",
            "1407/1407 [==============================] - 52s 37ms/step - loss: 0.0529 - accuracy: 0.9835 - val_loss: 9.4823 - val_accuracy: 0.0968\n",
            "Epoch 67/100\n",
            "1407/1407 [==============================] - 53s 37ms/step - loss: 0.0539 - accuracy: 0.9829 - val_loss: 9.3512 - val_accuracy: 0.0946\n",
            "Epoch 68/100\n",
            "1407/1407 [==============================] - 52s 37ms/step - loss: 0.0475 - accuracy: 0.9840 - val_loss: 9.5990 - val_accuracy: 0.0962\n",
            "Epoch 69/100\n",
            "1407/1407 [==============================] - 52s 37ms/step - loss: 0.0493 - accuracy: 0.9842 - val_loss: 8.8800 - val_accuracy: 0.0982\n",
            "Epoch 70/100\n",
            "1407/1407 [==============================] - 53s 38ms/step - loss: 0.0456 - accuracy: 0.9856 - val_loss: 9.2520 - val_accuracy: 0.0944\n",
            "Epoch 71/100\n",
            "1407/1407 [==============================] - 52s 37ms/step - loss: 0.0397 - accuracy: 0.9861 - val_loss: 9.2157 - val_accuracy: 0.0998\n",
            "Epoch 72/100\n",
            "1407/1407 [==============================] - 52s 37ms/step - loss: 0.0419 - accuracy: 0.9860 - val_loss: 9.2571 - val_accuracy: 0.0938\n",
            "Epoch 73/100\n",
            "1407/1407 [==============================] - 52s 37ms/step - loss: 0.0379 - accuracy: 0.9882 - val_loss: 9.3532 - val_accuracy: 0.0962\n",
            "Epoch 74/100\n",
            "1407/1407 [==============================] - 52s 37ms/step - loss: 0.0461 - accuracy: 0.9851 - val_loss: 9.0534 - val_accuracy: 0.0990\n",
            "Epoch 75/100\n",
            "1407/1407 [==============================] - 52s 37ms/step - loss: 0.0369 - accuracy: 0.9886 - val_loss: 9.2563 - val_accuracy: 0.1010\n",
            "Epoch 76/100\n",
            "1407/1407 [==============================] - 51s 36ms/step - loss: 0.0420 - accuracy: 0.9868 - val_loss: 8.9752 - val_accuracy: 0.1026\n",
            "Epoch 77/100\n",
            "1407/1407 [==============================] - 51s 36ms/step - loss: 0.0476 - accuracy: 0.9850 - val_loss: 8.9318 - val_accuracy: 0.1044\n",
            "Epoch 78/100\n",
            "1407/1407 [==============================] - 52s 37ms/step - loss: 0.0398 - accuracy: 0.9882 - val_loss: 9.6088 - val_accuracy: 0.0978\n",
            "Epoch 79/100\n",
            "1407/1407 [==============================] - 51s 37ms/step - loss: 0.0380 - accuracy: 0.9874 - val_loss: 9.2698 - val_accuracy: 0.1048\n",
            "Epoch 80/100\n",
            "1407/1407 [==============================] - 51s 36ms/step - loss: 0.0443 - accuracy: 0.9853 - val_loss: 9.4770 - val_accuracy: 0.0996\n",
            "Epoch 81/100\n",
            "1407/1407 [==============================] - 51s 36ms/step - loss: 0.0468 - accuracy: 0.9844 - val_loss: 9.2610 - val_accuracy: 0.0992\n",
            "Epoch 82/100\n",
            "1407/1407 [==============================] - 51s 36ms/step - loss: 0.0332 - accuracy: 0.9895 - val_loss: 9.4700 - val_accuracy: 0.1036\n",
            "Epoch 83/100\n",
            "1407/1407 [==============================] - 51s 36ms/step - loss: 0.0355 - accuracy: 0.9882 - val_loss: 9.7374 - val_accuracy: 0.1038\n",
            "Epoch 84/100\n",
            "1407/1407 [==============================] - 51s 37ms/step - loss: 0.0351 - accuracy: 0.9880 - val_loss: 9.5155 - val_accuracy: 0.0980\n",
            "Epoch 85/100\n",
            "1407/1407 [==============================] - 52s 37ms/step - loss: 0.0389 - accuracy: 0.9880 - val_loss: 9.2826 - val_accuracy: 0.1032\n",
            "Epoch 86/100\n",
            "1407/1407 [==============================] - 51s 36ms/step - loss: 0.0301 - accuracy: 0.9902 - val_loss: 9.7419 - val_accuracy: 0.1060\n",
            "Epoch 87/100\n",
            "1407/1407 [==============================] - 51s 36ms/step - loss: 0.0403 - accuracy: 0.9865 - val_loss: 9.4073 - val_accuracy: 0.1046\n",
            "Epoch 88/100\n",
            "1407/1407 [==============================] - 51s 37ms/step - loss: 0.0340 - accuracy: 0.9888 - val_loss: 9.8892 - val_accuracy: 0.0986\n",
            "Epoch 89/100\n",
            "1407/1407 [==============================] - 51s 37ms/step - loss: 0.0425 - accuracy: 0.9859 - val_loss: 9.3556 - val_accuracy: 0.1030\n",
            "Epoch 90/100\n",
            "1407/1407 [==============================] - 52s 37ms/step - loss: 0.0276 - accuracy: 0.9911 - val_loss: 9.7969 - val_accuracy: 0.0998\n",
            "Epoch 91/100\n",
            "1407/1407 [==============================] - 52s 37ms/step - loss: 0.0338 - accuracy: 0.9892 - val_loss: 9.8204 - val_accuracy: 0.1014\n",
            "Epoch 92/100\n",
            "1407/1407 [==============================] - 52s 37ms/step - loss: 0.0337 - accuracy: 0.9890 - val_loss: 9.8449 - val_accuracy: 0.1008\n",
            "Epoch 93/100\n",
            "1407/1407 [==============================] - 52s 37ms/step - loss: 0.0330 - accuracy: 0.9896 - val_loss: 9.8561 - val_accuracy: 0.1004\n",
            "Epoch 94/100\n",
            "1407/1407 [==============================] - 52s 37ms/step - loss: 0.0314 - accuracy: 0.9903 - val_loss: 9.6995 - val_accuracy: 0.1002\n",
            "Epoch 95/100\n",
            "1407/1407 [==============================] - 52s 37ms/step - loss: 0.0284 - accuracy: 0.9909 - val_loss: 9.8050 - val_accuracy: 0.1016\n",
            "Epoch 96/100\n",
            "1407/1407 [==============================] - 52s 37ms/step - loss: 0.0489 - accuracy: 0.9855 - val_loss: 9.9588 - val_accuracy: 0.0970\n",
            "Epoch 97/100\n",
            "1407/1407 [==============================] - 52s 37ms/step - loss: 0.0221 - accuracy: 0.9928 - val_loss: 9.9142 - val_accuracy: 0.0984\n",
            "Epoch 98/100\n",
            "1407/1407 [==============================] - 52s 37ms/step - loss: 0.0333 - accuracy: 0.9887 - val_loss: 9.6643 - val_accuracy: 0.0972\n",
            "Epoch 99/100\n",
            "1407/1407 [==============================] - 52s 37ms/step - loss: 0.0232 - accuracy: 0.9924 - val_loss: 9.9171 - val_accuracy: 0.0978\n",
            "Epoch 100/100\n",
            "1407/1407 [==============================] - 52s 37ms/step - loss: 0.0366 - accuracy: 0.9885 - val_loss: 9.9460 - val_accuracy: 0.0958\n"
          ],
          "name": "stdout"
        }
      ]
    },
    {
      "cell_type": "code",
      "metadata": {
        "id": "aNXPO4rja57V"
      },
      "source": [
        "# history = model.fit(train_generator.flow(X_train, y_train, batch_size=32), \n",
        "#                     epochs = 100,\n",
        "#                     batch_size = 64,\n",
        "#                     validation_data = val_generator.flow(X_val, y_val, batch_size=32))"
      ],
      "execution_count": 21,
      "outputs": []
    },
    {
      "cell_type": "code",
      "metadata": {
        "colab": {
          "base_uri": "https://localhost:8080/"
        },
        "id": "R0bTeqyaa57W",
        "outputId": "79e1d703-7686-4bb3-8a00-8b0450979162"
      },
      "source": [
        "preds = model.evaluate(X_test, y_test)\n",
        "print (\"Loss = \" + str(preds[0]))\n",
        "print (\"Test Accuracy = \" + str(preds[1]))"
      ],
      "execution_count": 22,
      "outputs": [
        {
          "output_type": "stream",
          "text": [
            "313/313 [==============================] - 3s 8ms/step - loss: 9.6304 - accuracy: 0.1045\n",
            "Loss = 9.630355834960938\n",
            "Test Accuracy = 0.10450000315904617\n"
          ],
          "name": "stdout"
        }
      ]
    },
    {
      "cell_type": "code",
      "metadata": {
        "id": "7EJKrOpJa57W"
      },
      "source": [
        "# Pandas and Numpy for data structures and util fucntions\n",
        "import scipy as sp\n",
        "import numpy as np\n",
        "import pandas as pd\n",
        "from numpy.random import rand\n",
        "pd.options.display.max_colwidth = 600\n",
        "\n",
        "# Scikit Imports\n",
        "from sklearn import preprocessing\n",
        "from sklearn.metrics import roc_curve, auc, precision_recall_curve\n",
        "from sklearn.model_selection import train_test_split\n",
        "\n",
        "# import cnn_utils as utils\n",
        "# from model_evaluation_utils import get_metrics\n",
        "\n",
        "# Matplot Imports\n",
        "import matplotlib.pyplot as plt\n",
        "params = {'legend.fontsize': 'x-large',\n",
        "          'figure.figsize': (15, 5),\n",
        "          'axes.labelsize': 'x-large',\n",
        "          'axes.titlesize':'x-large',\n",
        "          'xtick.labelsize':'x-large',\n",
        "          'ytick.labelsize':'x-large'}\n",
        "\n",
        "plt.rcParams.update(params)\n",
        "%matplotlib inline\n",
        "\n",
        "# pandas display data frames as tables\n",
        "from IPython.display import display, HTML\n",
        "\n",
        "import warnings\n",
        "warnings.filterwarnings('ignore')"
      ],
      "execution_count": 23,
      "outputs": []
    },
    {
      "cell_type": "code",
      "metadata": {
        "id": "6mck144_a57W",
        "colab": {
          "base_uri": "https://localhost:8080/",
          "height": 378
        },
        "outputId": "e903b7ab-73a5-4340-d374-cbd22ed6f61d"
      },
      "source": [
        "f, (ax1, ax2) = plt.subplots(1, 2, figsize=(15, 5))\n",
        "t = f.suptitle('Deep Neural Net Performance', fontsize=12)\n",
        "f.subplots_adjust(top=0.85, wspace=0.3)\n",
        "\n",
        "epochs = list(range(1,100+1))\n",
        "ax1.plot(epochs, history.history['accuracy'], label='Train Accuracy')\n",
        "ax1.plot(epochs, history.history['val_accuracy'], label='Validation Accuracy')\n",
        "ax1.set_xticks(epochs)\n",
        "ax1.set_ylabel('Accuracy Value')\n",
        "ax1.set_xlabel('Epoch')\n",
        "ax1.set_title('Accuracy')\n",
        "l1 = ax1.legend(loc=\"best\")\n",
        "\n",
        "ax2.plot(epochs, history.history['loss'], label='Train Loss')\n",
        "ax2.plot(epochs, history.history['val_loss'], label='Validation Loss')\n",
        "ax2.set_xticks(epochs)\n",
        "ax2.set_ylabel('Loss Value')\n",
        "ax2.set_xlabel('Epoch')\n",
        "ax2.set_title('Loss')\n",
        "l2 = ax2.legend(loc=\"best\")"
      ],
      "execution_count": 24,
      "outputs": [
        {
          "output_type": "display_data",
          "data": {
            "image/png": "[encoded data removed]",
            "text/plain": [
              "<Figure size 1080x360 with 2 Axes>"
            ]
          },
          "metadata": {
            "tags": [],
            "needs_background": "light"
          }
        }
      ]
    },
    {
      "cell_type": "code",
      "metadata": {
        "id": "TBszz0IWO22x"
      },
      "source": [
        ""
      ],
      "execution_count": null,
      "outputs": []
    }
  ]
}