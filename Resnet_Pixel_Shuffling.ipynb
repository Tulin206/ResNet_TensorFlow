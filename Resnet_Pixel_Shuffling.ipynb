{
  "nbformat": 4,
  "nbformat_minor": 0,
  "metadata": {
    "colab": {
      "name": "Resnet_Pixel_Shuffling.ipynb",
      "provenance": [],
      "collapsed_sections": []
    },
    "kernelspec": {
      "display_name": "Python 3",
      "language": "python",
      "name": "python3"
    },
    "language_info": {
      "codemirror_mode": {
        "name": "ipython",
        "version": 3
      },
      "file_extension": ".py",
      "mimetype": "text/x-python",
      "name": "python",
      "nbconvert_exporter": "python",
      "pygments_lexer": "ipython3",
      "version": "3.6.10"
    }
  },
  "cells": [
    {
      "cell_type": "code",
      "metadata": {
        "id": "16pXmcb8a57D"
      },
      "source": [
        "import os\n",
        "os.environ['CUDA_VISIBLE_DEVICES'] = '0'\n",
        "import cv2\n",
        "import tensorflow as tf\n",
        "import tensorflow.keras\n",
        "from tensorflow.keras import datasets, layers, models\n",
        "from tensorflow.keras.models import Sequential, load_model, Model\n",
        "from tensorflow.keras.layers import Input, Add, Dense, Activation, ZeroPadding2D, Dropout, Flatten,Conv2D, MaxPooling2D,BatchNormalization,AveragePooling2D\n",
        "from tensorflow.keras.initializers import glorot_uniform\n",
        "from tensorflow.keras.utils import plot_model\n",
        "from IPython.display import SVG\n",
        "# from tensorflow.keras.utils.vis_utils import model_to_dot\n",
        "import tensorflow.keras.backend as K \n",
        "import matplotlib.pyplot as plt\n",
        "import numpy as np"
      ],
      "execution_count": 1,
      "outputs": []
    },
    {
      "cell_type": "code",
      "metadata": {
        "id": "yKJG1xA4a57K",
        "colab": {
          "base_uri": "https://localhost:8080/"
        },
        "outputId": "cadf5ddc-ccd9-45fb-a783-4a7dd0fcfa67"
      },
      "source": [
        "# Load Data\n",
        "\n",
        "(X_train, y_train), (X_test,y_test) = datasets.cifar10.load_data()"
      ],
      "execution_count": 2,
      "outputs": [
        {
          "output_type": "stream",
          "text": [
            "Downloading data from https://www.cs.toronto.edu/~kriz/cifar-10-python.tar.gz\n",
            "170500096/170498071 [==============================] - 2s 0us/step\n"
          ],
          "name": "stdout"
        }
      ]
    },
    {
      "cell_type": "code",
      "metadata": {
        "id": "0LqVxLWXa57K"
      },
      "source": [
        "CLASS_NAMES= ['airplane', 'automobile', 'bird', 'cat', 'deer', 'dog', 'frog', 'horse', 'ship', 'truck']"
      ],
      "execution_count": 3,
      "outputs": []
    },
    {
      "cell_type": "code",
      "metadata": {
        "id": "t9ppAsGeln39"
      },
      "source": [
        "X_train = X_train.astype('float32') / 255.\n",
        "X_test = X_test.astype('float32') / 255."
      ],
      "execution_count": 4,
      "outputs": []
    },
    {
      "cell_type": "code",
      "metadata": {
        "id": "K6HZ2eGHa57L"
      },
      "source": [
        "#Train-validation-test split\n",
        "\n",
        "X_val, y_val = X_train[:5000], y_train[:5000]\n",
        "X_train, y_train = X_train[5000:], y_train[5000:]"
      ],
      "execution_count": 5,
      "outputs": []
    },
    {
      "cell_type": "code",
      "metadata": {
        "id": "Ke5hJ1ada57N"
      },
      "source": [
        "#Onehot Encoding the labels.\n",
        "\n",
        "from sklearn.utils.multiclass import unique_labels\n",
        "from tensorflow.keras.utils import to_categorical"
      ],
      "execution_count": 6,
      "outputs": []
    },
    {
      "cell_type": "code",
      "metadata": {
        "id": "9vp-uzxTa57O"
      },
      "source": [
        "#Since we have 10 classes we should expect the shape[1] of y_train,y_val and y_test to change from 1 to 10\n",
        "\n",
        "y_train=to_categorical(y_train)\n",
        "y_val=to_categorical(y_val)\n",
        "y_test=to_categorical(y_test)"
      ],
      "execution_count": 7,
      "outputs": []
    },
    {
      "cell_type": "code",
      "metadata": {
        "id": "_eDzxxsjln3-"
      },
      "source": [
        "from scipy import misc\n",
        "\n",
        "import numpy as np\n",
        "import matplotlib.pyplot as plt"
      ],
      "execution_count": 8,
      "outputs": []
    },
    {
      "cell_type": "code",
      "metadata": {
        "id": "if_qH21Zln3_"
      },
      "source": [
        "# Create a function for pixel shuffling\n",
        "\n",
        "def shuffle_image_pixel(rgbImg):\n",
        "    rndImg2 = np.reshape(rgbImg, (rgbImg.shape[0] * rgbImg.shape[1], rgbImg.shape[2]))\n",
        "    np.random.shuffle(rndImg2)\n",
        "    rdmImg = np.reshape(rndImg2, rgbImg.shape)\n",
        "\n",
        "    return rdmImg"
      ],
      "execution_count": 9,
      "outputs": []
    },
    {
      "cell_type": "code",
      "metadata": {
        "id": "8pMrwk3uln3_"
      },
      "source": [
        "# randomize pixel for training data\n",
        "for i in range(len(X_train)):\n",
        "    X_train[i] = shuffle_image_pixel(X_train[i])\n",
        "\n",
        "# randomize pixel for training data\n",
        "for i in range(len(X_val)):\n",
        "    X_val[i] = shuffle_image_pixel(X_val[i])\n",
        "\n",
        "# randomize pixel for test data\n",
        "for i in range(len(X_test)):\n",
        "    X_test[i] = shuffle_image_pixel(X_test[i])"
      ],
      "execution_count": 10,
      "outputs": []
    },
    {
      "cell_type": "code",
      "metadata": {
        "id": "uonQodNdln4A"
      },
      "source": [
        "# def add_noise_and_clip_data(data):\n",
        "#    noise = np.random.normal(loc=0.0, scale=0.1, size=data.shape)\n",
        "#    data = data + noise\n",
        "#    data = np.clip(data, 0., 1.)\n",
        "#    return data"
      ],
      "execution_count": null,
      "outputs": []
    },
    {
      "cell_type": "code",
      "metadata": {
        "id": "Tw1Y9Pkpln4A"
      },
      "source": [
        "# X_train_noisy = add_noise_and_clip_data(X_train)\n",
        "# X_test_noisy = add_noise_and_clip_data(X_test)\n",
        "# X_val_noisy = add_noise_and_clip_data(X_val)"
      ],
      "execution_count": null,
      "outputs": []
    },
    {
      "cell_type": "code",
      "metadata": {
        "id": "uqiSnEpkln4B"
      },
      "source": [
        "# idx = 4\n",
        "# plt.subplot(1,2,1)\n",
        "# plt.imshow(X_train[idx])\n",
        "# plt.title('Original image')\n",
        "# plt.subplot(1,2,2)\n",
        "# plt.imshow(X_train_noisy[idx])\n",
        "# plt.title('Image with noise')\n",
        "# plt.show()"
      ],
      "execution_count": null,
      "outputs": []
    },
    {
      "cell_type": "code",
      "metadata": {
        "id": "fafk6pgpa57O"
      },
      "source": [
        "#Image Data Augmentation\n",
        "\n",
        "from tensorflow.keras.preprocessing.image import ImageDataGenerator\n",
        "\n",
        "train_generator = ImageDataGenerator(rotation_range=2, horizontal_flip=True,zoom_range=.1 )\n",
        "\n",
        "val_generator = ImageDataGenerator(rotation_range=2, horizontal_flip=True,zoom_range=.1)\n",
        "\n",
        "test_generator = ImageDataGenerator(rotation_range=2, horizontal_flip= True,zoom_range=.1)"
      ],
      "execution_count": 11,
      "outputs": []
    },
    {
      "cell_type": "code",
      "metadata": {
        "id": "SpDwscdca57O"
      },
      "source": [
        "#Fitting the augmentation defined above to the data\n",
        "\n",
        "train_generator.fit(X_train)\n",
        "val_generator.fit(X_val)\n",
        "# test_ds = test_generator.fit(X_test)"
      ],
      "execution_count": 12,
      "outputs": []
    },
    {
      "cell_type": "code",
      "metadata": {
        "id": "3Sy7AzDwa57S"
      },
      "source": [
        "ROWS = 32\n",
        "COLS = 32\n",
        "CHANNELS = 3\n",
        "CLASSES = 10"
      ],
      "execution_count": 13,
      "outputs": []
    },
    {
      "cell_type": "code",
      "metadata": {
        "id": "1LvmAtETa57S"
      },
      "source": [
        "def identity_block(X, f, filters, stage, block):\n",
        "    # defining name basis\n",
        "    conv_name_base = 'res' + str(stage) + block + '_branch'\n",
        "    bn_name_base = 'bn' + str(stage) + block + '_branch'\n",
        "\n",
        "    # Retrieve Filters\n",
        "    F1, F2, F3 = filters\n",
        "\n",
        "    # Save the input value. We'll need this later to add back to the main path. \n",
        "    X_shortcut = X\n",
        "\n",
        "    # First component of main path\n",
        "    X = Conv2D(filters = F1, kernel_size = (1, 1), strides = (1,1), padding = 'valid', name = conv_name_base + '2a', kernel_initializer = glorot_uniform(seed=0))(X)\n",
        "    X = BatchNormalization(axis = 3, name = bn_name_base + '2a')(X)\n",
        "    X = Activation('relu')(X)\n",
        "\n",
        "    # Second component of main path\n",
        "    X = Conv2D(filters = F2, kernel_size = (f, f), strides = (1,1), padding = 'same', name = conv_name_base + '2b', kernel_initializer = glorot_uniform(seed=0))(X)\n",
        "    X = BatchNormalization(axis = 3, name = bn_name_base + '2b')(X)\n",
        "    X = Activation('relu')(X)\n",
        "\n",
        "    # Third component of main path\n",
        "    X = Conv2D(filters = F3, kernel_size = (1, 1), strides = (1,1), padding = 'valid', name = conv_name_base + '2c', kernel_initializer = glorot_uniform(seed=0))(X)\n",
        "    X = BatchNormalization(axis = 3, name = bn_name_base + '2c')(X)\n",
        "\n",
        "    # Final step: Add shortcut value to main path, and pass it through a RELU activation\n",
        "    X = Add()([X, X_shortcut])\n",
        "    X = Activation('relu')(X)\n",
        "\n",
        "    return X"
      ],
      "execution_count": 14,
      "outputs": []
    },
    {
      "cell_type": "code",
      "metadata": {
        "colab": {
          "base_uri": "https://localhost:8080/"
        },
        "id": "OJOMaIX5a57S",
        "outputId": "1ef327f2-6791-4604-ca0d-b1c335153c1d"
      },
      "source": [
        "from tensorflow.python.framework import ops\n",
        "ops.reset_default_graph()\n",
        "\n",
        "# tf.reset_default_graph()\n",
        "\n",
        "with tf.compat.v1.Session() as test:\n",
        "    A_prev = tf.compat.v1.placeholder(\"float\", [3, 4, 4, 6])\n",
        "    X = np.random.randn(3, 4, 4, 6)\n",
        "    A = identity_block(A_prev, f = 2, filters = [2, 4, 6], stage = 1, block = 'a')\n",
        "    test.run(tf.compat.v1.global_variables_initializer())\n",
        "    out = test.run([A], feed_dict={A_prev: X, K.learning_phase(): 0})\n",
        "    print(\"out = \", out[0][1][1][0])"
      ],
      "execution_count": 15,
      "outputs": [
        {
          "output_type": "stream",
          "text": [
            "out =  [0.5686066 0.        0.        0.2761199 0.        0.       ]\n"
          ],
          "name": "stdout"
        }
      ]
    },
    {
      "cell_type": "code",
      "metadata": {
        "id": "vb8fxH-La57T"
      },
      "source": [
        "def convolutional_block(X, f, filters, stage, block, s = 2):\n",
        "    # defining name basis\n",
        "    conv_name_base = 'res' + str(stage) + block + '_branch'\n",
        "    bn_name_base = 'bn' + str(stage) + block + '_branch'\n",
        "    \n",
        "    # Retrieve Filters\n",
        "    F1, F2, F3 = filters\n",
        "    \n",
        "    # Save the input value\n",
        "    X_shortcut = X\n",
        "\n",
        "\n",
        "    ##### MAIN PATH #####\n",
        "    # First component of main path \n",
        "    X = Conv2D(F1, (1, 1), strides = (s,s), name = conv_name_base + '2a', kernel_initializer = glorot_uniform(seed=0))(X)\n",
        "    X = BatchNormalization(axis = 3, name = bn_name_base + '2a')(X)\n",
        "    X = Activation('relu')(X)\n",
        "\n",
        "    # Second component of main path\n",
        "    X = Conv2D(filters=F2, kernel_size=(f, f), strides=(1, 1), padding='same', name=conv_name_base + '2b', kernel_initializer=glorot_uniform(seed=0))(X)\n",
        "    X = BatchNormalization(axis=3, name=bn_name_base + '2b')(X)\n",
        "    X = Activation('relu')(X)\n",
        "\n",
        "    # Third component of main path\n",
        "    X = Conv2D(filters=F3, kernel_size=(1, 1), strides=(1, 1), padding='valid', name=conv_name_base + '2c', kernel_initializer=glorot_uniform(seed=0))(X)\n",
        "    X = BatchNormalization(axis=3, name=bn_name_base + '2c')(X)\n",
        "\n",
        "    \n",
        "    ##### SHORTCUT PATH ####\n",
        "    X_shortcut = Conv2D(F3, (1, 1), strides = (s,s), name = conv_name_base + '1', kernel_initializer = glorot_uniform(seed=0))(X_shortcut)\n",
        "    X_shortcut = BatchNormalization(axis = 3, name = bn_name_base + '1')(X_shortcut)\n",
        "\n",
        "    # Final step: Add shortcut value to main path, and pass it through a RELU activation\n",
        "    X = Add()([X, X_shortcut])\n",
        "    X = Activation('relu')(X)\n",
        "    \n",
        "    return X"
      ],
      "execution_count": 16,
      "outputs": []
    },
    {
      "cell_type": "code",
      "metadata": {
        "colab": {
          "base_uri": "https://localhost:8080/"
        },
        "id": "ReQb8HeVa57T",
        "outputId": "758695b9-fbde-4a5a-dadd-cf2c1b7cdff1"
      },
      "source": [
        "from tensorflow.python.framework import ops\n",
        "ops.reset_default_graph()\n",
        "\n",
        "# tf.reset_default_graph()\n",
        "\n",
        "with tf.compat.v1.Session() as test:\n",
        "    A_prev = tf.compat.v1.placeholder(\"float\", [3, 4, 4, 6])\n",
        "    X = np.random.randn(3, 4, 4, 6)\n",
        "    A = convolutional_block(A_prev, f = 2, filters = [2, 4, 6], stage = 1, block = 'a')\n",
        "    test.run(tf.compat.v1.global_variables_initializer())\n",
        "    out = test.run([A], feed_dict={A_prev: X, K.learning_phase(): 0})\n",
        "    print(\"out = \",out[0][1][1][0])"
      ],
      "execution_count": 17,
      "outputs": [
        {
          "output_type": "stream",
          "text": [
            "out =  [0.30130216 0.         0.         0.         0.         0.        ]\n"
          ],
          "name": "stdout"
        }
      ]
    },
    {
      "cell_type": "code",
      "metadata": {
        "id": "YoMXGWPia57U"
      },
      "source": [
        "def ResNet50(input_shape = (32, 32, 3), classes = 10):   \n",
        "    global model\n",
        "    # Define the input as a tensor with shape input_shape\n",
        "    X_input = Input(input_shape)\n",
        "\n",
        "    # Zero-Padding\n",
        "    X = ZeroPadding2D((3, 3))(X_input)\n",
        "    \n",
        "    # Stage 1\n",
        "    X = Conv2D(64, (7, 7), strides = (2, 2), name = 'conv1', kernel_initializer = glorot_uniform(seed=0))(X)\n",
        "    X = BatchNormalization(axis = 3, name = 'bn_conv1')(X)\n",
        "    X = Activation('relu')(X)\n",
        "    X = MaxPooling2D((3, 3), strides=(2, 2))(X)\n",
        "\n",
        "    # Stage 2\n",
        "    X = convolutional_block(X, f = 3, filters = [64, 64, 256], stage = 2, block='a', s = 1)\n",
        "    X = identity_block(X, 3, [64, 64, 256], stage=2, block='b')\n",
        "    X = identity_block(X, 3, [64, 64, 256], stage=2, block='c')\n",
        "\n",
        "    # Stage 3\n",
        "    X = convolutional_block(X, f = 3, filters = [128, 128, 512], stage = 3, block='a', s = 2)\n",
        "    X = identity_block(X, 3, [128, 128, 512], stage=3, block='b')\n",
        "    X = identity_block(X, 3, [128, 128, 512], stage=3, block='c')\n",
        "    X = identity_block(X, 3, [128, 128, 512], stage=3, block='d')\n",
        "\n",
        "    # Stage 4\n",
        "    X = convolutional_block(X, f = 3, filters = [256, 256, 1024], stage = 4, block='a', s = 2)\n",
        "    X = identity_block(X, 3, [256, 256, 1024], stage=4, block='b')\n",
        "    X = identity_block(X, 3, [256, 256, 1024], stage=4, block='c')\n",
        "    X = identity_block(X, 3, [256, 256, 1024], stage=4, block='d')\n",
        "    X = identity_block(X, 3, [256, 256, 1024], stage=4, block='e')\n",
        "    X = identity_block(X, 3, [256, 256, 1024], stage=4, block='f')\n",
        "\n",
        "    # Stage 5\n",
        "    # X = convolutional_block(X, f = 3, filters = [512, 512, 2048], stage = 5, block='a', s = 2)\n",
        "    # X = identity_block(X, 3, [512, 512, 2048], stage=5, block='b')\n",
        "    # X = identity_block(X, 3, [512, 512, 2048], stage=5, block='c')\n",
        "\n",
        "    # AVGPOOL.\n",
        "    X = AveragePooling2D((2, 2), name='avg_pool')(X)\n",
        "\n",
        "    # output layer\n",
        "    X = Flatten()(X)\n",
        "    X = Dense(classes, activation='softmax', name='fc' + str(classes), kernel_initializer = glorot_uniform(seed=0))(X)\n",
        "    \n",
        "    # Create model\n",
        "    model = Model(inputs = X_input, outputs = X, name='ResNet50')\n",
        "\n",
        "    model.summary()\n",
        "\n",
        "    return model"
      ],
      "execution_count": 18,
      "outputs": []
    },
    {
      "cell_type": "code",
      "metadata": {
        "colab": {
          "base_uri": "https://localhost:8080/"
        },
        "id": "oyv0JxLUa57U",
        "outputId": "6bdac4aa-b7c5-4ebb-a25a-78301f1b4344"
      },
      "source": [
        "model = ResNet50(input_shape = (32, 32, 3), classes = 10)"
      ],
      "execution_count": 19,
      "outputs": [
        {
          "output_type": "stream",
          "text": [
            "Model: \"ResNet50\"\n",
            "__________________________________________________________________________________________________\n",
            "Layer (type)                    Output Shape         Param #     Connected to                     \n",
            "==================================================================================================\n",
            "input_1 (InputLayer)            [(None, 32, 32, 3)]  0                                            \n",
            "__________________________________________________________________________________________________\n",
            "zero_padding2d (ZeroPadding2D)  (None, 38, 38, 3)    0           input_1[0][0]                    \n",
            "__________________________________________________________________________________________________\n",
            "conv1 (Conv2D)                  (None, 16, 16, 64)   9472        zero_padding2d[0][0]             \n",
            "__________________________________________________________________________________________________\n",
            "bn_conv1 (BatchNormalization)   (None, 16, 16, 64)   256         conv1[0][0]                      \n",
            "__________________________________________________________________________________________________\n",
            "activation_3 (Activation)       (None, 16, 16, 64)   0           bn_conv1[0][0]                   \n",
            "__________________________________________________________________________________________________\n",
            "max_pooling2d (MaxPooling2D)    (None, 7, 7, 64)     0           activation_3[0][0]               \n",
            "__________________________________________________________________________________________________\n",
            "res2a_branch2a (Conv2D)         (None, 7, 7, 64)     4160        max_pooling2d[0][0]              \n",
            "__________________________________________________________________________________________________\n",
            "bn2a_branch2a (BatchNormalizati (None, 7, 7, 64)     256         res2a_branch2a[0][0]             \n",
            "__________________________________________________________________________________________________\n",
            "activation_4 (Activation)       (None, 7, 7, 64)     0           bn2a_branch2a[0][0]              \n",
            "__________________________________________________________________________________________________\n",
            "res2a_branch2b (Conv2D)         (None, 7, 7, 64)     36928       activation_4[0][0]               \n",
            "__________________________________________________________________________________________________\n",
            "bn2a_branch2b (BatchNormalizati (None, 7, 7, 64)     256         res2a_branch2b[0][0]             \n",
            "__________________________________________________________________________________________________\n",
            "activation_5 (Activation)       (None, 7, 7, 64)     0           bn2a_branch2b[0][0]              \n",
            "__________________________________________________________________________________________________\n",
            "res2a_branch2c (Conv2D)         (None, 7, 7, 256)    16640       activation_5[0][0]               \n",
            "__________________________________________________________________________________________________\n",
            "res2a_branch1 (Conv2D)          (None, 7, 7, 256)    16640       max_pooling2d[0][0]              \n",
            "__________________________________________________________________________________________________\n",
            "bn2a_branch2c (BatchNormalizati (None, 7, 7, 256)    1024        res2a_branch2c[0][0]             \n",
            "__________________________________________________________________________________________________\n",
            "bn2a_branch1 (BatchNormalizatio (None, 7, 7, 256)    1024        res2a_branch1[0][0]              \n",
            "__________________________________________________________________________________________________\n",
            "add_1 (Add)                     (None, 7, 7, 256)    0           bn2a_branch2c[0][0]              \n",
            "                                                                 bn2a_branch1[0][0]               \n",
            "__________________________________________________________________________________________________\n",
            "activation_6 (Activation)       (None, 7, 7, 256)    0           add_1[0][0]                      \n",
            "__________________________________________________________________________________________________\n",
            "res2b_branch2a (Conv2D)         (None, 7, 7, 64)     16448       activation_6[0][0]               \n",
            "__________________________________________________________________________________________________\n",
            "bn2b_branch2a (BatchNormalizati (None, 7, 7, 64)     256         res2b_branch2a[0][0]             \n",
            "__________________________________________________________________________________________________\n",
            "activation_7 (Activation)       (None, 7, 7, 64)     0           bn2b_branch2a[0][0]              \n",
            "__________________________________________________________________________________________________\n",
            "res2b_branch2b (Conv2D)         (None, 7, 7, 64)     36928       activation_7[0][0]               \n",
            "__________________________________________________________________________________________________\n",
            "bn2b_branch2b (BatchNormalizati (None, 7, 7, 64)     256         res2b_branch2b[0][0]             \n",
            "__________________________________________________________________________________________________\n",
            "activation_8 (Activation)       (None, 7, 7, 64)     0           bn2b_branch2b[0][0]              \n",
            "__________________________________________________________________________________________________\n",
            "res2b_branch2c (Conv2D)         (None, 7, 7, 256)    16640       activation_8[0][0]               \n",
            "__________________________________________________________________________________________________\n",
            "bn2b_branch2c (BatchNormalizati (None, 7, 7, 256)    1024        res2b_branch2c[0][0]             \n",
            "__________________________________________________________________________________________________\n",
            "add_2 (Add)                     (None, 7, 7, 256)    0           bn2b_branch2c[0][0]              \n",
            "                                                                 activation_6[0][0]               \n",
            "__________________________________________________________________________________________________\n",
            "activation_9 (Activation)       (None, 7, 7, 256)    0           add_2[0][0]                      \n",
            "__________________________________________________________________________________________________\n",
            "res2c_branch2a (Conv2D)         (None, 7, 7, 64)     16448       activation_9[0][0]               \n",
            "__________________________________________________________________________________________________\n",
            "bn2c_branch2a (BatchNormalizati (None, 7, 7, 64)     256         res2c_branch2a[0][0]             \n",
            "__________________________________________________________________________________________________\n",
            "activation_10 (Activation)      (None, 7, 7, 64)     0           bn2c_branch2a[0][0]              \n",
            "__________________________________________________________________________________________________\n",
            "res2c_branch2b (Conv2D)         (None, 7, 7, 64)     36928       activation_10[0][0]              \n",
            "__________________________________________________________________________________________________\n",
            "bn2c_branch2b (BatchNormalizati (None, 7, 7, 64)     256         res2c_branch2b[0][0]             \n",
            "__________________________________________________________________________________________________\n",
            "activation_11 (Activation)      (None, 7, 7, 64)     0           bn2c_branch2b[0][0]              \n",
            "__________________________________________________________________________________________________\n",
            "res2c_branch2c (Conv2D)         (None, 7, 7, 256)    16640       activation_11[0][0]              \n",
            "__________________________________________________________________________________________________\n",
            "bn2c_branch2c (BatchNormalizati (None, 7, 7, 256)    1024        res2c_branch2c[0][0]             \n",
            "__________________________________________________________________________________________________\n",
            "add_3 (Add)                     (None, 7, 7, 256)    0           bn2c_branch2c[0][0]              \n",
            "                                                                 activation_9[0][0]               \n",
            "__________________________________________________________________________________________________\n",
            "activation_12 (Activation)      (None, 7, 7, 256)    0           add_3[0][0]                      \n",
            "__________________________________________________________________________________________________\n",
            "res3a_branch2a (Conv2D)         (None, 4, 4, 128)    32896       activation_12[0][0]              \n",
            "__________________________________________________________________________________________________\n",
            "bn3a_branch2a (BatchNormalizati (None, 4, 4, 128)    512         res3a_branch2a[0][0]             \n",
            "__________________________________________________________________________________________________\n",
            "activation_13 (Activation)      (None, 4, 4, 128)    0           bn3a_branch2a[0][0]              \n",
            "__________________________________________________________________________________________________\n",
            "res3a_branch2b (Conv2D)         (None, 4, 4, 128)    147584      activation_13[0][0]              \n",
            "__________________________________________________________________________________________________\n",
            "bn3a_branch2b (BatchNormalizati (None, 4, 4, 128)    512         res3a_branch2b[0][0]             \n",
            "__________________________________________________________________________________________________\n",
            "activation_14 (Activation)      (None, 4, 4, 128)    0           bn3a_branch2b[0][0]              \n",
            "__________________________________________________________________________________________________\n",
            "res3a_branch2c (Conv2D)         (None, 4, 4, 512)    66048       activation_14[0][0]              \n",
            "__________________________________________________________________________________________________\n",
            "res3a_branch1 (Conv2D)          (None, 4, 4, 512)    131584      activation_12[0][0]              \n",
            "__________________________________________________________________________________________________\n",
            "bn3a_branch2c (BatchNormalizati (None, 4, 4, 512)    2048        res3a_branch2c[0][0]             \n",
            "__________________________________________________________________________________________________\n",
            "bn3a_branch1 (BatchNormalizatio (None, 4, 4, 512)    2048        res3a_branch1[0][0]              \n",
            "__________________________________________________________________________________________________\n",
            "add_4 (Add)                     (None, 4, 4, 512)    0           bn3a_branch2c[0][0]              \n",
            "                                                                 bn3a_branch1[0][0]               \n",
            "__________________________________________________________________________________________________\n",
            "activation_15 (Activation)      (None, 4, 4, 512)    0           add_4[0][0]                      \n",
            "__________________________________________________________________________________________________\n",
            "res3b_branch2a (Conv2D)         (None, 4, 4, 128)    65664       activation_15[0][0]              \n",
            "__________________________________________________________________________________________________\n",
            "bn3b_branch2a (BatchNormalizati (None, 4, 4, 128)    512         res3b_branch2a[0][0]             \n",
            "__________________________________________________________________________________________________\n",
            "activation_16 (Activation)      (None, 4, 4, 128)    0           bn3b_branch2a[0][0]              \n",
            "__________________________________________________________________________________________________\n",
            "res3b_branch2b (Conv2D)         (None, 4, 4, 128)    147584      activation_16[0][0]              \n",
            "__________________________________________________________________________________________________\n",
            "bn3b_branch2b (BatchNormalizati (None, 4, 4, 128)    512         res3b_branch2b[0][0]             \n",
            "__________________________________________________________________________________________________\n",
            "activation_17 (Activation)      (None, 4, 4, 128)    0           bn3b_branch2b[0][0]              \n",
            "__________________________________________________________________________________________________\n",
            "res3b_branch2c (Conv2D)         (None, 4, 4, 512)    66048       activation_17[0][0]              \n",
            "__________________________________________________________________________________________________\n",
            "bn3b_branch2c (BatchNormalizati (None, 4, 4, 512)    2048        res3b_branch2c[0][0]             \n",
            "__________________________________________________________________________________________________\n",
            "add_5 (Add)                     (None, 4, 4, 512)    0           bn3b_branch2c[0][0]              \n",
            "                                                                 activation_15[0][0]              \n",
            "__________________________________________________________________________________________________\n",
            "activation_18 (Activation)      (None, 4, 4, 512)    0           add_5[0][0]                      \n",
            "__________________________________________________________________________________________________\n",
            "res3c_branch2a (Conv2D)         (None, 4, 4, 128)    65664       activation_18[0][0]              \n",
            "__________________________________________________________________________________________________\n",
            "bn3c_branch2a (BatchNormalizati (None, 4, 4, 128)    512         res3c_branch2a[0][0]             \n",
            "__________________________________________________________________________________________________\n",
            "activation_19 (Activation)      (None, 4, 4, 128)    0           bn3c_branch2a[0][0]              \n",
            "__________________________________________________________________________________________________\n",
            "res3c_branch2b (Conv2D)         (None, 4, 4, 128)    147584      activation_19[0][0]              \n",
            "__________________________________________________________________________________________________\n",
            "bn3c_branch2b (BatchNormalizati (None, 4, 4, 128)    512         res3c_branch2b[0][0]             \n",
            "__________________________________________________________________________________________________\n",
            "activation_20 (Activation)      (None, 4, 4, 128)    0           bn3c_branch2b[0][0]              \n",
            "__________________________________________________________________________________________________\n",
            "res3c_branch2c (Conv2D)         (None, 4, 4, 512)    66048       activation_20[0][0]              \n",
            "__________________________________________________________________________________________________\n",
            "bn3c_branch2c (BatchNormalizati (None, 4, 4, 512)    2048        res3c_branch2c[0][0]             \n",
            "__________________________________________________________________________________________________\n",
            "add_6 (Add)                     (None, 4, 4, 512)    0           bn3c_branch2c[0][0]              \n",
            "                                                                 activation_18[0][0]              \n",
            "__________________________________________________________________________________________________\n",
            "activation_21 (Activation)      (None, 4, 4, 512)    0           add_6[0][0]                      \n",
            "__________________________________________________________________________________________________\n",
            "res3d_branch2a (Conv2D)         (None, 4, 4, 128)    65664       activation_21[0][0]              \n",
            "__________________________________________________________________________________________________\n",
            "bn3d_branch2a (BatchNormalizati (None, 4, 4, 128)    512         res3d_branch2a[0][0]             \n",
            "__________________________________________________________________________________________________\n",
            "activation_22 (Activation)      (None, 4, 4, 128)    0           bn3d_branch2a[0][0]              \n",
            "__________________________________________________________________________________________________\n",
            "res3d_branch2b (Conv2D)         (None, 4, 4, 128)    147584      activation_22[0][0]              \n",
            "__________________________________________________________________________________________________\n",
            "bn3d_branch2b (BatchNormalizati (None, 4, 4, 128)    512         res3d_branch2b[0][0]             \n",
            "__________________________________________________________________________________________________\n",
            "activation_23 (Activation)      (None, 4, 4, 128)    0           bn3d_branch2b[0][0]              \n",
            "__________________________________________________________________________________________________\n",
            "res3d_branch2c (Conv2D)         (None, 4, 4, 512)    66048       activation_23[0][0]              \n",
            "__________________________________________________________________________________________________\n",
            "bn3d_branch2c (BatchNormalizati (None, 4, 4, 512)    2048        res3d_branch2c[0][0]             \n",
            "__________________________________________________________________________________________________\n",
            "add_7 (Add)                     (None, 4, 4, 512)    0           bn3d_branch2c[0][0]              \n",
            "                                                                 activation_21[0][0]              \n",
            "__________________________________________________________________________________________________\n",
            "activation_24 (Activation)      (None, 4, 4, 512)    0           add_7[0][0]                      \n",
            "__________________________________________________________________________________________________\n",
            "res4a_branch2a (Conv2D)         (None, 2, 2, 256)    131328      activation_24[0][0]              \n",
            "__________________________________________________________________________________________________\n",
            "bn4a_branch2a (BatchNormalizati (None, 2, 2, 256)    1024        res4a_branch2a[0][0]             \n",
            "__________________________________________________________________________________________________\n",
            "activation_25 (Activation)      (None, 2, 2, 256)    0           bn4a_branch2a[0][0]              \n",
            "__________________________________________________________________________________________________\n",
            "res4a_branch2b (Conv2D)         (None, 2, 2, 256)    590080      activation_25[0][0]              \n",
            "__________________________________________________________________________________________________\n",
            "bn4a_branch2b (BatchNormalizati (None, 2, 2, 256)    1024        res4a_branch2b[0][0]             \n",
            "__________________________________________________________________________________________________\n",
            "activation_26 (Activation)      (None, 2, 2, 256)    0           bn4a_branch2b[0][0]              \n",
            "__________________________________________________________________________________________________\n",
            "res4a_branch2c (Conv2D)         (None, 2, 2, 1024)   263168      activation_26[0][0]              \n",
            "__________________________________________________________________________________________________\n",
            "res4a_branch1 (Conv2D)          (None, 2, 2, 1024)   525312      activation_24[0][0]              \n",
            "__________________________________________________________________________________________________\n",
            "bn4a_branch2c (BatchNormalizati (None, 2, 2, 1024)   4096        res4a_branch2c[0][0]             \n",
            "__________________________________________________________________________________________________\n",
            "bn4a_branch1 (BatchNormalizatio (None, 2, 2, 1024)   4096        res4a_branch1[0][0]              \n",
            "__________________________________________________________________________________________________\n",
            "add_8 (Add)                     (None, 2, 2, 1024)   0           bn4a_branch2c[0][0]              \n",
            "                                                                 bn4a_branch1[0][0]               \n",
            "__________________________________________________________________________________________________\n",
            "activation_27 (Activation)      (None, 2, 2, 1024)   0           add_8[0][0]                      \n",
            "__________________________________________________________________________________________________\n",
            "res4b_branch2a (Conv2D)         (None, 2, 2, 256)    262400      activation_27[0][0]              \n",
            "__________________________________________________________________________________________________\n",
            "bn4b_branch2a (BatchNormalizati (None, 2, 2, 256)    1024        res4b_branch2a[0][0]             \n",
            "__________________________________________________________________________________________________\n",
            "activation_28 (Activation)      (None, 2, 2, 256)    0           bn4b_branch2a[0][0]              \n",
            "__________________________________________________________________________________________________\n",
            "res4b_branch2b (Conv2D)         (None, 2, 2, 256)    590080      activation_28[0][0]              \n",
            "__________________________________________________________________________________________________\n",
            "bn4b_branch2b (BatchNormalizati (None, 2, 2, 256)    1024        res4b_branch2b[0][0]             \n",
            "__________________________________________________________________________________________________\n",
            "activation_29 (Activation)      (None, 2, 2, 256)    0           bn4b_branch2b[0][0]              \n",
            "__________________________________________________________________________________________________\n",
            "res4b_branch2c (Conv2D)         (None, 2, 2, 1024)   263168      activation_29[0][0]              \n",
            "__________________________________________________________________________________________________\n",
            "bn4b_branch2c (BatchNormalizati (None, 2, 2, 1024)   4096        res4b_branch2c[0][0]             \n",
            "__________________________________________________________________________________________________\n",
            "add_9 (Add)                     (None, 2, 2, 1024)   0           bn4b_branch2c[0][0]              \n",
            "                                                                 activation_27[0][0]              \n",
            "__________________________________________________________________________________________________\n",
            "activation_30 (Activation)      (None, 2, 2, 1024)   0           add_9[0][0]                      \n",
            "__________________________________________________________________________________________________\n",
            "res4c_branch2a (Conv2D)         (None, 2, 2, 256)    262400      activation_30[0][0]              \n",
            "__________________________________________________________________________________________________\n",
            "bn4c_branch2a (BatchNormalizati (None, 2, 2, 256)    1024        res4c_branch2a[0][0]             \n",
            "__________________________________________________________________________________________________\n",
            "activation_31 (Activation)      (None, 2, 2, 256)    0           bn4c_branch2a[0][0]              \n",
            "__________________________________________________________________________________________________\n",
            "res4c_branch2b (Conv2D)         (None, 2, 2, 256)    590080      activation_31[0][0]              \n",
            "__________________________________________________________________________________________________\n",
            "bn4c_branch2b (BatchNormalizati (None, 2, 2, 256)    1024        res4c_branch2b[0][0]             \n",
            "__________________________________________________________________________________________________\n",
            "activation_32 (Activation)      (None, 2, 2, 256)    0           bn4c_branch2b[0][0]              \n",
            "__________________________________________________________________________________________________\n",
            "res4c_branch2c (Conv2D)         (None, 2, 2, 1024)   263168      activation_32[0][0]              \n",
            "__________________________________________________________________________________________________\n",
            "bn4c_branch2c (BatchNormalizati (None, 2, 2, 1024)   4096        res4c_branch2c[0][0]             \n",
            "__________________________________________________________________________________________________\n",
            "add_10 (Add)                    (None, 2, 2, 1024)   0           bn4c_branch2c[0][0]              \n",
            "                                                                 activation_30[0][0]              \n",
            "__________________________________________________________________________________________________\n",
            "activation_33 (Activation)      (None, 2, 2, 1024)   0           add_10[0][0]                     \n",
            "__________________________________________________________________________________________________\n",
            "res4d_branch2a (Conv2D)         (None, 2, 2, 256)    262400      activation_33[0][0]              \n",
            "__________________________________________________________________________________________________\n",
            "bn4d_branch2a (BatchNormalizati (None, 2, 2, 256)    1024        res4d_branch2a[0][0]             \n",
            "__________________________________________________________________________________________________\n",
            "activation_34 (Activation)      (None, 2, 2, 256)    0           bn4d_branch2a[0][0]              \n",
            "__________________________________________________________________________________________________\n",
            "res4d_branch2b (Conv2D)         (None, 2, 2, 256)    590080      activation_34[0][0]              \n",
            "__________________________________________________________________________________________________\n",
            "bn4d_branch2b (BatchNormalizati (None, 2, 2, 256)    1024        res4d_branch2b[0][0]             \n",
            "__________________________________________________________________________________________________\n",
            "activation_35 (Activation)      (None, 2, 2, 256)    0           bn4d_branch2b[0][0]              \n",
            "__________________________________________________________________________________________________\n",
            "res4d_branch2c (Conv2D)         (None, 2, 2, 1024)   263168      activation_35[0][0]              \n",
            "__________________________________________________________________________________________________\n",
            "bn4d_branch2c (BatchNormalizati (None, 2, 2, 1024)   4096        res4d_branch2c[0][0]             \n",
            "__________________________________________________________________________________________________\n",
            "add_11 (Add)                    (None, 2, 2, 1024)   0           bn4d_branch2c[0][0]              \n",
            "                                                                 activation_33[0][0]              \n",
            "__________________________________________________________________________________________________\n",
            "activation_36 (Activation)      (None, 2, 2, 1024)   0           add_11[0][0]                     \n",
            "__________________________________________________________________________________________________\n",
            "res4e_branch2a (Conv2D)         (None, 2, 2, 256)    262400      activation_36[0][0]              \n",
            "__________________________________________________________________________________________________\n",
            "bn4e_branch2a (BatchNormalizati (None, 2, 2, 256)    1024        res4e_branch2a[0][0]             \n",
            "__________________________________________________________________________________________________\n",
            "activation_37 (Activation)      (None, 2, 2, 256)    0           bn4e_branch2a[0][0]              \n",
            "__________________________________________________________________________________________________\n",
            "res4e_branch2b (Conv2D)         (None, 2, 2, 256)    590080      activation_37[0][0]              \n",
            "__________________________________________________________________________________________________\n",
            "bn4e_branch2b (BatchNormalizati (None, 2, 2, 256)    1024        res4e_branch2b[0][0]             \n",
            "__________________________________________________________________________________________________\n",
            "activation_38 (Activation)      (None, 2, 2, 256)    0           bn4e_branch2b[0][0]              \n",
            "__________________________________________________________________________________________________\n",
            "res4e_branch2c (Conv2D)         (None, 2, 2, 1024)   263168      activation_38[0][0]              \n",
            "__________________________________________________________________________________________________\n",
            "bn4e_branch2c (BatchNormalizati (None, 2, 2, 1024)   4096        res4e_branch2c[0][0]             \n",
            "__________________________________________________________________________________________________\n",
            "add_12 (Add)                    (None, 2, 2, 1024)   0           bn4e_branch2c[0][0]              \n",
            "                                                                 activation_36[0][0]              \n",
            "__________________________________________________________________________________________________\n",
            "activation_39 (Activation)      (None, 2, 2, 1024)   0           add_12[0][0]                     \n",
            "__________________________________________________________________________________________________\n",
            "res4f_branch2a (Conv2D)         (None, 2, 2, 256)    262400      activation_39[0][0]              \n",
            "__________________________________________________________________________________________________\n",
            "bn4f_branch2a (BatchNormalizati (None, 2, 2, 256)    1024        res4f_branch2a[0][0]             \n",
            "__________________________________________________________________________________________________\n",
            "activation_40 (Activation)      (None, 2, 2, 256)    0           bn4f_branch2a[0][0]              \n",
            "__________________________________________________________________________________________________\n",
            "res4f_branch2b (Conv2D)         (None, 2, 2, 256)    590080      activation_40[0][0]              \n",
            "__________________________________________________________________________________________________\n",
            "bn4f_branch2b (BatchNormalizati (None, 2, 2, 256)    1024        res4f_branch2b[0][0]             \n",
            "__________________________________________________________________________________________________\n",
            "activation_41 (Activation)      (None, 2, 2, 256)    0           bn4f_branch2b[0][0]              \n",
            "__________________________________________________________________________________________________\n",
            "res4f_branch2c (Conv2D)         (None, 2, 2, 1024)   263168      activation_41[0][0]              \n",
            "__________________________________________________________________________________________________\n",
            "bn4f_branch2c (BatchNormalizati (None, 2, 2, 1024)   4096        res4f_branch2c[0][0]             \n",
            "__________________________________________________________________________________________________\n",
            "add_13 (Add)                    (None, 2, 2, 1024)   0           bn4f_branch2c[0][0]              \n",
            "                                                                 activation_39[0][0]              \n",
            "__________________________________________________________________________________________________\n",
            "activation_42 (Activation)      (None, 2, 2, 1024)   0           add_13[0][0]                     \n",
            "__________________________________________________________________________________________________\n",
            "avg_pool (AveragePooling2D)     (None, 1, 1, 1024)   0           activation_42[0][0]              \n",
            "__________________________________________________________________________________________________\n",
            "flatten (Flatten)               (None, 1024)         0           avg_pool[0][0]                   \n",
            "__________________________________________________________________________________________________\n",
            "fc10 (Dense)                    (None, 10)           10250       flatten[0][0]                    \n",
            "==================================================================================================\n",
            "Total params: 8,599,434\n",
            "Trainable params: 8,568,842\n",
            "Non-trainable params: 30,592\n",
            "__________________________________________________________________________________________________\n"
          ],
          "name": "stdout"
        }
      ]
    },
    {
      "cell_type": "code",
      "metadata": {
        "id": "J650haCoa57V"
      },
      "source": [
        "model.compile(optimizer='adam', loss='categorical_crossentropy', metrics=['accuracy'])"
      ],
      "execution_count": 20,
      "outputs": []
    },
    {
      "cell_type": "code",
      "metadata": {
        "id": "g8pI4Fpl8nZ0"
      },
      "source": [
        "# history = model.fit(train_generator.flow(X_train, y_train, batch_size=32), \n",
        "#                     epochs = 100,\n",
        "#                     batch_size = 64,)"
      ],
      "execution_count": 21,
      "outputs": []
    },
    {
      "cell_type": "code",
      "metadata": {
        "id": "aNXPO4rja57V",
        "colab": {
          "base_uri": "https://localhost:8080/"
        },
        "outputId": "e9d2cd0a-8d9c-4547-a4c3-1880fa6131e8"
      },
      "source": [
        "history = model.fit(train_generator.flow(X_train, y_train, batch_size=32), \n",
        "                    epochs = 100,\n",
        "                    batch_size = 64,\n",
        "                    validation_data = val_generator.flow(X_val, y_val, batch_size=32))"
      ],
      "execution_count": 23,
      "outputs": [
        {
          "output_type": "stream",
          "text": [
            "Epoch 1/100\n",
            "1407/1407 [==============================] - 56s 36ms/step - loss: 2.7893 - accuracy: 0.1970 - val_loss: 2.2416 - val_accuracy: 0.1816\n",
            "Epoch 2/100\n",
            "1407/1407 [==============================] - 49s 35ms/step - loss: 2.1453 - accuracy: 0.2376 - val_loss: 107.6818 - val_accuracy: 0.1706\n",
            "Epoch 3/100\n",
            "1407/1407 [==============================] - 49s 35ms/step - loss: 2.1898 - accuracy: 0.2419 - val_loss: 1.9941 - val_accuracy: 0.2464\n",
            "Epoch 4/100\n",
            "1407/1407 [==============================] - 50s 35ms/step - loss: 2.1126 - accuracy: 0.2490 - val_loss: 2.2448 - val_accuracy: 0.2670\n",
            "Epoch 5/100\n",
            "1407/1407 [==============================] - 50s 35ms/step - loss: 2.0831 - accuracy: 0.2646 - val_loss: 2.2140 - val_accuracy: 0.2646\n",
            "Epoch 6/100\n",
            "1407/1407 [==============================] - 50s 35ms/step - loss: 2.1689 - accuracy: 0.2374 - val_loss: 2.1263 - val_accuracy: 0.2326\n",
            "Epoch 7/100\n",
            "1407/1407 [==============================] - 50s 36ms/step - loss: 2.0213 - accuracy: 0.2629 - val_loss: 2.1731 - val_accuracy: 0.2210\n",
            "Epoch 8/100\n",
            "1407/1407 [==============================] - 49s 35ms/step - loss: 1.9718 - accuracy: 0.2707 - val_loss: 2.2170 - val_accuracy: 0.2504\n",
            "Epoch 9/100\n",
            "1407/1407 [==============================] - 49s 35ms/step - loss: 1.9400 - accuracy: 0.2776 - val_loss: 2.0504 - val_accuracy: 0.2560\n",
            "Epoch 10/100\n",
            "1407/1407 [==============================] - 49s 35ms/step - loss: 1.9144 - accuracy: 0.2886 - val_loss: 2.2431 - val_accuracy: 0.2848\n",
            "Epoch 11/100\n",
            "1407/1407 [==============================] - 49s 35ms/step - loss: 1.9133 - accuracy: 0.2902 - val_loss: 2.9915 - val_accuracy: 0.2792\n",
            "Epoch 12/100\n",
            "1407/1407 [==============================] - 49s 35ms/step - loss: 1.9114 - accuracy: 0.2860 - val_loss: 2.1914 - val_accuracy: 0.2730\n",
            "Epoch 13/100\n",
            "1407/1407 [==============================] - 49s 35ms/step - loss: 1.9149 - accuracy: 0.2886 - val_loss: 1.9006 - val_accuracy: 0.2868\n",
            "Epoch 14/100\n",
            "1407/1407 [==============================] - 49s 35ms/step - loss: 1.9093 - accuracy: 0.2858 - val_loss: 1.9231 - val_accuracy: 0.2844\n",
            "Epoch 15/100\n",
            "1407/1407 [==============================] - 49s 34ms/step - loss: 1.9005 - accuracy: 0.2950 - val_loss: 1.9395 - val_accuracy: 0.2780\n",
            "Epoch 16/100\n",
            "1407/1407 [==============================] - 48s 34ms/step - loss: 1.8929 - accuracy: 0.2938 - val_loss: 2.2113 - val_accuracy: 0.2390\n",
            "Epoch 17/100\n",
            "1407/1407 [==============================] - 48s 34ms/step - loss: 1.8860 - accuracy: 0.3009 - val_loss: 2.0332 - val_accuracy: 0.2608\n",
            "Epoch 18/100\n",
            "1407/1407 [==============================] - 48s 34ms/step - loss: 1.8943 - accuracy: 0.2966 - val_loss: 6.3916 - val_accuracy: 0.2794\n",
            "Epoch 19/100\n",
            "1407/1407 [==============================] - 49s 35ms/step - loss: 1.8867 - accuracy: 0.2958 - val_loss: 2.4215 - val_accuracy: 0.2968\n",
            "Epoch 20/100\n",
            "1407/1407 [==============================] - 49s 35ms/step - loss: 1.8753 - accuracy: 0.3047 - val_loss: 2.9715 - val_accuracy: 0.1868\n",
            "Epoch 21/100\n",
            "1407/1407 [==============================] - 50s 35ms/step - loss: 1.8816 - accuracy: 0.3023 - val_loss: 2.0246 - val_accuracy: 0.2824\n",
            "Epoch 22/100\n",
            "1407/1407 [==============================] - 50s 36ms/step - loss: 1.9031 - accuracy: 0.2888 - val_loss: 4.1807 - val_accuracy: 0.2518\n",
            "Epoch 23/100\n",
            "1407/1407 [==============================] - 49s 35ms/step - loss: 1.8698 - accuracy: 0.3040 - val_loss: 16.5872 - val_accuracy: 0.2504\n",
            "Epoch 24/100\n",
            "1407/1407 [==============================] - 50s 35ms/step - loss: 1.8665 - accuracy: 0.3063 - val_loss: 3.1271 - val_accuracy: 0.3034\n",
            "Epoch 25/100\n",
            "1407/1407 [==============================] - 50s 35ms/step - loss: 1.8633 - accuracy: 0.3091 - val_loss: 9.6314 - val_accuracy: 0.2896\n",
            "Epoch 26/100\n",
            "1407/1407 [==============================] - 50s 35ms/step - loss: 1.8547 - accuracy: 0.3085 - val_loss: 2.5954 - val_accuracy: 0.3020\n",
            "Epoch 27/100\n",
            "1407/1407 [==============================] - 50s 35ms/step - loss: 1.8485 - accuracy: 0.3119 - val_loss: 3.5813 - val_accuracy: 0.3020\n",
            "Epoch 28/100\n",
            "1407/1407 [==============================] - 49s 35ms/step - loss: 1.8432 - accuracy: 0.3137 - val_loss: 5.3989 - val_accuracy: 0.2702\n",
            "Epoch 29/100\n",
            "1407/1407 [==============================] - 50s 36ms/step - loss: 1.8410 - accuracy: 0.3203 - val_loss: 2.2134 - val_accuracy: 0.2906\n",
            "Epoch 30/100\n",
            "1407/1407 [==============================] - 49s 35ms/step - loss: 1.8335 - accuracy: 0.3218 - val_loss: 4.8738 - val_accuracy: 0.2908\n",
            "Epoch 31/100\n",
            "1407/1407 [==============================] - 49s 35ms/step - loss: 1.8434 - accuracy: 0.3181 - val_loss: 5.5155 - val_accuracy: 0.2876\n",
            "Epoch 32/100\n",
            "1407/1407 [==============================] - 49s 35ms/step - loss: 1.8374 - accuracy: 0.3157 - val_loss: 2.9000 - val_accuracy: 0.2900\n",
            "Epoch 33/100\n",
            "1407/1407 [==============================] - 49s 35ms/step - loss: 1.8348 - accuracy: 0.3245 - val_loss: 3.3626 - val_accuracy: 0.1900\n",
            "Epoch 34/100\n",
            "1407/1407 [==============================] - 49s 35ms/step - loss: 1.8317 - accuracy: 0.3251 - val_loss: 4.3091 - val_accuracy: 0.2958\n",
            "Epoch 35/100\n",
            "1407/1407 [==============================] - 49s 35ms/step - loss: 1.8380 - accuracy: 0.3197 - val_loss: 6.5200 - val_accuracy: 0.2666\n",
            "Epoch 36/100\n",
            "1407/1407 [==============================] - 49s 35ms/step - loss: 1.8139 - accuracy: 0.3268 - val_loss: 3.8632 - val_accuracy: 0.1342\n",
            "Epoch 37/100\n",
            "1407/1407 [==============================] - 49s 35ms/step - loss: 1.8295 - accuracy: 0.3285 - val_loss: 4.8120 - val_accuracy: 0.2816\n",
            "Epoch 38/100\n",
            "1407/1407 [==============================] - 49s 35ms/step - loss: 1.8107 - accuracy: 0.3355 - val_loss: 9.2705 - val_accuracy: 0.2786\n",
            "Epoch 39/100\n",
            "1407/1407 [==============================] - 51s 36ms/step - loss: 1.8058 - accuracy: 0.3287 - val_loss: 10.2738 - val_accuracy: 0.2878\n",
            "Epoch 40/100\n",
            "1407/1407 [==============================] - 51s 36ms/step - loss: 1.8439 - accuracy: 0.3164 - val_loss: 84.1005 - val_accuracy: 0.1872\n",
            "Epoch 41/100\n",
            "1407/1407 [==============================] - 50s 35ms/step - loss: 1.8170 - accuracy: 0.3279 - val_loss: 8.3648 - val_accuracy: 0.2960\n",
            "Epoch 42/100\n",
            "1407/1407 [==============================] - 49s 35ms/step - loss: 1.8101 - accuracy: 0.3328 - val_loss: 20.6269 - val_accuracy: 0.2076\n",
            "Epoch 43/100\n",
            "1407/1407 [==============================] - 50s 35ms/step - loss: 1.8225 - accuracy: 0.3289 - val_loss: 1.9121 - val_accuracy: 0.3024\n",
            "Epoch 44/100\n",
            "1407/1407 [==============================] - 50s 36ms/step - loss: 1.8231 - accuracy: 0.3289 - val_loss: 2.9547 - val_accuracy: 0.2826\n",
            "Epoch 45/100\n",
            "1407/1407 [==============================] - 50s 36ms/step - loss: 1.8084 - accuracy: 0.3319 - val_loss: 2.3770 - val_accuracy: 0.2108\n",
            "Epoch 46/100\n",
            "1407/1407 [==============================] - 50s 36ms/step - loss: 1.8242 - accuracy: 0.3256 - val_loss: 4.0203 - val_accuracy: 0.3022\n",
            "Epoch 47/100\n",
            "1407/1407 [==============================] - 50s 36ms/step - loss: 1.8274 - accuracy: 0.3253 - val_loss: 3.0947 - val_accuracy: 0.2820\n",
            "Epoch 48/100\n",
            "1407/1407 [==============================] - 49s 35ms/step - loss: 1.7993 - accuracy: 0.3329 - val_loss: 2.2774 - val_accuracy: 0.3226\n",
            "Epoch 49/100\n",
            "1407/1407 [==============================] - 49s 35ms/step - loss: 1.7910 - accuracy: 0.3393 - val_loss: 2.0355 - val_accuracy: 0.2870\n",
            "Epoch 50/100\n",
            "1407/1407 [==============================] - 49s 35ms/step - loss: 1.7884 - accuracy: 0.3389 - val_loss: 1.9011 - val_accuracy: 0.3326\n",
            "Epoch 51/100\n",
            "1407/1407 [==============================] - 49s 35ms/step - loss: 1.7845 - accuracy: 0.3445 - val_loss: 2.0105 - val_accuracy: 0.3252\n",
            "Epoch 52/100\n",
            "1407/1407 [==============================] - 49s 35ms/step - loss: 1.7806 - accuracy: 0.3460 - val_loss: 2.0640 - val_accuracy: 0.2884\n",
            "Epoch 53/100\n",
            "1407/1407 [==============================] - 49s 35ms/step - loss: 1.7743 - accuracy: 0.3475 - val_loss: 1.8954 - val_accuracy: 0.3104\n",
            "Epoch 54/100\n",
            "1407/1407 [==============================] - 49s 35ms/step - loss: 1.7663 - accuracy: 0.3519 - val_loss: 1.8997 - val_accuracy: 0.3130\n",
            "Epoch 55/100\n",
            "1407/1407 [==============================] - 49s 35ms/step - loss: 1.7694 - accuracy: 0.3510 - val_loss: 1.9345 - val_accuracy: 0.3278\n",
            "Epoch 56/100\n",
            "1407/1407 [==============================] - 49s 35ms/step - loss: 1.7555 - accuracy: 0.3560 - val_loss: 1.8872 - val_accuracy: 0.3246\n",
            "Epoch 57/100\n",
            "1407/1407 [==============================] - 49s 35ms/step - loss: 1.7590 - accuracy: 0.3601 - val_loss: 1.9791 - val_accuracy: 0.2738\n",
            "Epoch 58/100\n",
            "1407/1407 [==============================] - 49s 35ms/step - loss: 1.7524 - accuracy: 0.3569 - val_loss: 2.0551 - val_accuracy: 0.2706\n",
            "Epoch 59/100\n",
            "1407/1407 [==============================] - 49s 35ms/step - loss: 1.7418 - accuracy: 0.3622 - val_loss: 1.8387 - val_accuracy: 0.3284\n",
            "Epoch 60/100\n",
            "1407/1407 [==============================] - 48s 34ms/step - loss: 1.7413 - accuracy: 0.3585 - val_loss: 2.3083 - val_accuracy: 0.3352\n",
            "Epoch 61/100\n",
            "1407/1407 [==============================] - 49s 35ms/step - loss: 1.7328 - accuracy: 0.3654 - val_loss: 1.9097 - val_accuracy: 0.3138\n",
            "Epoch 62/100\n",
            "1407/1407 [==============================] - 49s 35ms/step - loss: 1.7385 - accuracy: 0.3667 - val_loss: 2.0088 - val_accuracy: 0.2954\n",
            "Epoch 63/100\n",
            "1407/1407 [==============================] - 49s 35ms/step - loss: 1.7267 - accuracy: 0.3673 - val_loss: 6.0517 - val_accuracy: 0.2660\n",
            "Epoch 64/100\n",
            "1407/1407 [==============================] - 49s 34ms/step - loss: 1.7239 - accuracy: 0.3706 - val_loss: 2.1091 - val_accuracy: 0.2690\n",
            "Epoch 65/100\n",
            "1407/1407 [==============================] - 49s 35ms/step - loss: 1.7140 - accuracy: 0.3713 - val_loss: 1.8417 - val_accuracy: 0.3416\n",
            "Epoch 66/100\n",
            "1407/1407 [==============================] - 49s 35ms/step - loss: 1.7127 - accuracy: 0.3762 - val_loss: 1.8810 - val_accuracy: 0.3240\n",
            "Epoch 67/100\n",
            "1407/1407 [==============================] - 49s 35ms/step - loss: 1.7072 - accuracy: 0.3777 - val_loss: 1.9310 - val_accuracy: 0.3138\n",
            "Epoch 68/100\n",
            "1407/1407 [==============================] - 50s 35ms/step - loss: 1.7085 - accuracy: 0.3742 - val_loss: 2.0287 - val_accuracy: 0.2780\n",
            "Epoch 69/100\n",
            "1407/1407 [==============================] - 49s 35ms/step - loss: 1.6995 - accuracy: 0.3843 - val_loss: 2.0987 - val_accuracy: 0.2906\n",
            "Epoch 70/100\n",
            "1407/1407 [==============================] - 49s 35ms/step - loss: 1.6943 - accuracy: 0.3848 - val_loss: 2.3216 - val_accuracy: 0.2400\n",
            "Epoch 71/100\n",
            "1407/1407 [==============================] - 49s 35ms/step - loss: 1.6886 - accuracy: 0.3812 - val_loss: 97.9603 - val_accuracy: 0.1558\n",
            "Epoch 72/100\n",
            "1407/1407 [==============================] - 49s 35ms/step - loss: 1.6959 - accuracy: 0.3821 - val_loss: 2.0059 - val_accuracy: 0.2954\n",
            "Epoch 73/100\n",
            "1407/1407 [==============================] - 49s 35ms/step - loss: 1.6940 - accuracy: 0.3832 - val_loss: 2.4934 - val_accuracy: 0.2768\n",
            "Epoch 74/100\n",
            "1407/1407 [==============================] - 49s 35ms/step - loss: 1.6883 - accuracy: 0.3846 - val_loss: 5.3289 - val_accuracy: 0.3280\n",
            "Epoch 75/100\n",
            "1407/1407 [==============================] - 50s 36ms/step - loss: 1.6769 - accuracy: 0.3854 - val_loss: 1.9126 - val_accuracy: 0.3182\n",
            "Epoch 76/100\n",
            "1407/1407 [==============================] - 52s 37ms/step - loss: 1.6675 - accuracy: 0.3918 - val_loss: 12.4174 - val_accuracy: 0.3482\n",
            "Epoch 77/100\n",
            "1407/1407 [==============================] - 50s 36ms/step - loss: 1.6706 - accuracy: 0.3923 - val_loss: 2.6958 - val_accuracy: 0.3232\n",
            "Epoch 78/100\n",
            "1407/1407 [==============================] - 49s 35ms/step - loss: 1.6721 - accuracy: 0.3894 - val_loss: 2.2086 - val_accuracy: 0.2830\n",
            "Epoch 79/100\n",
            "1407/1407 [==============================] - 49s 35ms/step - loss: 1.6590 - accuracy: 0.3920 - val_loss: 1.9689 - val_accuracy: 0.3400\n",
            "Epoch 80/100\n",
            "1407/1407 [==============================] - 49s 35ms/step - loss: 1.6494 - accuracy: 0.3940 - val_loss: 14.5329 - val_accuracy: 0.3134\n",
            "Epoch 81/100\n",
            "1407/1407 [==============================] - 49s 35ms/step - loss: 1.6506 - accuracy: 0.4014 - val_loss: 45.6907 - val_accuracy: 0.3342\n",
            "Epoch 82/100\n",
            "1407/1407 [==============================] - 50s 35ms/step - loss: 1.6470 - accuracy: 0.4007 - val_loss: 35.1807 - val_accuracy: 0.3332\n",
            "Epoch 83/100\n",
            "1407/1407 [==============================] - 49s 35ms/step - loss: 1.6385 - accuracy: 0.4013 - val_loss: 30.8711 - val_accuracy: 0.3096\n",
            "Epoch 84/100\n",
            "1407/1407 [==============================] - 49s 35ms/step - loss: 1.6323 - accuracy: 0.4068 - val_loss: 3.0312 - val_accuracy: 0.3398\n",
            "Epoch 85/100\n",
            "1407/1407 [==============================] - 49s 35ms/step - loss: 1.6256 - accuracy: 0.4080 - val_loss: 28.9195 - val_accuracy: 0.3264\n",
            "Epoch 86/100\n",
            "1407/1407 [==============================] - 49s 35ms/step - loss: 1.6668 - accuracy: 0.3884 - val_loss: 14.3071 - val_accuracy: 0.2700\n",
            "Epoch 87/100\n",
            "1407/1407 [==============================] - 50s 35ms/step - loss: 1.6156 - accuracy: 0.4068 - val_loss: 39.5642 - val_accuracy: 0.3176\n",
            "Epoch 88/100\n",
            "1407/1407 [==============================] - 50s 35ms/step - loss: 1.6113 - accuracy: 0.4091 - val_loss: 4.6860 - val_accuracy: 0.3250\n",
            "Epoch 89/100\n",
            "1407/1407 [==============================] - 50s 36ms/step - loss: 1.6054 - accuracy: 0.4117 - val_loss: 9.0777 - val_accuracy: 0.3076\n",
            "Epoch 90/100\n",
            "1407/1407 [==============================] - 50s 36ms/step - loss: 1.5950 - accuracy: 0.4152 - val_loss: 3.2280 - val_accuracy: 0.2844\n",
            "Epoch 91/100\n",
            "1407/1407 [==============================] - 50s 36ms/step - loss: 1.6125 - accuracy: 0.4123 - val_loss: 3.1829 - val_accuracy: 0.3154\n",
            "Epoch 92/100\n",
            "1407/1407 [==============================] - 49s 35ms/step - loss: 1.6068 - accuracy: 0.4108 - val_loss: 2.6358 - val_accuracy: 0.3334\n",
            "Epoch 93/100\n",
            "1407/1407 [==============================] - 49s 35ms/step - loss: 1.5909 - accuracy: 0.4184 - val_loss: 2.1631 - val_accuracy: 0.2884\n",
            "Epoch 94/100\n",
            "1407/1407 [==============================] - 50s 35ms/step - loss: 1.5890 - accuracy: 0.4225 - val_loss: 3.8754 - val_accuracy: 0.3456\n",
            "Epoch 95/100\n",
            "1407/1407 [==============================] - 49s 35ms/step - loss: 1.5770 - accuracy: 0.4218 - val_loss: 3.9050 - val_accuracy: 0.3474\n",
            "Epoch 96/100\n",
            "1407/1407 [==============================] - 49s 35ms/step - loss: 1.5763 - accuracy: 0.4233 - val_loss: 7.4661 - val_accuracy: 0.3292\n",
            "Epoch 97/100\n",
            "1407/1407 [==============================] - 49s 35ms/step - loss: 1.5728 - accuracy: 0.4248 - val_loss: 1.9540 - val_accuracy: 0.3034\n",
            "Epoch 98/100\n",
            "1407/1407 [==============================] - 49s 35ms/step - loss: 1.6300 - accuracy: 0.4034 - val_loss: 13.4979 - val_accuracy: 0.3420\n",
            "Epoch 99/100\n",
            "1407/1407 [==============================] - 50s 36ms/step - loss: 1.5917 - accuracy: 0.4157 - val_loss: 6.2169 - val_accuracy: 0.3374\n",
            "Epoch 100/100\n",
            "1407/1407 [==============================] - 49s 35ms/step - loss: 1.5533 - accuracy: 0.4347 - val_loss: 2.0941 - val_accuracy: 0.3108\n"
          ],
          "name": "stdout"
        }
      ]
    },
    {
      "cell_type": "code",
      "metadata": {
        "colab": {
          "base_uri": "https://localhost:8080/"
        },
        "id": "R0bTeqyaa57W",
        "outputId": "90060aed-ebef-4244-dc75-860b65c8ba3b"
      },
      "source": [
        "preds = model.evaluate(X_test, y_test)\n",
        "print (\"Loss = \" + str(preds[0]))\n",
        "print (\"Test Accuracy = \" + str(preds[1]))"
      ],
      "execution_count": 24,
      "outputs": [
        {
          "output_type": "stream",
          "text": [
            "313/313 [==============================] - 4s 10ms/step - loss: 3.1325 - accuracy: 0.2869\n",
            "Loss = 3.1325104236602783\n",
            "Test Accuracy = 0.28690001368522644\n"
          ],
          "name": "stdout"
        }
      ]
    },
    {
      "cell_type": "code",
      "metadata": {
        "id": "7EJKrOpJa57W"
      },
      "source": [
        "# Pandas and Numpy for data structures and util fucntions\n",
        "import scipy as sp\n",
        "import numpy as np\n",
        "import pandas as pd\n",
        "from numpy.random import rand\n",
        "pd.options.display.max_colwidth = 600\n",
        "\n",
        "# Scikit Imports\n",
        "from sklearn import preprocessing\n",
        "from sklearn.metrics import roc_curve, auc, precision_recall_curve\n",
        "from sklearn.model_selection import train_test_split\n",
        "\n",
        "# import cnn_utils as utils\n",
        "# from model_evaluation_utils import get_metrics\n",
        "\n",
        "# Matplot Imports\n",
        "import matplotlib.pyplot as plt\n",
        "params = {'legend.fontsize': 'x-large',\n",
        "          'figure.figsize': (15, 5),\n",
        "          'axes.labelsize': 'x-large',\n",
        "          'axes.titlesize':'x-large',\n",
        "          'xtick.labelsize':'x-large',\n",
        "          'ytick.labelsize':'x-large'}\n",
        "\n",
        "plt.rcParams.update(params)\n",
        "%matplotlib inline\n",
        "\n",
        "# pandas display data frames as tables\n",
        "from IPython.display import display, HTML\n",
        "\n",
        "import warnings\n",
        "warnings.filterwarnings('ignore')"
      ],
      "execution_count": 25,
      "outputs": []
    },
    {
      "cell_type": "code",
      "metadata": {
        "colab": {
          "base_uri": "https://localhost:8080/",
          "height": 378
        },
        "id": "6mck144_a57W",
        "outputId": "4710dd79-22f1-4d16-8bab-f5a0c0bd9c0e"
      },
      "source": [
        "f, (ax1, ax2) = plt.subplots(1, 2, figsize=(15, 5))\n",
        "t = f.suptitle('Deep Neural Net Performance', fontsize=12)\n",
        "f.subplots_adjust(top=0.85, wspace=0.3)\n",
        "\n",
        "epochs = list(range(1,100+1))\n",
        "ax1.plot(epochs, history.history['accuracy'], label='Train Accuracy')\n",
        "ax1.plot(epochs, history.history['val_accuracy'], label='Validation Accuracy')\n",
        "ax1.set_xticks(epochs)\n",
        "ax1.set_ylabel('Accuracy Value')\n",
        "ax1.set_xlabel('Epoch')\n",
        "ax1.set_title('Accuracy')\n",
        "l1 = ax1.legend(loc=\"best\")\n",
        "\n",
        "ax2.plot(epochs, history.history['loss'], label='Train Loss')\n",
        "ax2.plot(epochs, history.history['val_loss'], label='Validation Loss')\n",
        "ax2.set_xticks(epochs)\n",
        "ax2.set_ylabel('Loss Value')\n",
        "ax2.set_xlabel('Epoch')\n",
        "ax2.set_title('Loss')\n",
        "l2 = ax2.legend(loc=\"best\")"
      ],
      "execution_count": 26,
      "outputs": [
        {
          "output_type": "display_data",
          "data": {
            "image/png": "[encoded data removed]",
            "text/plain": [
              "<Figure size 1080x360 with 2 Axes>"
            ]
          },
          "metadata": {
            "tags": [],
            "needs_background": "light"
          }
        }
      ]
    },
    {
      "cell_type": "code",
      "metadata": {
        "id": "TBszz0IWO22x"
      },
      "source": [
        ""
      ],
      "execution_count": null,
      "outputs": []
    }
  ]
}