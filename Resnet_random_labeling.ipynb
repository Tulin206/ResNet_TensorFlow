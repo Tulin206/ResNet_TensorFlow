{
  "nbformat": 4,
  "nbformat_minor": 0,
  "metadata": {
    "kernelspec": {
      "display_name": "Python 3",
      "language": "python",
      "name": "python3"
    },
    "language_info": {
      "codemirror_mode": {
        "name": "ipython",
        "version": 3
      },
      "file_extension": ".py",
      "mimetype": "text/x-python",
      "name": "python",
      "nbconvert_exporter": "python",
      "pygments_lexer": "ipython3",
      "version": "3.7.6"
    },
    "colab": {
      "name": "Resnet_Random_Labeling.ipynb",
      "provenance": [],
      "collapsed_sections": []
    },
    "accelerator": "GPU"
  },
  "cells": [
    {
      "cell_type": "code",
      "metadata": {
        "id": "16pXmcb8a57D"
      },
      "source": [
        "import os\n",
        "os.environ['CUDA_VISIBLE_DEVICES'] = '0'\n",
        "import cv2\n",
        "import tensorflow as tf\n",
        "import tensorflow.keras\n",
        "from tensorflow.keras import datasets, layers, models\n",
        "from tensorflow.keras.models import Sequential, load_model, Model\n",
        "from tensorflow.keras.layers import Input, Add, Dense, Activation, ZeroPadding2D, Dropout, Flatten,Conv2D, MaxPooling2D,BatchNormalization,AveragePooling2D\n",
        "from tensorflow.keras.initializers import glorot_uniform\n",
        "from tensorflow.keras.utils import plot_model\n",
        "from IPython.display import SVG\n",
        "# from tensorflow.keras.utils.vis_utils import model_to_dot\n",
        "import tensorflow.keras.backend as K \n",
        "import matplotlib.pyplot as plt\n",
        "import numpy as np"
      ],
      "execution_count": 1,
      "outputs": []
    },
    {
      "cell_type": "code",
      "metadata": {
        "colab": {
          "base_uri": "https://localhost:8080/"
        },
        "id": "yKJG1xA4a57K",
        "outputId": "9d5d25b1-dad4-49a5-c659-fce22e92270e"
      },
      "source": [
        "# Load Data\n",
        "\n",
        "(X_train, y_train), (X_test,y_test) = datasets.cifar10.load_data()"
      ],
      "execution_count": 2,
      "outputs": [
        {
          "output_type": "stream",
          "text": [
            "Downloading data from https://www.cs.toronto.edu/~kriz/cifar-10-python.tar.gz\n",
            "170500096/170498071 [==============================] - 3s 0us/step\n"
          ],
          "name": "stdout"
        }
      ]
    },
    {
      "cell_type": "code",
      "metadata": {
        "id": "0LqVxLWXa57K"
      },
      "source": [
        "CLASS_NAMES= ['airplane', 'automobile', 'bird', 'cat', 'deer', 'dog', 'frog', 'horse', 'ship', 'truck']"
      ],
      "execution_count": 3,
      "outputs": []
    },
    {
      "cell_type": "code",
      "metadata": {
        "id": "K6HZ2eGHa57L"
      },
      "source": [
        "#Train-validation-test split\n",
        "\n",
        "X_val, y_val = X_train[:5000], y_train[:5000]\n",
        "X_train, y_train = X_train[5000:], y_train[5000:]"
      ],
      "execution_count": 4,
      "outputs": []
    },
    {
      "cell_type": "code",
      "metadata": {
        "id": "Ke5hJ1ada57N"
      },
      "source": [
        "#Onehot Encoding the labels.\n",
        "\n",
        "from sklearn.utils.multiclass import unique_labels\n",
        "from tensorflow.keras.utils import to_categorical"
      ],
      "execution_count": 5,
      "outputs": []
    },
    {
      "cell_type": "code",
      "metadata": {
        "id": "9vp-uzxTa57O"
      },
      "source": [
        "#Since we have 10 classes we should expect the shape[1] of y_train,y_val and y_test to change from 1 to 10\n",
        "\n",
        "y_train=to_categorical(y_train)\n",
        "y_val=to_categorical(y_val)\n",
        "y_test=to_categorical(y_test)"
      ],
      "execution_count": 6,
      "outputs": []
    },
    {
      "cell_type": "code",
      "metadata": {
        "id": "aKdfkasG8WvH"
      },
      "source": [
        "from sklearn.utils import shuffle\n",
        "\n",
        "x_shuffled, y_shuffled = shuffle(X_train, y_train, random_state=0)\n",
        "x_val_shuffled, y_val_shuffled = shuffle(X_val, y_val, random_state=0)"
      ],
      "execution_count": 7,
      "outputs": []
    },
    {
      "cell_type": "code",
      "metadata": {
        "colab": {
          "base_uri": "https://localhost:8080/",
          "height": 549
        },
        "id": "XTNtiGl48cpR",
        "outputId": "f56f3346-f00e-40a8-e50d-ef2f1236cbc2"
      },
      "source": [
        "import matplotlib.pyplot as plt\n",
        "\n",
        "print(y_shuffled[0])\n",
        "plt.imshow(x_shuffled[0])\n",
        "plt.show()\n",
        "\n",
        "print(y_train[0])\n",
        "plt.imshow(X_train[0])\n",
        "plt.show()"
      ],
      "execution_count": 8,
      "outputs": [
        {
          "output_type": "stream",
          "text": [
            "[0. 0. 0. 0. 0. 0. 0. 1. 0. 0.]\n"
          ],
          "name": "stdout"
        },
        {
          "output_type": "display_data",
          "data": {
            "image/png": "[encoded data removed]",
            "text/plain": [
              "<Figure size 432x288 with 1 Axes>"
            ]
          },
          "metadata": {
            "tags": [],
            "needs_background": "light"
          }
        },
        {
          "output_type": "stream",
          "text": [
            "[0. 0. 0. 0. 0. 0. 1. 0. 0. 0.]\n"
          ],
          "name": "stdout"
        },
        {
          "output_type": "display_data",
          "data": {
            "image/png": "[encoded data removed]",
            "text/plain": [
              "<Figure size 432x288 with 1 Axes>"
            ]
          },
          "metadata": {
            "tags": [],
            "needs_background": "light"
          }
        }
      ]
    },
    {
      "cell_type": "code",
      "metadata": {
        "id": "Wlxi_Auv8hFe"
      },
      "source": [
        "# Concatenate train original and randomized images\n",
        "X_train = np.concatenate((X_train,X_train))\n",
        "y_train = np.concatenate((y_train,y_shuffled))\n",
        "X_val = np.concatenate((X_val,X_val))\n",
        "y_val = np.concatenate((y_val,y_val_shuffled))"
      ],
      "execution_count": 9,
      "outputs": []
    },
    {
      "cell_type": "code",
      "metadata": {
        "id": "fafk6pgpa57O"
      },
      "source": [
        "#Image Data Augmentation\n",
        "\n",
        "from tensorflow.keras.preprocessing.image import ImageDataGenerator\n",
        "\n",
        "train_generator = ImageDataGenerator(rotation_range=2, horizontal_flip=True,zoom_range=.1 )\n",
        "\n",
        "val_generator = ImageDataGenerator(rotation_range=2, horizontal_flip=True,zoom_range=.1)\n",
        "\n",
        "test_generator = ImageDataGenerator(rotation_range=2, horizontal_flip= True,zoom_range=.1)"
      ],
      "execution_count": 10,
      "outputs": []
    },
    {
      "cell_type": "code",
      "metadata": {
        "id": "SpDwscdca57O"
      },
      "source": [
        "#Fitting the augmentation defined above to the data\n",
        "\n",
        "train_generator.fit(X_train)\n",
        "val_generator.fit(X_val)\n",
        "# test_ds = test_generator.fit(X_test)"
      ],
      "execution_count": 11,
      "outputs": []
    },
    {
      "cell_type": "code",
      "metadata": {
        "id": "3Sy7AzDwa57S"
      },
      "source": [
        "ROWS = 32\n",
        "COLS = 32\n",
        "CHANNELS = 3\n",
        "CLASSES = 10"
      ],
      "execution_count": 12,
      "outputs": []
    },
    {
      "cell_type": "code",
      "metadata": {
        "id": "1LvmAtETa57S"
      },
      "source": [
        "def identity_block(X, f, filters, stage, block):\n",
        "    # defining name basis\n",
        "    conv_name_base = 'res' + str(stage) + block + '_branch'\n",
        "    bn_name_base = 'bn' + str(stage) + block + '_branch'\n",
        "\n",
        "    # Retrieve Filters\n",
        "    F1, F2, F3 = filters\n",
        "\n",
        "    # Save the input value. We'll need this later to add back to the main path. \n",
        "    X_shortcut = X\n",
        "\n",
        "    # First component of main path\n",
        "    X = Conv2D(filters = F1, kernel_size = (1, 1), strides = (1,1), padding = 'valid', name = conv_name_base + '2a', kernel_initializer = glorot_uniform(seed=0))(X)\n",
        "    X = BatchNormalization(axis = 3, name = bn_name_base + '2a')(X)\n",
        "    X = Activation('relu')(X)\n",
        "\n",
        "    # Second component of main path\n",
        "    X = Conv2D(filters = F2, kernel_size = (f, f), strides = (1,1), padding = 'same', name = conv_name_base + '2b', kernel_initializer = glorot_uniform(seed=0))(X)\n",
        "    X = BatchNormalization(axis = 3, name = bn_name_base + '2b')(X)\n",
        "    X = Activation('relu')(X)\n",
        "\n",
        "    # Third component of main path\n",
        "    X = Conv2D(filters = F3, kernel_size = (1, 1), strides = (1,1), padding = 'valid', name = conv_name_base + '2c', kernel_initializer = glorot_uniform(seed=0))(X)\n",
        "    X = BatchNormalization(axis = 3, name = bn_name_base + '2c')(X)\n",
        "\n",
        "    # Final step: Add shortcut value to main path, and pass it through a RELU activation\n",
        "    X = Add()([X, X_shortcut])\n",
        "    X = Activation('relu')(X)\n",
        "\n",
        "    return X"
      ],
      "execution_count": 13,
      "outputs": []
    },
    {
      "cell_type": "code",
      "metadata": {
        "colab": {
          "base_uri": "https://localhost:8080/"
        },
        "id": "OJOMaIX5a57S",
        "outputId": "998a4e5f-d79c-487f-83ec-4a6dbd161486"
      },
      "source": [
        "from tensorflow.python.framework import ops\n",
        "ops.reset_default_graph()\n",
        "\n",
        "# tf.reset_default_graph()\n",
        "\n",
        "with tf.compat.v1.Session() as test:\n",
        "    A_prev = tf.compat.v1.placeholder(\"float\", [3, 4, 4, 6])\n",
        "    X = np.random.randn(3, 4, 4, 6)\n",
        "    A = identity_block(A_prev, f = 2, filters = [2, 4, 6], stage = 1, block = 'a')\n",
        "    test.run(tf.compat.v1.global_variables_initializer())\n",
        "    out = test.run([A], feed_dict={A_prev: X, K.learning_phase(): 0})\n",
        "    print(\"out = \", out[0][1][1][0])"
      ],
      "execution_count": 14,
      "outputs": [
        {
          "output_type": "stream",
          "text": [
            "out =  [0.         0.         0.         0.6665683  0.         0.28127688]\n"
          ],
          "name": "stdout"
        }
      ]
    },
    {
      "cell_type": "code",
      "metadata": {
        "id": "vb8fxH-La57T"
      },
      "source": [
        "def convolutional_block(X, f, filters, stage, block, s = 2):\n",
        "    # defining name basis\n",
        "    conv_name_base = 'res' + str(stage) + block + '_branch'\n",
        "    bn_name_base = 'bn' + str(stage) + block + '_branch'\n",
        "    \n",
        "    # Retrieve Filters\n",
        "    F1, F2, F3 = filters\n",
        "    \n",
        "    # Save the input value\n",
        "    X_shortcut = X\n",
        "\n",
        "\n",
        "    ##### MAIN PATH #####\n",
        "    # First component of main path \n",
        "    X = Conv2D(F1, (1, 1), strides = (s,s), name = conv_name_base + '2a', kernel_initializer = glorot_uniform(seed=0))(X)\n",
        "    X = BatchNormalization(axis = 3, name = bn_name_base + '2a')(X)\n",
        "    X = Activation('relu')(X)\n",
        "\n",
        "    # Second component of main path\n",
        "    X = Conv2D(filters=F2, kernel_size=(f, f), strides=(1, 1), padding='same', name=conv_name_base + '2b', kernel_initializer=glorot_uniform(seed=0))(X)\n",
        "    X = BatchNormalization(axis=3, name=bn_name_base + '2b')(X)\n",
        "    X = Activation('relu')(X)\n",
        "\n",
        "    # Third component of main path\n",
        "    X = Conv2D(filters=F3, kernel_size=(1, 1), strides=(1, 1), padding='valid', name=conv_name_base + '2c', kernel_initializer=glorot_uniform(seed=0))(X)\n",
        "    X = BatchNormalization(axis=3, name=bn_name_base + '2c')(X)\n",
        "\n",
        "    \n",
        "    ##### SHORTCUT PATH ####\n",
        "    X_shortcut = Conv2D(F3, (1, 1), strides = (s,s), name = conv_name_base + '1', kernel_initializer = glorot_uniform(seed=0))(X_shortcut)\n",
        "    X_shortcut = BatchNormalization(axis = 3, name = bn_name_base + '1')(X_shortcut)\n",
        "\n",
        "    # Final step: Add shortcut value to main path, and pass it through a RELU activation\n",
        "    X = Add()([X, X_shortcut])\n",
        "    X = Activation('relu')(X)\n",
        "    \n",
        "    return X"
      ],
      "execution_count": 15,
      "outputs": []
    },
    {
      "cell_type": "code",
      "metadata": {
        "id": "ReQb8HeVa57T",
        "colab": {
          "base_uri": "https://localhost:8080/"
        },
        "outputId": "1b7794a8-9b30-4872-8df4-1f7e6c31f679"
      },
      "source": [
        "from tensorflow.python.framework import ops\n",
        "ops.reset_default_graph()\n",
        "\n",
        "# tf.reset_default_graph()\n",
        "\n",
        "with tf.compat.v1.Session() as test:\n",
        "    A_prev = tf.compat.v1.placeholder(\"float\", [3, 4, 4, 6])\n",
        "    X = np.random.randn(3, 4, 4, 6)\n",
        "    A = convolutional_block(A_prev, f = 2, filters = [2, 4, 6], stage = 1, block = 'a')\n",
        "    test.run(tf.compat.v1.global_variables_initializer())\n",
        "    out = test.run([A], feed_dict={A_prev: X, K.learning_phase(): 0})\n",
        "    print(\"out = \",out[0][1][1][0])"
      ],
      "execution_count": 16,
      "outputs": [
        {
          "output_type": "stream",
          "text": [
            "out =  [1.9804077 0.        2.4106224 0.        0.        0.       ]\n"
          ],
          "name": "stdout"
        }
      ]
    },
    {
      "cell_type": "code",
      "metadata": {
        "id": "YoMXGWPia57U"
      },
      "source": [
        "def ResNet50(input_shape = (32, 32, 3), classes = 10):   \n",
        "    global model\n",
        "    # Define the input as a tensor with shape input_shape\n",
        "    X_input = Input(input_shape)\n",
        "\n",
        "    # Zero-Padding\n",
        "    X = ZeroPadding2D((3, 3))(X_input)\n",
        "    \n",
        "    # Stage 1\n",
        "    X = Conv2D(64, (7, 7), strides = (2, 2), name = 'conv1', kernel_initializer = glorot_uniform(seed=0))(X)\n",
        "    X = BatchNormalization(axis = 3, name = 'bn_conv1')(X)\n",
        "    X = Activation('relu')(X)\n",
        "    X = MaxPooling2D((3, 3), strides=(2, 2))(X)\n",
        "\n",
        "    # Stage 2\n",
        "    X = convolutional_block(X, f = 3, filters = [64, 64, 256], stage = 2, block='a', s = 1)\n",
        "    X = identity_block(X, 3, [64, 64, 256], stage=2, block='b')\n",
        "    X = identity_block(X, 3, [64, 64, 256], stage=2, block='c')\n",
        "\n",
        "    # Stage 3\n",
        "    X = convolutional_block(X, f = 3, filters = [128, 128, 512], stage = 3, block='a', s = 2)\n",
        "    X = identity_block(X, 3, [128, 128, 512], stage=3, block='b')\n",
        "    X = identity_block(X, 3, [128, 128, 512], stage=3, block='c')\n",
        "    X = identity_block(X, 3, [128, 128, 512], stage=3, block='d')\n",
        "\n",
        "    # Stage 4\n",
        "    X = convolutional_block(X, f = 3, filters = [256, 256, 1024], stage = 4, block='a', s = 2)\n",
        "    X = identity_block(X, 3, [256, 256, 1024], stage=4, block='b')\n",
        "    X = identity_block(X, 3, [256, 256, 1024], stage=4, block='c')\n",
        "    X = identity_block(X, 3, [256, 256, 1024], stage=4, block='d')\n",
        "    X = identity_block(X, 3, [256, 256, 1024], stage=4, block='e')\n",
        "    X = identity_block(X, 3, [256, 256, 1024], stage=4, block='f')\n",
        "\n",
        "    # Stage 5\n",
        "    # X = convolutional_block(X, f = 3, filters = [512, 512, 2048], stage = 5, block='a', s = 2)\n",
        "    # X = identity_block(X, 3, [512, 512, 2048], stage=5, block='b')\n",
        "    # X = identity_block(X, 3, [512, 512, 2048], stage=5, block='c')\n",
        "\n",
        "    # AVGPOOL.\n",
        "    X = AveragePooling2D((2, 2), name='avg_pool')(X)\n",
        "\n",
        "    # output layer\n",
        "    X = Flatten()(X)\n",
        "    X = Dense(classes, activation='softmax', name='fc' + str(classes), kernel_initializer = glorot_uniform(seed=0))(X)\n",
        "    \n",
        "    # Create model\n",
        "    model = Model(inputs = X_input, outputs = X, name='ResNet50')\n",
        "\n",
        "    model.summary()\n",
        "\n",
        "    return model"
      ],
      "execution_count": 17,
      "outputs": []
    },
    {
      "cell_type": "code",
      "metadata": {
        "colab": {
          "base_uri": "https://localhost:8080/"
        },
        "id": "oyv0JxLUa57U",
        "outputId": "455b9ae0-4795-48fe-863c-f197cbf7a570"
      },
      "source": [
        "model = ResNet50(input_shape = (32, 32, 3), classes = 10)"
      ],
      "execution_count": 18,
      "outputs": [
        {
          "output_type": "stream",
          "text": [
            "Model: \"ResNet50\"\n",
            "__________________________________________________________________________________________________\n",
            "Layer (type)                    Output Shape         Param #     Connected to                     \n",
            "==================================================================================================\n",
            "input_1 (InputLayer)            [(None, 32, 32, 3)]  0                                            \n",
            "__________________________________________________________________________________________________\n",
            "zero_padding2d (ZeroPadding2D)  (None, 38, 38, 3)    0           input_1[0][0]                    \n",
            "__________________________________________________________________________________________________\n",
            "conv1 (Conv2D)                  (None, 16, 16, 64)   9472        zero_padding2d[0][0]             \n",
            "__________________________________________________________________________________________________\n",
            "bn_conv1 (BatchNormalization)   (None, 16, 16, 64)   256         conv1[0][0]                      \n",
            "__________________________________________________________________________________________________\n",
            "activation_3 (Activation)       (None, 16, 16, 64)   0           bn_conv1[0][0]                   \n",
            "__________________________________________________________________________________________________\n",
            "max_pooling2d (MaxPooling2D)    (None, 7, 7, 64)     0           activation_3[0][0]               \n",
            "__________________________________________________________________________________________________\n",
            "res2a_branch2a (Conv2D)         (None, 7, 7, 64)     4160        max_pooling2d[0][0]              \n",
            "__________________________________________________________________________________________________\n",
            "bn2a_branch2a (BatchNormalizati (None, 7, 7, 64)     256         res2a_branch2a[0][0]             \n",
            "__________________________________________________________________________________________________\n",
            "activation_4 (Activation)       (None, 7, 7, 64)     0           bn2a_branch2a[0][0]              \n",
            "__________________________________________________________________________________________________\n",
            "res2a_branch2b (Conv2D)         (None, 7, 7, 64)     36928       activation_4[0][0]               \n",
            "__________________________________________________________________________________________________\n",
            "bn2a_branch2b (BatchNormalizati (None, 7, 7, 64)     256         res2a_branch2b[0][0]             \n",
            "__________________________________________________________________________________________________\n",
            "activation_5 (Activation)       (None, 7, 7, 64)     0           bn2a_branch2b[0][0]              \n",
            "__________________________________________________________________________________________________\n",
            "res2a_branch2c (Conv2D)         (None, 7, 7, 256)    16640       activation_5[0][0]               \n",
            "__________________________________________________________________________________________________\n",
            "res2a_branch1 (Conv2D)          (None, 7, 7, 256)    16640       max_pooling2d[0][0]              \n",
            "__________________________________________________________________________________________________\n",
            "bn2a_branch2c (BatchNormalizati (None, 7, 7, 256)    1024        res2a_branch2c[0][0]             \n",
            "__________________________________________________________________________________________________\n",
            "bn2a_branch1 (BatchNormalizatio (None, 7, 7, 256)    1024        res2a_branch1[0][0]              \n",
            "__________________________________________________________________________________________________\n",
            "add_1 (Add)                     (None, 7, 7, 256)    0           bn2a_branch2c[0][0]              \n",
            "                                                                 bn2a_branch1[0][0]               \n",
            "__________________________________________________________________________________________________\n",
            "activation_6 (Activation)       (None, 7, 7, 256)    0           add_1[0][0]                      \n",
            "__________________________________________________________________________________________________\n",
            "res2b_branch2a (Conv2D)         (None, 7, 7, 64)     16448       activation_6[0][0]               \n",
            "__________________________________________________________________________________________________\n",
            "bn2b_branch2a (BatchNormalizati (None, 7, 7, 64)     256         res2b_branch2a[0][0]             \n",
            "__________________________________________________________________________________________________\n",
            "activation_7 (Activation)       (None, 7, 7, 64)     0           bn2b_branch2a[0][0]              \n",
            "__________________________________________________________________________________________________\n",
            "res2b_branch2b (Conv2D)         (None, 7, 7, 64)     36928       activation_7[0][0]               \n",
            "__________________________________________________________________________________________________\n",
            "bn2b_branch2b (BatchNormalizati (None, 7, 7, 64)     256         res2b_branch2b[0][0]             \n",
            "__________________________________________________________________________________________________\n",
            "activation_8 (Activation)       (None, 7, 7, 64)     0           bn2b_branch2b[0][0]              \n",
            "__________________________________________________________________________________________________\n",
            "res2b_branch2c (Conv2D)         (None, 7, 7, 256)    16640       activation_8[0][0]               \n",
            "__________________________________________________________________________________________________\n",
            "bn2b_branch2c (BatchNormalizati (None, 7, 7, 256)    1024        res2b_branch2c[0][0]             \n",
            "__________________________________________________________________________________________________\n",
            "add_2 (Add)                     (None, 7, 7, 256)    0           bn2b_branch2c[0][0]              \n",
            "                                                                 activation_6[0][0]               \n",
            "__________________________________________________________________________________________________\n",
            "activation_9 (Activation)       (None, 7, 7, 256)    0           add_2[0][0]                      \n",
            "__________________________________________________________________________________________________\n",
            "res2c_branch2a (Conv2D)         (None, 7, 7, 64)     16448       activation_9[0][0]               \n",
            "__________________________________________________________________________________________________\n",
            "bn2c_branch2a (BatchNormalizati (None, 7, 7, 64)     256         res2c_branch2a[0][0]             \n",
            "__________________________________________________________________________________________________\n",
            "activation_10 (Activation)      (None, 7, 7, 64)     0           bn2c_branch2a[0][0]              \n",
            "__________________________________________________________________________________________________\n",
            "res2c_branch2b (Conv2D)         (None, 7, 7, 64)     36928       activation_10[0][0]              \n",
            "__________________________________________________________________________________________________\n",
            "bn2c_branch2b (BatchNormalizati (None, 7, 7, 64)     256         res2c_branch2b[0][0]             \n",
            "__________________________________________________________________________________________________\n",
            "activation_11 (Activation)      (None, 7, 7, 64)     0           bn2c_branch2b[0][0]              \n",
            "__________________________________________________________________________________________________\n",
            "res2c_branch2c (Conv2D)         (None, 7, 7, 256)    16640       activation_11[0][0]              \n",
            "__________________________________________________________________________________________________\n",
            "bn2c_branch2c (BatchNormalizati (None, 7, 7, 256)    1024        res2c_branch2c[0][0]             \n",
            "__________________________________________________________________________________________________\n",
            "add_3 (Add)                     (None, 7, 7, 256)    0           bn2c_branch2c[0][0]              \n",
            "                                                                 activation_9[0][0]               \n",
            "__________________________________________________________________________________________________\n",
            "activation_12 (Activation)      (None, 7, 7, 256)    0           add_3[0][0]                      \n",
            "__________________________________________________________________________________________________\n",
            "res3a_branch2a (Conv2D)         (None, 4, 4, 128)    32896       activation_12[0][0]              \n",
            "__________________________________________________________________________________________________\n",
            "bn3a_branch2a (BatchNormalizati (None, 4, 4, 128)    512         res3a_branch2a[0][0]             \n",
            "__________________________________________________________________________________________________\n",
            "activation_13 (Activation)      (None, 4, 4, 128)    0           bn3a_branch2a[0][0]              \n",
            "__________________________________________________________________________________________________\n",
            "res3a_branch2b (Conv2D)         (None, 4, 4, 128)    147584      activation_13[0][0]              \n",
            "__________________________________________________________________________________________________\n",
            "bn3a_branch2b (BatchNormalizati (None, 4, 4, 128)    512         res3a_branch2b[0][0]             \n",
            "__________________________________________________________________________________________________\n",
            "activation_14 (Activation)      (None, 4, 4, 128)    0           bn3a_branch2b[0][0]              \n",
            "__________________________________________________________________________________________________\n",
            "res3a_branch2c (Conv2D)         (None, 4, 4, 512)    66048       activation_14[0][0]              \n",
            "__________________________________________________________________________________________________\n",
            "res3a_branch1 (Conv2D)          (None, 4, 4, 512)    131584      activation_12[0][0]              \n",
            "__________________________________________________________________________________________________\n",
            "bn3a_branch2c (BatchNormalizati (None, 4, 4, 512)    2048        res3a_branch2c[0][0]             \n",
            "__________________________________________________________________________________________________\n",
            "bn3a_branch1 (BatchNormalizatio (None, 4, 4, 512)    2048        res3a_branch1[0][0]              \n",
            "__________________________________________________________________________________________________\n",
            "add_4 (Add)                     (None, 4, 4, 512)    0           bn3a_branch2c[0][0]              \n",
            "                                                                 bn3a_branch1[0][0]               \n",
            "__________________________________________________________________________________________________\n",
            "activation_15 (Activation)      (None, 4, 4, 512)    0           add_4[0][0]                      \n",
            "__________________________________________________________________________________________________\n",
            "res3b_branch2a (Conv2D)         (None, 4, 4, 128)    65664       activation_15[0][0]              \n",
            "__________________________________________________________________________________________________\n",
            "bn3b_branch2a (BatchNormalizati (None, 4, 4, 128)    512         res3b_branch2a[0][0]             \n",
            "__________________________________________________________________________________________________\n",
            "activation_16 (Activation)      (None, 4, 4, 128)    0           bn3b_branch2a[0][0]              \n",
            "__________________________________________________________________________________________________\n",
            "res3b_branch2b (Conv2D)         (None, 4, 4, 128)    147584      activation_16[0][0]              \n",
            "__________________________________________________________________________________________________\n",
            "bn3b_branch2b (BatchNormalizati (None, 4, 4, 128)    512         res3b_branch2b[0][0]             \n",
            "__________________________________________________________________________________________________\n",
            "activation_17 (Activation)      (None, 4, 4, 128)    0           bn3b_branch2b[0][0]              \n",
            "__________________________________________________________________________________________________\n",
            "res3b_branch2c (Conv2D)         (None, 4, 4, 512)    66048       activation_17[0][0]              \n",
            "__________________________________________________________________________________________________\n",
            "bn3b_branch2c (BatchNormalizati (None, 4, 4, 512)    2048        res3b_branch2c[0][0]             \n",
            "__________________________________________________________________________________________________\n",
            "add_5 (Add)                     (None, 4, 4, 512)    0           bn3b_branch2c[0][0]              \n",
            "                                                                 activation_15[0][0]              \n",
            "__________________________________________________________________________________________________\n",
            "activation_18 (Activation)      (None, 4, 4, 512)    0           add_5[0][0]                      \n",
            "__________________________________________________________________________________________________\n",
            "res3c_branch2a (Conv2D)         (None, 4, 4, 128)    65664       activation_18[0][0]              \n",
            "__________________________________________________________________________________________________\n",
            "bn3c_branch2a (BatchNormalizati (None, 4, 4, 128)    512         res3c_branch2a[0][0]             \n",
            "__________________________________________________________________________________________________\n",
            "activation_19 (Activation)      (None, 4, 4, 128)    0           bn3c_branch2a[0][0]              \n",
            "__________________________________________________________________________________________________\n",
            "res3c_branch2b (Conv2D)         (None, 4, 4, 128)    147584      activation_19[0][0]              \n",
            "__________________________________________________________________________________________________\n",
            "bn3c_branch2b (BatchNormalizati (None, 4, 4, 128)    512         res3c_branch2b[0][0]             \n",
            "__________________________________________________________________________________________________\n",
            "activation_20 (Activation)      (None, 4, 4, 128)    0           bn3c_branch2b[0][0]              \n",
            "__________________________________________________________________________________________________\n",
            "res3c_branch2c (Conv2D)         (None, 4, 4, 512)    66048       activation_20[0][0]              \n",
            "__________________________________________________________________________________________________\n",
            "bn3c_branch2c (BatchNormalizati (None, 4, 4, 512)    2048        res3c_branch2c[0][0]             \n",
            "__________________________________________________________________________________________________\n",
            "add_6 (Add)                     (None, 4, 4, 512)    0           bn3c_branch2c[0][0]              \n",
            "                                                                 activation_18[0][0]              \n",
            "__________________________________________________________________________________________________\n",
            "activation_21 (Activation)      (None, 4, 4, 512)    0           add_6[0][0]                      \n",
            "__________________________________________________________________________________________________\n",
            "res3d_branch2a (Conv2D)         (None, 4, 4, 128)    65664       activation_21[0][0]              \n",
            "__________________________________________________________________________________________________\n",
            "bn3d_branch2a (BatchNormalizati (None, 4, 4, 128)    512         res3d_branch2a[0][0]             \n",
            "__________________________________________________________________________________________________\n",
            "activation_22 (Activation)      (None, 4, 4, 128)    0           bn3d_branch2a[0][0]              \n",
            "__________________________________________________________________________________________________\n",
            "res3d_branch2b (Conv2D)         (None, 4, 4, 128)    147584      activation_22[0][0]              \n",
            "__________________________________________________________________________________________________\n",
            "bn3d_branch2b (BatchNormalizati (None, 4, 4, 128)    512         res3d_branch2b[0][0]             \n",
            "__________________________________________________________________________________________________\n",
            "activation_23 (Activation)      (None, 4, 4, 128)    0           bn3d_branch2b[0][0]              \n",
            "__________________________________________________________________________________________________\n",
            "res3d_branch2c (Conv2D)         (None, 4, 4, 512)    66048       activation_23[0][0]              \n",
            "__________________________________________________________________________________________________\n",
            "bn3d_branch2c (BatchNormalizati (None, 4, 4, 512)    2048        res3d_branch2c[0][0]             \n",
            "__________________________________________________________________________________________________\n",
            "add_7 (Add)                     (None, 4, 4, 512)    0           bn3d_branch2c[0][0]              \n",
            "                                                                 activation_21[0][0]              \n",
            "__________________________________________________________________________________________________\n",
            "activation_24 (Activation)      (None, 4, 4, 512)    0           add_7[0][0]                      \n",
            "__________________________________________________________________________________________________\n",
            "res4a_branch2a (Conv2D)         (None, 2, 2, 256)    131328      activation_24[0][0]              \n",
            "__________________________________________________________________________________________________\n",
            "bn4a_branch2a (BatchNormalizati (None, 2, 2, 256)    1024        res4a_branch2a[0][0]             \n",
            "__________________________________________________________________________________________________\n",
            "activation_25 (Activation)      (None, 2, 2, 256)    0           bn4a_branch2a[0][0]              \n",
            "__________________________________________________________________________________________________\n",
            "res4a_branch2b (Conv2D)         (None, 2, 2, 256)    590080      activation_25[0][0]              \n",
            "__________________________________________________________________________________________________\n",
            "bn4a_branch2b (BatchNormalizati (None, 2, 2, 256)    1024        res4a_branch2b[0][0]             \n",
            "__________________________________________________________________________________________________\n",
            "activation_26 (Activation)      (None, 2, 2, 256)    0           bn4a_branch2b[0][0]              \n",
            "__________________________________________________________________________________________________\n",
            "res4a_branch2c (Conv2D)         (None, 2, 2, 1024)   263168      activation_26[0][0]              \n",
            "__________________________________________________________________________________________________\n",
            "res4a_branch1 (Conv2D)          (None, 2, 2, 1024)   525312      activation_24[0][0]              \n",
            "__________________________________________________________________________________________________\n",
            "bn4a_branch2c (BatchNormalizati (None, 2, 2, 1024)   4096        res4a_branch2c[0][0]             \n",
            "__________________________________________________________________________________________________\n",
            "bn4a_branch1 (BatchNormalizatio (None, 2, 2, 1024)   4096        res4a_branch1[0][0]              \n",
            "__________________________________________________________________________________________________\n",
            "add_8 (Add)                     (None, 2, 2, 1024)   0           bn4a_branch2c[0][0]              \n",
            "                                                                 bn4a_branch1[0][0]               \n",
            "__________________________________________________________________________________________________\n",
            "activation_27 (Activation)      (None, 2, 2, 1024)   0           add_8[0][0]                      \n",
            "__________________________________________________________________________________________________\n",
            "res4b_branch2a (Conv2D)         (None, 2, 2, 256)    262400      activation_27[0][0]              \n",
            "__________________________________________________________________________________________________\n",
            "bn4b_branch2a (BatchNormalizati (None, 2, 2, 256)    1024        res4b_branch2a[0][0]             \n",
            "__________________________________________________________________________________________________\n",
            "activation_28 (Activation)      (None, 2, 2, 256)    0           bn4b_branch2a[0][0]              \n",
            "__________________________________________________________________________________________________\n",
            "res4b_branch2b (Conv2D)         (None, 2, 2, 256)    590080      activation_28[0][0]              \n",
            "__________________________________________________________________________________________________\n",
            "bn4b_branch2b (BatchNormalizati (None, 2, 2, 256)    1024        res4b_branch2b[0][0]             \n",
            "__________________________________________________________________________________________________\n",
            "activation_29 (Activation)      (None, 2, 2, 256)    0           bn4b_branch2b[0][0]              \n",
            "__________________________________________________________________________________________________\n",
            "res4b_branch2c (Conv2D)         (None, 2, 2, 1024)   263168      activation_29[0][0]              \n",
            "__________________________________________________________________________________________________\n",
            "bn4b_branch2c (BatchNormalizati (None, 2, 2, 1024)   4096        res4b_branch2c[0][0]             \n",
            "__________________________________________________________________________________________________\n",
            "add_9 (Add)                     (None, 2, 2, 1024)   0           bn4b_branch2c[0][0]              \n",
            "                                                                 activation_27[0][0]              \n",
            "__________________________________________________________________________________________________\n",
            "activation_30 (Activation)      (None, 2, 2, 1024)   0           add_9[0][0]                      \n",
            "__________________________________________________________________________________________________\n",
            "res4c_branch2a (Conv2D)         (None, 2, 2, 256)    262400      activation_30[0][0]              \n",
            "__________________________________________________________________________________________________\n",
            "bn4c_branch2a (BatchNormalizati (None, 2, 2, 256)    1024        res4c_branch2a[0][0]             \n",
            "__________________________________________________________________________________________________\n",
            "activation_31 (Activation)      (None, 2, 2, 256)    0           bn4c_branch2a[0][0]              \n",
            "__________________________________________________________________________________________________\n",
            "res4c_branch2b (Conv2D)         (None, 2, 2, 256)    590080      activation_31[0][0]              \n",
            "__________________________________________________________________________________________________\n",
            "bn4c_branch2b (BatchNormalizati (None, 2, 2, 256)    1024        res4c_branch2b[0][0]             \n",
            "__________________________________________________________________________________________________\n",
            "activation_32 (Activation)      (None, 2, 2, 256)    0           bn4c_branch2b[0][0]              \n",
            "__________________________________________________________________________________________________\n",
            "res4c_branch2c (Conv2D)         (None, 2, 2, 1024)   263168      activation_32[0][0]              \n",
            "__________________________________________________________________________________________________\n",
            "bn4c_branch2c (BatchNormalizati (None, 2, 2, 1024)   4096        res4c_branch2c[0][0]             \n",
            "__________________________________________________________________________________________________\n",
            "add_10 (Add)                    (None, 2, 2, 1024)   0           bn4c_branch2c[0][0]              \n",
            "                                                                 activation_30[0][0]              \n",
            "__________________________________________________________________________________________________\n",
            "activation_33 (Activation)      (None, 2, 2, 1024)   0           add_10[0][0]                     \n",
            "__________________________________________________________________________________________________\n",
            "res4d_branch2a (Conv2D)         (None, 2, 2, 256)    262400      activation_33[0][0]              \n",
            "__________________________________________________________________________________________________\n",
            "bn4d_branch2a (BatchNormalizati (None, 2, 2, 256)    1024        res4d_branch2a[0][0]             \n",
            "__________________________________________________________________________________________________\n",
            "activation_34 (Activation)      (None, 2, 2, 256)    0           bn4d_branch2a[0][0]              \n",
            "__________________________________________________________________________________________________\n",
            "res4d_branch2b (Conv2D)         (None, 2, 2, 256)    590080      activation_34[0][0]              \n",
            "__________________________________________________________________________________________________\n",
            "bn4d_branch2b (BatchNormalizati (None, 2, 2, 256)    1024        res4d_branch2b[0][0]             \n",
            "__________________________________________________________________________________________________\n",
            "activation_35 (Activation)      (None, 2, 2, 256)    0           bn4d_branch2b[0][0]              \n",
            "__________________________________________________________________________________________________\n",
            "res4d_branch2c (Conv2D)         (None, 2, 2, 1024)   263168      activation_35[0][0]              \n",
            "__________________________________________________________________________________________________\n",
            "bn4d_branch2c (BatchNormalizati (None, 2, 2, 1024)   4096        res4d_branch2c[0][0]             \n",
            "__________________________________________________________________________________________________\n",
            "add_11 (Add)                    (None, 2, 2, 1024)   0           bn4d_branch2c[0][0]              \n",
            "                                                                 activation_33[0][0]              \n",
            "__________________________________________________________________________________________________\n",
            "activation_36 (Activation)      (None, 2, 2, 1024)   0           add_11[0][0]                     \n",
            "__________________________________________________________________________________________________\n",
            "res4e_branch2a (Conv2D)         (None, 2, 2, 256)    262400      activation_36[0][0]              \n",
            "__________________________________________________________________________________________________\n",
            "bn4e_branch2a (BatchNormalizati (None, 2, 2, 256)    1024        res4e_branch2a[0][0]             \n",
            "__________________________________________________________________________________________________\n",
            "activation_37 (Activation)      (None, 2, 2, 256)    0           bn4e_branch2a[0][0]              \n",
            "__________________________________________________________________________________________________\n",
            "res4e_branch2b (Conv2D)         (None, 2, 2, 256)    590080      activation_37[0][0]              \n",
            "__________________________________________________________________________________________________\n",
            "bn4e_branch2b (BatchNormalizati (None, 2, 2, 256)    1024        res4e_branch2b[0][0]             \n",
            "__________________________________________________________________________________________________\n",
            "activation_38 (Activation)      (None, 2, 2, 256)    0           bn4e_branch2b[0][0]              \n",
            "__________________________________________________________________________________________________\n",
            "res4e_branch2c (Conv2D)         (None, 2, 2, 1024)   263168      activation_38[0][0]              \n",
            "__________________________________________________________________________________________________\n",
            "bn4e_branch2c (BatchNormalizati (None, 2, 2, 1024)   4096        res4e_branch2c[0][0]             \n",
            "__________________________________________________________________________________________________\n",
            "add_12 (Add)                    (None, 2, 2, 1024)   0           bn4e_branch2c[0][0]              \n",
            "                                                                 activation_36[0][0]              \n",
            "__________________________________________________________________________________________________\n",
            "activation_39 (Activation)      (None, 2, 2, 1024)   0           add_12[0][0]                     \n",
            "__________________________________________________________________________________________________\n",
            "res4f_branch2a (Conv2D)         (None, 2, 2, 256)    262400      activation_39[0][0]              \n",
            "__________________________________________________________________________________________________\n",
            "bn4f_branch2a (BatchNormalizati (None, 2, 2, 256)    1024        res4f_branch2a[0][0]             \n",
            "__________________________________________________________________________________________________\n",
            "activation_40 (Activation)      (None, 2, 2, 256)    0           bn4f_branch2a[0][0]              \n",
            "__________________________________________________________________________________________________\n",
            "res4f_branch2b (Conv2D)         (None, 2, 2, 256)    590080      activation_40[0][0]              \n",
            "__________________________________________________________________________________________________\n",
            "bn4f_branch2b (BatchNormalizati (None, 2, 2, 256)    1024        res4f_branch2b[0][0]             \n",
            "__________________________________________________________________________________________________\n",
            "activation_41 (Activation)      (None, 2, 2, 256)    0           bn4f_branch2b[0][0]              \n",
            "__________________________________________________________________________________________________\n",
            "res4f_branch2c (Conv2D)         (None, 2, 2, 1024)   263168      activation_41[0][0]              \n",
            "__________________________________________________________________________________________________\n",
            "bn4f_branch2c (BatchNormalizati (None, 2, 2, 1024)   4096        res4f_branch2c[0][0]             \n",
            "__________________________________________________________________________________________________\n",
            "add_13 (Add)                    (None, 2, 2, 1024)   0           bn4f_branch2c[0][0]              \n",
            "                                                                 activation_39[0][0]              \n",
            "__________________________________________________________________________________________________\n",
            "activation_42 (Activation)      (None, 2, 2, 1024)   0           add_13[0][0]                     \n",
            "__________________________________________________________________________________________________\n",
            "avg_pool (AveragePooling2D)     (None, 1, 1, 1024)   0           activation_42[0][0]              \n",
            "__________________________________________________________________________________________________\n",
            "flatten (Flatten)               (None, 1024)         0           avg_pool[0][0]                   \n",
            "__________________________________________________________________________________________________\n",
            "fc10 (Dense)                    (None, 10)           10250       flatten[0][0]                    \n",
            "==================================================================================================\n",
            "Total params: 8,599,434\n",
            "Trainable params: 8,568,842\n",
            "Non-trainable params: 30,592\n",
            "__________________________________________________________________________________________________\n"
          ],
          "name": "stdout"
        }
      ]
    },
    {
      "cell_type": "code",
      "metadata": {
        "id": "J650haCoa57V"
      },
      "source": [
        "model.compile(optimizer='adam', loss='categorical_crossentropy', metrics=['accuracy'])"
      ],
      "execution_count": 19,
      "outputs": []
    },
    {
      "cell_type": "code",
      "metadata": {
        "id": "7PW7D-k47sHt"
      },
      "source": [
        "# history = model.fit(train_generator.flow(X_train, y_train, batch_size=32), \n",
        "#                     epochs = 100,\n",
        "#                     batch_size = 64)"
      ],
      "execution_count": 20,
      "outputs": []
    },
    {
      "cell_type": "code",
      "metadata": {
        "id": "aNXPO4rja57V",
        "colab": {
          "base_uri": "https://localhost:8080/"
        },
        "outputId": "bad54b5c-aa39-4c97-8381-709487d5ece5"
      },
      "source": [
        "history = model.fit(train_generator.flow(X_train, y_train, batch_size=32), \n",
        "                    epochs = 100,\n",
        "                    batch_size = 64,\n",
        "                    validation_data = val_generator.flow(X_val, y_val, batch_size=32))"
      ],
      "execution_count": 21,
      "outputs": [
        {
          "output_type": "stream",
          "text": [
            "Epoch 1/100\n",
            "2813/2813 [==============================] - 103s 35ms/step - loss: 2.7535 - accuracy: 0.1799 - val_loss: 2.8996 - val_accuracy: 0.2204\n",
            "Epoch 2/100\n",
            "2813/2813 [==============================] - 98s 35ms/step - loss: 2.3348 - accuracy: 0.2204 - val_loss: 7.2201 - val_accuracy: 0.2112\n",
            "Epoch 3/100\n",
            "2813/2813 [==============================] - 98s 35ms/step - loss: 2.2371 - accuracy: 0.2560 - val_loss: 2.6931 - val_accuracy: 0.1293\n",
            "Epoch 4/100\n",
            "2813/2813 [==============================] - 98s 35ms/step - loss: 2.1078 - accuracy: 0.2768 - val_loss: 7.1213 - val_accuracy: 0.2065\n",
            "Epoch 5/100\n",
            "2813/2813 [==============================] - 97s 34ms/step - loss: 2.0870 - accuracy: 0.2963 - val_loss: 4.3529 - val_accuracy: 0.3123\n",
            "Epoch 6/100\n",
            "2813/2813 [==============================] - 97s 35ms/step - loss: 2.0332 - accuracy: 0.3272 - val_loss: 2.1582 - val_accuracy: 0.2919\n",
            "Epoch 7/100\n",
            "2813/2813 [==============================] - 96s 34ms/step - loss: 2.0094 - accuracy: 0.3468 - val_loss: 4.2752 - val_accuracy: 0.3366\n",
            "Epoch 8/100\n",
            "2813/2813 [==============================] - 96s 34ms/step - loss: 1.9933 - accuracy: 0.3541 - val_loss: 2.6688 - val_accuracy: 0.3389\n",
            "Epoch 9/100\n",
            "2813/2813 [==============================] - 96s 34ms/step - loss: 1.9719 - accuracy: 0.3690 - val_loss: 2.0791 - val_accuracy: 0.3454\n",
            "Epoch 10/100\n",
            "2813/2813 [==============================] - 96s 34ms/step - loss: 1.9640 - accuracy: 0.3742 - val_loss: 2.0144 - val_accuracy: 0.3711\n",
            "Epoch 11/100\n",
            "2813/2813 [==============================] - 96s 34ms/step - loss: 1.9401 - accuracy: 0.3886 - val_loss: 2.2359 - val_accuracy: 0.3692\n",
            "Epoch 12/100\n",
            "2813/2813 [==============================] - 97s 34ms/step - loss: 1.9361 - accuracy: 0.3916 - val_loss: 2.1835 - val_accuracy: 0.3804\n",
            "Epoch 13/100\n",
            "2813/2813 [==============================] - 96s 34ms/step - loss: 1.9144 - accuracy: 0.4018 - val_loss: 2.2656 - val_accuracy: 0.3708\n",
            "Epoch 14/100\n",
            "2813/2813 [==============================] - 96s 34ms/step - loss: 1.9004 - accuracy: 0.4107 - val_loss: 2.3194 - val_accuracy: 0.3902\n",
            "Epoch 15/100\n",
            "2813/2813 [==============================] - 96s 34ms/step - loss: 1.8942 - accuracy: 0.4147 - val_loss: 2.4465 - val_accuracy: 0.4014\n",
            "Epoch 16/100\n",
            "2813/2813 [==============================] - 96s 34ms/step - loss: 1.8724 - accuracy: 0.4263 - val_loss: 2.1287 - val_accuracy: 0.3675\n",
            "Epoch 17/100\n",
            "2813/2813 [==============================] - 96s 34ms/step - loss: 1.8696 - accuracy: 0.4266 - val_loss: 2.4441 - val_accuracy: 0.3904\n",
            "Epoch 18/100\n",
            "2813/2813 [==============================] - 96s 34ms/step - loss: 1.8588 - accuracy: 0.4324 - val_loss: 2.1305 - val_accuracy: 0.3934\n",
            "Epoch 19/100\n",
            "2813/2813 [==============================] - 96s 34ms/step - loss: 1.8583 - accuracy: 0.4338 - val_loss: 2.4806 - val_accuracy: 0.3967\n",
            "Epoch 20/100\n",
            "2813/2813 [==============================] - 96s 34ms/step - loss: 1.8491 - accuracy: 0.4371 - val_loss: 5.0078 - val_accuracy: 0.3499\n",
            "Epoch 21/100\n",
            "2813/2813 [==============================] - 96s 34ms/step - loss: 1.8371 - accuracy: 0.4421 - val_loss: 3.1204 - val_accuracy: 0.3603\n",
            "Epoch 22/100\n",
            "2813/2813 [==============================] - 96s 34ms/step - loss: 1.8309 - accuracy: 0.4444 - val_loss: 2.0865 - val_accuracy: 0.3997\n",
            "Epoch 23/100\n",
            "2813/2813 [==============================] - 96s 34ms/step - loss: 1.8305 - accuracy: 0.4449 - val_loss: 2.7138 - val_accuracy: 0.3806\n",
            "Epoch 24/100\n",
            "2813/2813 [==============================] - 96s 34ms/step - loss: 1.8291 - accuracy: 0.4440 - val_loss: 1.9901 - val_accuracy: 0.3934\n",
            "Epoch 25/100\n",
            "2813/2813 [==============================] - 98s 35ms/step - loss: 1.7984 - accuracy: 0.4591 - val_loss: 2.3947 - val_accuracy: 0.3892\n",
            "Epoch 26/100\n",
            "2813/2813 [==============================] - 97s 34ms/step - loss: 1.8001 - accuracy: 0.4582 - val_loss: 2.1116 - val_accuracy: 0.4056\n",
            "Epoch 27/100\n",
            "2813/2813 [==============================] - 96s 34ms/step - loss: 1.7885 - accuracy: 0.4608 - val_loss: 2.3750 - val_accuracy: 0.4058\n",
            "Epoch 28/100\n",
            "2813/2813 [==============================] - 96s 34ms/step - loss: 1.7727 - accuracy: 0.4661 - val_loss: 2.8585 - val_accuracy: 0.3934\n",
            "Epoch 29/100\n",
            "2813/2813 [==============================] - 96s 34ms/step - loss: 1.7771 - accuracy: 0.4630 - val_loss: 4.4144 - val_accuracy: 0.3954\n",
            "Epoch 30/100\n",
            "2813/2813 [==============================] - 96s 34ms/step - loss: 1.7797 - accuracy: 0.4606 - val_loss: 3.3838 - val_accuracy: 0.3966\n",
            "Epoch 31/100\n",
            "2813/2813 [==============================] - 97s 34ms/step - loss: 1.7649 - accuracy: 0.4681 - val_loss: 5.7123 - val_accuracy: 0.3804\n",
            "Epoch 32/100\n",
            "2813/2813 [==============================] - 96s 34ms/step - loss: 1.7537 - accuracy: 0.4704 - val_loss: 3.0051 - val_accuracy: 0.4093\n",
            "Epoch 33/100\n",
            "2813/2813 [==============================] - 97s 34ms/step - loss: 1.7380 - accuracy: 0.4742 - val_loss: 3.0575 - val_accuracy: 0.4032\n",
            "Epoch 34/100\n",
            "2813/2813 [==============================] - 96s 34ms/step - loss: 1.7385 - accuracy: 0.4730 - val_loss: 2.8251 - val_accuracy: 0.4005\n",
            "Epoch 35/100\n",
            "2813/2813 [==============================] - 96s 34ms/step - loss: 1.7380 - accuracy: 0.4716 - val_loss: 3.4602 - val_accuracy: 0.4091\n",
            "Epoch 36/100\n",
            "2813/2813 [==============================] - 97s 34ms/step - loss: 1.7286 - accuracy: 0.4732 - val_loss: 3.7125 - val_accuracy: 0.4013\n",
            "Epoch 37/100\n",
            "2813/2813 [==============================] - 96s 34ms/step - loss: 1.7149 - accuracy: 0.4779 - val_loss: 3.3831 - val_accuracy: 0.3468\n",
            "Epoch 38/100\n",
            "2813/2813 [==============================] - 96s 34ms/step - loss: 1.7091 - accuracy: 0.4777 - val_loss: 3.8432 - val_accuracy: 0.4102\n",
            "Epoch 39/100\n",
            "2813/2813 [==============================] - 96s 34ms/step - loss: 1.6861 - accuracy: 0.4854 - val_loss: 3.2659 - val_accuracy: 0.4116\n",
            "Epoch 40/100\n",
            "2813/2813 [==============================] - 96s 34ms/step - loss: 1.6628 - accuracy: 0.4929 - val_loss: 7.8222 - val_accuracy: 0.3851\n",
            "Epoch 41/100\n",
            "2813/2813 [==============================] - 96s 34ms/step - loss: 1.6703 - accuracy: 0.4853 - val_loss: 7.6362 - val_accuracy: 0.4099\n",
            "Epoch 42/100\n",
            "2813/2813 [==============================] - 96s 34ms/step - loss: 1.6465 - accuracy: 0.4902 - val_loss: 9.1605 - val_accuracy: 0.4074\n",
            "Epoch 43/100\n",
            "2813/2813 [==============================] - 96s 34ms/step - loss: 1.6609 - accuracy: 0.4832 - val_loss: 7.6934 - val_accuracy: 0.4118\n",
            "Epoch 44/100\n",
            "2813/2813 [==============================] - 96s 34ms/step - loss: 1.6283 - accuracy: 0.4919 - val_loss: 6.4066 - val_accuracy: 0.4070\n",
            "Epoch 45/100\n",
            "2813/2813 [==============================] - 97s 34ms/step - loss: 1.6211 - accuracy: 0.4909 - val_loss: 6.7396 - val_accuracy: 0.4016\n",
            "Epoch 46/100\n",
            "2813/2813 [==============================] - 96s 34ms/step - loss: 1.6049 - accuracy: 0.4942 - val_loss: 6.1957 - val_accuracy: 0.3865\n",
            "Epoch 47/100\n",
            "2813/2813 [==============================] - 97s 34ms/step - loss: 1.6281 - accuracy: 0.4844 - val_loss: 5.8941 - val_accuracy: 0.4042\n",
            "Epoch 48/100\n",
            "2813/2813 [==============================] - 97s 34ms/step - loss: 1.6204 - accuracy: 0.4902 - val_loss: 14.6056 - val_accuracy: 0.4063\n",
            "Epoch 49/100\n",
            "2813/2813 [==============================] - 96s 34ms/step - loss: 1.5990 - accuracy: 0.4905 - val_loss: 3.1641 - val_accuracy: 0.4032\n",
            "Epoch 50/100\n",
            "2813/2813 [==============================] - 97s 34ms/step - loss: 1.6007 - accuracy: 0.4896 - val_loss: 18.8400 - val_accuracy: 0.3985\n",
            "Epoch 51/100\n",
            "2813/2813 [==============================] - 96s 34ms/step - loss: 1.5811 - accuracy: 0.4948 - val_loss: 8.7390 - val_accuracy: 0.3963\n",
            "Epoch 52/100\n",
            "2813/2813 [==============================] - 96s 34ms/step - loss: 1.5904 - accuracy: 0.4874 - val_loss: 13.1992 - val_accuracy: 0.3839\n",
            "Epoch 53/100\n",
            "2813/2813 [==============================] - 97s 35ms/step - loss: 1.5838 - accuracy: 0.4896 - val_loss: 20.2846 - val_accuracy: 0.3951\n",
            "Epoch 54/100\n",
            "2813/2813 [==============================] - 96s 34ms/step - loss: 1.5912 - accuracy: 0.4853 - val_loss: 23.4528 - val_accuracy: 0.3923\n",
            "Epoch 55/100\n",
            "2813/2813 [==============================] - 96s 34ms/step - loss: 1.5574 - accuracy: 0.4944 - val_loss: 7.9673 - val_accuracy: 0.3947\n",
            "Epoch 56/100\n",
            "2813/2813 [==============================] - 97s 34ms/step - loss: 1.5539 - accuracy: 0.4925 - val_loss: 21.9265 - val_accuracy: 0.3929\n",
            "Epoch 57/100\n",
            "2813/2813 [==============================] - 97s 34ms/step - loss: 1.5617 - accuracy: 0.4887 - val_loss: 10.2685 - val_accuracy: 0.3741\n",
            "Epoch 58/100\n",
            "2813/2813 [==============================] - 97s 34ms/step - loss: 1.5537 - accuracy: 0.4894 - val_loss: 17.7692 - val_accuracy: 0.3967\n",
            "Epoch 59/100\n",
            "2813/2813 [==============================] - 98s 35ms/step - loss: 1.5296 - accuracy: 0.4931 - val_loss: 9.8941 - val_accuracy: 0.3845\n",
            "Epoch 60/100\n",
            "2813/2813 [==============================] - 97s 34ms/step - loss: 1.5830 - accuracy: 0.4831 - val_loss: 15.1057 - val_accuracy: 0.3893\n",
            "Epoch 61/100\n",
            "2813/2813 [==============================] - 97s 34ms/step - loss: 1.5091 - accuracy: 0.4954 - val_loss: 14.7240 - val_accuracy: 0.3698\n",
            "Epoch 62/100\n",
            "2813/2813 [==============================] - 97s 34ms/step - loss: 1.5337 - accuracy: 0.4923 - val_loss: 11.3688 - val_accuracy: 0.4002\n",
            "Epoch 63/100\n",
            "2813/2813 [==============================] - 97s 34ms/step - loss: 1.4841 - accuracy: 0.4958 - val_loss: 10.2774 - val_accuracy: 0.3879\n",
            "Epoch 64/100\n",
            "2813/2813 [==============================] - 97s 34ms/step - loss: 1.4882 - accuracy: 0.4969 - val_loss: 7.6261 - val_accuracy: 0.3907\n",
            "Epoch 65/100\n",
            "2813/2813 [==============================] - 97s 34ms/step - loss: 1.4817 - accuracy: 0.4963 - val_loss: 9.4854 - val_accuracy: 0.3915\n",
            "Epoch 66/100\n",
            "2813/2813 [==============================] - 97s 35ms/step - loss: 1.4925 - accuracy: 0.4950 - val_loss: 18.5955 - val_accuracy: 0.3869\n",
            "Epoch 67/100\n",
            "2813/2813 [==============================] - 97s 34ms/step - loss: 1.4623 - accuracy: 0.4998 - val_loss: 8.8032 - val_accuracy: 0.3838\n",
            "Epoch 68/100\n",
            "2813/2813 [==============================] - 97s 35ms/step - loss: 1.4379 - accuracy: 0.5015 - val_loss: 11.7373 - val_accuracy: 0.3904\n",
            "Epoch 69/100\n",
            "2813/2813 [==============================] - 97s 35ms/step - loss: 1.4347 - accuracy: 0.4999 - val_loss: 16.9483 - val_accuracy: 0.3913\n",
            "Epoch 70/100\n",
            "2813/2813 [==============================] - 97s 34ms/step - loss: 1.4043 - accuracy: 0.5025 - val_loss: 31.9516 - val_accuracy: 0.3833\n",
            "Epoch 71/100\n",
            "2813/2813 [==============================] - 97s 35ms/step - loss: 1.4067 - accuracy: 0.4986 - val_loss: 33.2508 - val_accuracy: 0.3900\n",
            "Epoch 72/100\n",
            "2813/2813 [==============================] - 97s 34ms/step - loss: 1.4036 - accuracy: 0.4982 - val_loss: 18.7012 - val_accuracy: 0.3539\n",
            "Epoch 73/100\n",
            "2813/2813 [==============================] - 97s 35ms/step - loss: 1.4537 - accuracy: 0.4917 - val_loss: 24.8411 - val_accuracy: 0.3844\n",
            "Epoch 74/100\n",
            "2813/2813 [==============================] - 98s 35ms/step - loss: 1.4039 - accuracy: 0.4985 - val_loss: 14.0409 - val_accuracy: 0.3820\n",
            "Epoch 75/100\n",
            "2813/2813 [==============================] - 98s 35ms/step - loss: 1.4276 - accuracy: 0.4977 - val_loss: 44.2751 - val_accuracy: 0.3727\n",
            "Epoch 76/100\n",
            "2813/2813 [==============================] - 98s 35ms/step - loss: 1.3899 - accuracy: 0.4999 - val_loss: 34.7382 - val_accuracy: 0.3809\n",
            "Epoch 77/100\n",
            "2813/2813 [==============================] - 98s 35ms/step - loss: 1.3839 - accuracy: 0.4973 - val_loss: 21.2782 - val_accuracy: 0.3859\n",
            "Epoch 78/100\n",
            "2813/2813 [==============================] - 97s 34ms/step - loss: 1.3883 - accuracy: 0.4975 - val_loss: 36.0847 - val_accuracy: 0.3747\n",
            "Epoch 79/100\n",
            "2813/2813 [==============================] - 97s 35ms/step - loss: 1.3650 - accuracy: 0.5015 - val_loss: 39.4874 - val_accuracy: 0.3707\n",
            "Epoch 80/100\n",
            "2813/2813 [==============================] - 98s 35ms/step - loss: 1.3778 - accuracy: 0.5005 - val_loss: 63.8522 - val_accuracy: 0.3833\n",
            "Epoch 81/100\n",
            "2813/2813 [==============================] - 97s 35ms/step - loss: 1.3372 - accuracy: 0.5022 - val_loss: 58.5806 - val_accuracy: 0.3759\n",
            "Epoch 82/100\n",
            "2813/2813 [==============================] - 98s 35ms/step - loss: 1.3311 - accuracy: 0.5027 - val_loss: 117.9098 - val_accuracy: 0.3797\n",
            "Epoch 83/100\n",
            "2813/2813 [==============================] - 97s 35ms/step - loss: 1.3315 - accuracy: 0.4985 - val_loss: 47.6749 - val_accuracy: 0.3776\n",
            "Epoch 84/100\n",
            "2813/2813 [==============================] - 97s 35ms/step - loss: 1.3472 - accuracy: 0.4960 - val_loss: 22.3594 - val_accuracy: 0.3776\n",
            "Epoch 85/100\n",
            "2813/2813 [==============================] - 98s 35ms/step - loss: 1.3041 - accuracy: 0.5033 - val_loss: 17.6561 - val_accuracy: 0.3674\n",
            "Epoch 86/100\n",
            "2813/2813 [==============================] - 98s 35ms/step - loss: 1.3310 - accuracy: 0.5004 - val_loss: 57.0562 - val_accuracy: 0.3772\n",
            "Epoch 87/100\n",
            "2813/2813 [==============================] - 99s 35ms/step - loss: 1.3233 - accuracy: 0.4976 - val_loss: 29.7695 - val_accuracy: 0.3832\n",
            "Epoch 88/100\n",
            "2813/2813 [==============================] - 99s 35ms/step - loss: 1.2937 - accuracy: 0.5059 - val_loss: 74.9065 - val_accuracy: 0.3834\n",
            "Epoch 89/100\n",
            "2813/2813 [==============================] - 102s 36ms/step - loss: 1.2574 - accuracy: 0.5068 - val_loss: 116.6651 - val_accuracy: 0.3757\n",
            "Epoch 90/100\n",
            "2813/2813 [==============================] - 104s 37ms/step - loss: 1.2671 - accuracy: 0.5033 - val_loss: 61.2406 - val_accuracy: 0.3790\n",
            "Epoch 91/100\n",
            "2813/2813 [==============================] - 103s 37ms/step - loss: 1.2794 - accuracy: 0.5010 - val_loss: 47.5841 - val_accuracy: 0.3678\n",
            "Epoch 92/100\n",
            "2813/2813 [==============================] - 101s 36ms/step - loss: 1.2466 - accuracy: 0.5090 - val_loss: 65.6701 - val_accuracy: 0.3663\n",
            "Epoch 93/100\n",
            "2813/2813 [==============================] - 98s 35ms/step - loss: 1.2388 - accuracy: 0.5065 - val_loss: 79.6281 - val_accuracy: 0.3764\n",
            "Epoch 94/100\n",
            "2813/2813 [==============================] - 98s 35ms/step - loss: 1.2193 - accuracy: 0.5049 - val_loss: 120.3939 - val_accuracy: 0.3734\n",
            "Epoch 95/100\n",
            "2813/2813 [==============================] - 98s 35ms/step - loss: 1.2380 - accuracy: 0.5014 - val_loss: 97.4434 - val_accuracy: 0.3483\n",
            "Epoch 96/100\n",
            "2813/2813 [==============================] - 98s 35ms/step - loss: 1.2124 - accuracy: 0.5067 - val_loss: 115.5909 - val_accuracy: 0.3807\n",
            "Epoch 97/100\n",
            "2813/2813 [==============================] - 98s 35ms/step - loss: 1.2610 - accuracy: 0.5017 - val_loss: 54.8279 - val_accuracy: 0.3731\n",
            "Epoch 98/100\n",
            "2813/2813 [==============================] - 98s 35ms/step - loss: 1.2406 - accuracy: 0.5039 - val_loss: 111.2641 - val_accuracy: 0.3707\n",
            "Epoch 99/100\n",
            "2813/2813 [==============================] - 98s 35ms/step - loss: 1.1922 - accuracy: 0.5075 - val_loss: 326.1489 - val_accuracy: 0.3656\n",
            "Epoch 100/100\n",
            "2813/2813 [==============================] - 99s 35ms/step - loss: 1.2155 - accuracy: 0.5029 - val_loss: 47.2400 - val_accuracy: 0.3725\n"
          ],
          "name": "stdout"
        }
      ]
    },
    {
      "cell_type": "code",
      "metadata": {
        "colab": {
          "base_uri": "https://localhost:8080/"
        },
        "id": "R0bTeqyaa57W",
        "outputId": "5947a0dc-29e4-4e8c-d72b-e0ae0d8d853e"
      },
      "source": [
        "preds = model.evaluate(X_test, y_test)\n",
        "print (\"Loss = \" + str(preds[0]))\n",
        "print (\"Test Accuracy = \" + str(preds[1]))"
      ],
      "execution_count": 22,
      "outputs": [
        {
          "output_type": "stream",
          "text": [
            "313/313 [==============================] - 3s 9ms/step - loss: 81.7657 - accuracy: 0.6500\n",
            "Loss = 81.76570129394531\n",
            "Test Accuracy = 0.6499999761581421\n"
          ],
          "name": "stdout"
        }
      ]
    },
    {
      "cell_type": "code",
      "metadata": {
        "id": "7EJKrOpJa57W"
      },
      "source": [
        "# Pandas and Numpy for data structures and util fucntions\n",
        "import scipy as sp\n",
        "import numpy as np\n",
        "import pandas as pd\n",
        "from numpy.random import rand\n",
        "pd.options.display.max_colwidth = 600\n",
        "\n",
        "# Scikit Imports\n",
        "from sklearn import preprocessing\n",
        "from sklearn.metrics import roc_curve, auc, precision_recall_curve\n",
        "from sklearn.model_selection import train_test_split\n",
        "\n",
        "# import cnn_utils as utils\n",
        "# from model_evaluation_utils import get_metrics\n",
        "\n",
        "# Matplot Imports\n",
        "import matplotlib.pyplot as plt\n",
        "params = {'legend.fontsize': 'x-large',\n",
        "          'figure.figsize': (15, 5),\n",
        "          'axes.labelsize': 'x-large',\n",
        "          'axes.titlesize':'x-large',\n",
        "          'xtick.labelsize':'x-large',\n",
        "          'ytick.labelsize':'x-large'}\n",
        "\n",
        "plt.rcParams.update(params)\n",
        "%matplotlib inline\n",
        "\n",
        "# pandas display data frames as tables\n",
        "from IPython.display import display, HTML\n",
        "\n",
        "import warnings\n",
        "warnings.filterwarnings('ignore')"
      ],
      "execution_count": 23,
      "outputs": []
    },
    {
      "cell_type": "code",
      "metadata": {
        "id": "6mck144_a57W",
        "colab": {
          "base_uri": "https://localhost:8080/",
          "height": 378
        },
        "outputId": "c7bced26-a355-48b9-da1b-52423c48e300"
      },
      "source": [
        "f, (ax1, ax2) = plt.subplots(1, 2, figsize=(15, 5))\n",
        "t = f.suptitle('Deep Neural Net Performance', fontsize=12)\n",
        "f.subplots_adjust(top=0.85, wspace=0.3)\n",
        "\n",
        "epochs = list(range(1,100+1))\n",
        "ax1.plot(epochs, history.history['accuracy'], label='Train Accuracy')\n",
        "ax1.plot(epochs, history.history['val_accuracy'], label='Validation Accuracy')\n",
        "ax1.set_xticks(epochs)\n",
        "ax1.set_ylabel('Accuracy Value')\n",
        "ax1.set_xlabel('Epoch')\n",
        "ax1.set_title('Accuracy')\n",
        "l1 = ax1.legend(loc=\"best\")\n",
        "\n",
        "ax2.plot(epochs, history.history['loss'], label='Train Loss')\n",
        "ax2.plot(epochs, history.history['val_loss'], label='Validation Loss')\n",
        "ax2.set_xticks(epochs)\n",
        "ax2.set_ylabel('Loss Value')\n",
        "ax2.set_xlabel('Epoch')\n",
        "ax2.set_title('Loss')\n",
        "l2 = ax2.legend(loc=\"best\")"
      ],
      "execution_count": 24,
      "outputs": [
        {
          "output_type": "display_data",
          "data": {
            "image/png": "[encoded data removed]",
            "text/plain": [
              "<Figure size 1080x360 with 2 Axes>"
            ]
          },
          "metadata": {
            "tags": [],
            "needs_background": "light"
          }
        }
      ]
    },
    {
      "cell_type": "code",
      "metadata": {
        "id": "TBszz0IWO22x"
      },
      "source": [
        ""
      ],
      "execution_count": null,
      "outputs": []
    }
  ]
}